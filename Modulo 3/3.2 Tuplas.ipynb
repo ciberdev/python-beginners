{
 "cells": [
  {
   "cell_type": "markdown",
   "id": "6233802f",
   "metadata": {},
   "source": [
    "### Tuplas"
   ]
  },
  {
   "cell_type": "code",
   "execution_count": null,
   "id": "4a193da5",
   "metadata": {},
   "outputs": [],
   "source": [
    "# Las tuplas son inmutables\n",
    "tupla = (1, 2, 3)\n",
    "#tupla[0] = 5 # Error! TypeError"
   ]
  },
  {
   "cell_type": "code",
   "execution_count": null,
   "id": "1d7b0a09",
   "metadata": {},
   "outputs": [],
   "source": [
    "# Es posible anidar tuplas\n",
    "tupla = 1, 2, ('a', 'b'), 3\n",
    "print(tupla)       #(1, 2, ('a', 'b'), 3)\n",
    "print(tupla[2][0]) #a"
   ]
  },
  {
   "cell_type": "code",
   "execution_count": null,
   "id": "14758cb4",
   "metadata": {},
   "outputs": [],
   "source": [
    "# Podemos convertir una lista en tupla\n",
    "lista = [1, 2, 3]\n",
    "tupla = tuple(lista)\n",
    "print(type(tupla)) #<class 'tuple'>\n",
    "print(tupla)       #(1, 2, 3)"
   ]
  },
  {
   "cell_type": "code",
   "execution_count": null,
   "id": "18309c67",
   "metadata": {},
   "outputs": [],
   "source": [
    "# Podemos iterar sobre una tupla como con las listas\n",
    "tupla = [1, 2, 3]\n",
    "for t in tupla:\n",
    "    print(t) #1, 2, 3"
   ]
  },
  {
   "cell_type": "code",
   "execution_count": null,
   "id": "ebfeb495",
   "metadata": {},
   "outputs": [],
   "source": [
    "mitupla = (1, 2, 3)\n",
    "x, y, z = mitupla\n",
    "print(x, y, z) #1 2 3"
   ]
  },
  {
   "cell_type": "code",
   "execution_count": 57,
   "id": "7fa833b6",
   "metadata": {},
   "outputs": [
    {
     "data": {
      "text/plain": [
       "(1, 2, 3)"
      ]
     },
     "execution_count": 57,
     "metadata": {},
     "output_type": "execute_result"
    }
   ],
   "source": [
    "tuple([1, 2, 3])"
   ]
  },
  {
   "cell_type": "code",
   "execution_count": 58,
   "id": "439954a1",
   "metadata": {},
   "outputs": [],
   "source": [
    "a = 45,"
   ]
  },
  {
   "cell_type": "code",
   "execution_count": 59,
   "id": "643ac325",
   "metadata": {},
   "outputs": [
    {
     "data": {
      "text/plain": [
       "tuple"
      ]
     },
     "execution_count": 59,
     "metadata": {},
     "output_type": "execute_result"
    }
   ],
   "source": [
    "type(a)"
   ]
  },
  {
   "cell_type": "code",
   "execution_count": 60,
   "id": "b82c3af3",
   "metadata": {},
   "outputs": [
    {
     "data": {
      "text/plain": [
       "['__add__',\n",
       " '__class__',\n",
       " '__class_getitem__',\n",
       " '__contains__',\n",
       " '__delattr__',\n",
       " '__dir__',\n",
       " '__doc__',\n",
       " '__eq__',\n",
       " '__format__',\n",
       " '__ge__',\n",
       " '__getattribute__',\n",
       " '__getitem__',\n",
       " '__getnewargs__',\n",
       " '__gt__',\n",
       " '__hash__',\n",
       " '__init__',\n",
       " '__init_subclass__',\n",
       " '__iter__',\n",
       " '__le__',\n",
       " '__len__',\n",
       " '__lt__',\n",
       " '__mul__',\n",
       " '__ne__',\n",
       " '__new__',\n",
       " '__reduce__',\n",
       " '__reduce_ex__',\n",
       " '__repr__',\n",
       " '__rmul__',\n",
       " '__setattr__',\n",
       " '__sizeof__',\n",
       " '__str__',\n",
       " '__subclasshook__',\n",
       " 'count',\n",
       " 'index']"
      ]
     },
     "execution_count": 60,
     "metadata": {},
     "output_type": "execute_result"
    }
   ],
   "source": [
    "dir(a)"
   ]
  },
  {
   "cell_type": "code",
   "execution_count": 1,
   "id": "fa248517",
   "metadata": {},
   "outputs": [],
   "source": [
    "a = (2, 3, 2, 2, 5)"
   ]
  },
  {
   "cell_type": "code",
   "execution_count": 4,
   "id": "beb1bb69",
   "metadata": {},
   "outputs": [
    {
     "data": {
      "text/plain": [
       "3"
      ]
     },
     "execution_count": 4,
     "metadata": {},
     "output_type": "execute_result"
    }
   ],
   "source": [
    "# Contamos cuantos elementos basados en el parametro elem, hay en el arreglo\n",
    "a.count(2)"
   ]
  },
  {
   "cell_type": "code",
   "execution_count": 6,
   "id": "5aa0a9a3",
   "metadata": {},
   "outputs": [
    {
     "data": {
      "text/plain": [
       "0"
      ]
     },
     "execution_count": 6,
     "metadata": {},
     "output_type": "execute_result"
    }
   ],
   "source": [
    "# Devolvemos el índice de la posición que ocupa el primer elemento (elem) dentro de la tupla a.  El índice inicia en 0.\n",
    "a.index(2)"
   ]
  },
  {
   "cell_type": "code",
   "execution_count": 64,
   "id": "db1734c3",
   "metadata": {},
   "outputs": [
    {
     "data": {
      "text/plain": [
       "2"
      ]
     },
     "execution_count": 64,
     "metadata": {},
     "output_type": "execute_result"
    }
   ],
   "source": [
    "# En este caso definimos un inicio\n",
    "a.index(2, 1)"
   ]
  },
  {
   "cell_type": "code",
   "execution_count": 66,
   "id": "6b068d78",
   "metadata": {},
   "outputs": [
    {
     "data": {
      "text/plain": [
       "(2, 2, 5)"
      ]
     },
     "execution_count": 66,
     "metadata": {},
     "output_type": "execute_result"
    }
   ],
   "source": [
    "# Desplegamos una subsecuencia basada en índices (inicio, fin-1)\n",
    "a[2:5]"
   ]
  },
  {
   "cell_type": "code",
   "execution_count": 67,
   "id": "c4534c3c",
   "metadata": {},
   "outputs": [
    {
     "data": {
      "text/plain": [
       "139651415450672"
      ]
     },
     "execution_count": 67,
     "metadata": {},
     "output_type": "execute_result"
    }
   ],
   "source": [
    "id(a)"
   ]
  },
  {
   "cell_type": "code",
   "execution_count": 68,
   "id": "695d99db",
   "metadata": {},
   "outputs": [],
   "source": [
    "a += (76, 45, 3)"
   ]
  },
  {
   "cell_type": "code",
   "execution_count": 69,
   "id": "ac4230a4",
   "metadata": {},
   "outputs": [
    {
     "data": {
      "text/plain": [
       "(2, 3, 2, 2, 5, 76, 45, 3)"
      ]
     },
     "execution_count": 69,
     "metadata": {},
     "output_type": "execute_result"
    }
   ],
   "source": [
    "a"
   ]
  },
  {
   "cell_type": "code",
   "execution_count": 70,
   "id": "e7e62e9e",
   "metadata": {},
   "outputs": [
    {
     "data": {
      "text/plain": [
       "139651415420576"
      ]
     },
     "execution_count": 70,
     "metadata": {},
     "output_type": "execute_result"
    }
   ],
   "source": [
    "id(a)"
   ]
  },
  {
   "cell_type": "code",
   "execution_count": 71,
   "id": "8cdad34c",
   "metadata": {},
   "outputs": [
    {
     "ename": "TypeError",
     "evalue": "'tuple' object doesn't support item deletion",
     "output_type": "error",
     "traceback": [
      "\u001b[0;31m---------------------------------------------------------------------------\u001b[0m",
      "\u001b[0;31mTypeError\u001b[0m                                 Traceback (most recent call last)",
      "\u001b[0;32m<ipython-input-71-734682c6a06c>\u001b[0m in \u001b[0;36m<module>\u001b[0;34m\u001b[0m\n\u001b[0;32m----> 1\u001b[0;31m \u001b[0;32mdel\u001b[0m \u001b[0ma\u001b[0m\u001b[0;34m[\u001b[0m\u001b[0;36m2\u001b[0m\u001b[0;34m]\u001b[0m\u001b[0;34m\u001b[0m\u001b[0;34m\u001b[0m\u001b[0m\n\u001b[0m",
      "\u001b[0;31mTypeError\u001b[0m: 'tuple' object doesn't support item deletion"
     ]
    }
   ],
   "source": [
    "# Operación no permitida en una tupla\n",
    "del a[2]"
   ]
  },
  {
   "cell_type": "code",
   "execution_count": 72,
   "id": "abb09ced",
   "metadata": {},
   "outputs": [
    {
     "ename": "TypeError",
     "evalue": "'tuple' object does not support item assignment",
     "output_type": "error",
     "traceback": [
      "\u001b[0;31m---------------------------------------------------------------------------\u001b[0m",
      "\u001b[0;31mTypeError\u001b[0m                                 Traceback (most recent call last)",
      "\u001b[0;32m<ipython-input-72-bd02749f3d8a>\u001b[0m in \u001b[0;36m<module>\u001b[0;34m\u001b[0m\n\u001b[0;32m----> 1\u001b[0;31m \u001b[0ma\u001b[0m\u001b[0;34m[\u001b[0m\u001b[0;36m2\u001b[0m\u001b[0;34m]\u001b[0m \u001b[0;34m=\u001b[0m \u001b[0;32mTrue\u001b[0m\u001b[0;34m\u001b[0m\u001b[0;34m\u001b[0m\u001b[0m\n\u001b[0m",
      "\u001b[0;31mTypeError\u001b[0m: 'tuple' object does not support item assignment"
     ]
    }
   ],
   "source": [
    "a[2] = True"
   ]
  }
 ],
 "metadata": {
  "kernelspec": {
   "display_name": "Python 3.10.5 64-bit",
   "language": "python",
   "name": "python3"
  },
  "language_info": {
   "codemirror_mode": {
    "name": "ipython",
    "version": 3
   },
   "file_extension": ".py",
   "mimetype": "text/x-python",
   "name": "python",
   "nbconvert_exporter": "python",
   "pygments_lexer": "ipython3",
   "version": "3.10.6"
  },
  "vscode": {
   "interpreter": {
    "hash": "e7370f93d1d0cde622a1f8e1c04877d8463912d04d973331ad4851f04de6915a"
   }
  }
 },
 "nbformat": 4,
 "nbformat_minor": 5
}
