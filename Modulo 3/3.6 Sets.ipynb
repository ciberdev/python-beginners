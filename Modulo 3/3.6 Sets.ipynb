{
 "cells": [
  {
   "cell_type": "markdown",
   "id": "f8cb0218",
   "metadata": {},
   "source": [
    "### Set (Conjuntos)"
   ]
  },
  {
   "cell_type": "code",
   "execution_count": 3,
   "id": "fe85fa9c",
   "metadata": {},
   "outputs": [
    {
     "name": "stdout",
     "output_type": "stream",
     "text": [
      "{1, 4, 5, 6, 8}\n",
      "<class 'set'>\n"
     ]
    }
   ],
   "source": [
    "# Cómo creamos un set?\n",
    "s = set([5, 4, 6, 8, 8, 1])\n",
    "print(s)\n",
    "print(type(s))"
   ]
  },
  {
   "cell_type": "code",
   "execution_count": 10,
   "id": "6c378f82",
   "metadata": {},
   "outputs": [
    {
     "name": "stdout",
     "output_type": "stream",
     "text": [
      "{18, 500, 6, 40, 10}\n"
     ]
    }
   ],
   "source": [
    "s = {500, 40, 6, 18, 18, 10}\n",
    "print(s)"
   ]
  },
  {
   "cell_type": "code",
   "execution_count": 8,
   "id": "cc7a2b25",
   "metadata": {},
   "outputs": [
    {
     "name": "stdout",
     "output_type": "stream",
     "text": [
      "{'d', 'b', 'a', 'e', 'c'}\n"
     ]
    }
   ],
   "source": [
    "s = {\"a\", \"b\", \"c\", \"d\",\"e\"}\n",
    "print(s)"
   ]
  },
  {
   "cell_type": "markdown",
   "id": "7e46a76e",
   "metadata": {},
   "source": [
    "### Operaciones"
   ]
  },
  {
   "cell_type": "code",
   "execution_count": 9,
   "id": "afb54a66",
   "metadata": {},
   "outputs": [
    {
     "ename": "TypeError",
     "evalue": "'set' object does not support item assignment",
     "output_type": "error",
     "traceback": [
      "\u001b[1;31m---------------------------------------------------------------------------\u001b[0m",
      "\u001b[1;31mTypeError\u001b[0m                                 Traceback (most recent call last)",
      "Input \u001b[1;32mIn [9]\u001b[0m, in \u001b[0;36m<cell line: 2>\u001b[1;34m()\u001b[0m\n\u001b[0;32m      1\u001b[0m s \u001b[38;5;241m=\u001b[39m \u001b[38;5;28mset\u001b[39m([\u001b[38;5;241m5\u001b[39m, \u001b[38;5;241m6\u001b[39m ,\u001b[38;5;241m7\u001b[39m, \u001b[38;5;241m8\u001b[39m])\n\u001b[1;32m----> 2\u001b[0m s[\u001b[38;5;241m0\u001b[39m] \u001b[38;5;241m=\u001b[39m \u001b[38;5;241m3\u001b[39m\n",
      "\u001b[1;31mTypeError\u001b[0m: 'set' object does not support item assignment"
     ]
    }
   ],
   "source": [
    "# No es posible cambiar un elemento.\n",
    "s = set([5, 6 ,7, 8])\n",
    "s[0] = 3"
   ]
  },
  {
   "cell_type": "code",
   "execution_count": 11,
   "id": "ac70c571",
   "metadata": {},
   "outputs": [
    {
     "ename": "TypeError",
     "evalue": "unhashable type: 'list'",
     "output_type": "error",
     "traceback": [
      "\u001b[1;31m---------------------------------------------------------------------------\u001b[0m",
      "\u001b[1;31mTypeError\u001b[0m                                 Traceback (most recent call last)",
      "Input \u001b[1;32mIn [11]\u001b[0m, in \u001b[0;36m<cell line: 2>\u001b[1;34m()\u001b[0m\n\u001b[0;32m      1\u001b[0m lista \u001b[38;5;241m=\u001b[39m [\u001b[38;5;124m\"\u001b[39m\u001b[38;5;124mGuatemala, Honduras\u001b[39m\u001b[38;5;124m\"\u001b[39m]\n\u001b[1;32m----> 2\u001b[0m conjunto \u001b[38;5;241m=\u001b[39m \u001b[38;5;28;43mset\u001b[39;49m\u001b[43m(\u001b[49m\u001b[43m[\u001b[49m\u001b[38;5;124;43m\"\u001b[39;49m\u001b[38;5;124;43mEl Salvador\u001b[39;49m\u001b[38;5;124;43m\"\u001b[39;49m\u001b[43m,\u001b[49m\u001b[43m \u001b[49m\u001b[38;5;124;43m\"\u001b[39;49m\u001b[38;5;124;43mNicaragua\u001b[39;49m\u001b[38;5;124;43m\"\u001b[39;49m\u001b[43m,\u001b[49m\u001b[43m \u001b[49m\u001b[43mlista\u001b[49m\u001b[43m]\u001b[49m\u001b[43m)\u001b[49m\n",
      "\u001b[1;31mTypeError\u001b[0m: unhashable type: 'list'"
     ]
    }
   ],
   "source": [
    "# No se puede agregar al set objetos mutables\n",
    "lista = [\"Guatemala, Honduras\"]\n",
    "conjunto = set([\"El Salvador\", \"Nicaragua\", lista])"
   ]
  },
  {
   "cell_type": "code",
   "execution_count": 14,
   "id": "389272c1",
   "metadata": {},
   "outputs": [
    {
     "name": "stdout",
     "output_type": "stream",
     "text": [
      "8\n",
      "5\n",
      "6\n",
      "7\n"
     ]
    }
   ],
   "source": [
    "# Iterando un set\n",
    "s = set([5, 6, 7, 8])\n",
    "for ss in s:\n",
    "    print(ss)"
   ]
  },
  {
   "cell_type": "markdown",
   "id": "9f6affc4",
   "metadata": {},
   "source": [
    "### Metodos del set"
   ]
  },
  {
   "cell_type": "code",
   "execution_count": 15,
   "id": "92c79222",
   "metadata": {},
   "outputs": [
    {
     "name": "stdout",
     "output_type": "stream",
     "text": [
      "{1, 2, 3}\n"
     ]
    }
   ],
   "source": [
    "# add\n",
    "conjunto = set([1,2])\n",
    "conjunto.add(3)\n",
    "print(conjunto)"
   ]
  },
  {
   "cell_type": "code",
   "execution_count": 20,
   "id": "c9341bb7",
   "metadata": {},
   "outputs": [
    {
     "name": "stdout",
     "output_type": "stream",
     "text": [
      "{1}\n"
     ]
    }
   ],
   "source": [
    "# remove\n",
    "miset = set([1, 2])\n",
    "miset.remove(2)\n",
    "print(miset)"
   ]
  },
  {
   "cell_type": "code",
   "execution_count": 18,
   "id": "fa0e65e4",
   "metadata": {},
   "outputs": [
    {
     "name": "stdout",
     "output_type": "stream",
     "text": [
      "{1}\n"
     ]
    }
   ],
   "source": [
    "miset = set([1, 2])\n",
    "miset.discard(3)\n",
    "print(miset)"
   ]
  },
  {
   "cell_type": "code",
   "execution_count": 23,
   "id": "72517b01",
   "metadata": {},
   "outputs": [
    {
     "name": "stdout",
     "output_type": "stream",
     "text": [
      "{2, 3, 4, 5, 6, 200, 500, 1300}\n"
     ]
    }
   ],
   "source": [
    "miset = set([1, 2, 3, 4, 5, 6, 200, 500, 800, 1300])\n",
    "miset.pop()\n",
    "miset.pop()\n",
    "print(miset)"
   ]
  },
  {
   "cell_type": "code",
   "execution_count": 24,
   "id": "b5401df4",
   "metadata": {},
   "outputs": [
    {
     "name": "stdout",
     "output_type": "stream",
     "text": [
      "set()\n"
     ]
    }
   ],
   "source": [
    "# la funcion clear elimina los elementos del conjunto (set)\n",
    "s = set([1, 2, 3])\n",
    "s.clear()\n",
    "print(s)"
   ]
  },
  {
   "cell_type": "markdown",
   "id": "00543205",
   "metadata": {},
   "source": [
    "### Otras operaciones de conjuntos"
   ]
  },
  {
   "cell_type": "code",
   "execution_count": 26,
   "id": "2625ca16",
   "metadata": {},
   "outputs": [
    {
     "name": "stdout",
     "output_type": "stream",
     "text": [
      "{1, 2, 3, 4, 5}\n"
     ]
    }
   ],
   "source": [
    "s1 = {1, 2, 3}\n",
    "s2 = {3, 4, 5}\n",
    "print(s2.union(s1))"
   ]
  },
  {
   "cell_type": "code",
   "execution_count": 27,
   "id": "5d8ff162",
   "metadata": {},
   "outputs": [
    {
     "name": "stdout",
     "output_type": "stream",
     "text": [
      "{3}\n"
     ]
    }
   ],
   "source": [
    "s1 = {1, 2, 3}\n",
    "s2 = {3, 4, 5}\n",
    "print(s1.intersection(s2))"
   ]
  }
 ],
 "metadata": {
  "kernelspec": {
   "display_name": "Python 3 (ipykernel)",
   "language": "python",
   "name": "python3"
  },
  "language_info": {
   "codemirror_mode": {
    "name": "ipython",
    "version": 3
   },
   "file_extension": ".py",
   "mimetype": "text/x-python",
   "name": "python",
   "nbconvert_exporter": "python",
   "pygments_lexer": "ipython3",
   "version": "3.9.12"
  }
 },
 "nbformat": 4,
 "nbformat_minor": 5
}
