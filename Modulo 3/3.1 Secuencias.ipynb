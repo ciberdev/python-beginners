{
 "cells": [
  {
   "cell_type": "markdown",
   "id": "e9ff36f6",
   "metadata": {},
   "source": [
    "### Listas"
   ]
  },
  {
   "cell_type": "code",
   "execution_count": 1,
   "id": "6c71e2ff",
   "metadata": {},
   "outputs": [],
   "source": [
    "lista = []\n",
    "otra_lista = list()"
   ]
  },
  {
   "cell_type": "code",
   "execution_count": 2,
   "id": "37979ed6",
   "metadata": {},
   "outputs": [
    {
     "data": {
      "text/plain": [
       "(list, list)"
      ]
     },
     "execution_count": 2,
     "metadata": {},
     "output_type": "execute_result"
    }
   ],
   "source": [
    "type(lista), type(otra_lista)"
   ]
  },
  {
   "cell_type": "code",
   "execution_count": 3,
   "id": "8729b4c8",
   "metadata": {},
   "outputs": [
    {
     "data": {
      "text/plain": [
       "[1, 2, 3]"
      ]
     },
     "execution_count": 3,
     "metadata": {},
     "output_type": "execute_result"
    }
   ],
   "source": [
    "a = list([1,2,3])\n",
    "a"
   ]
  },
  {
   "cell_type": "code",
   "execution_count": 4,
   "id": "dfa62103",
   "metadata": {},
   "outputs": [
    {
     "data": {
      "text/plain": [
       "list"
      ]
     },
     "execution_count": 4,
     "metadata": {},
     "output_type": "execute_result"
    }
   ],
   "source": [
    "type(a)"
   ]
  },
  {
   "cell_type": "code",
   "execution_count": 5,
   "id": "c2644c81",
   "metadata": {},
   "outputs": [
    {
     "data": {
      "text/plain": [
       "['__add__',\n",
       " '__class__',\n",
       " '__class_getitem__',\n",
       " '__contains__',\n",
       " '__delattr__',\n",
       " '__delitem__',\n",
       " '__dir__',\n",
       " '__doc__',\n",
       " '__eq__',\n",
       " '__format__',\n",
       " '__ge__',\n",
       " '__getattribute__',\n",
       " '__getitem__',\n",
       " '__gt__',\n",
       " '__hash__',\n",
       " '__iadd__',\n",
       " '__imul__',\n",
       " '__init__',\n",
       " '__init_subclass__',\n",
       " '__iter__',\n",
       " '__le__',\n",
       " '__len__',\n",
       " '__lt__',\n",
       " '__mul__',\n",
       " '__ne__',\n",
       " '__new__',\n",
       " '__reduce__',\n",
       " '__reduce_ex__',\n",
       " '__repr__',\n",
       " '__reversed__',\n",
       " '__rmul__',\n",
       " '__setattr__',\n",
       " '__setitem__',\n",
       " '__sizeof__',\n",
       " '__str__',\n",
       " '__subclasshook__',\n",
       " 'append',\n",
       " 'clear',\n",
       " 'copy',\n",
       " 'count',\n",
       " 'extend',\n",
       " 'index',\n",
       " 'insert',\n",
       " 'pop',\n",
       " 'remove',\n",
       " 'reverse',\n",
       " 'sort']"
      ]
     },
     "execution_count": 5,
     "metadata": {},
     "output_type": "execute_result"
    }
   ],
   "source": [
    "dir(list())"
   ]
  },
  {
   "cell_type": "markdown",
   "id": "a1a9535d",
   "metadata": {},
   "source": [
    "### Obtener un elemento de la lista"
   ]
  },
  {
   "cell_type": "code",
   "execution_count": 6,
   "id": "587cda8d",
   "metadata": {},
   "outputs": [
    {
     "name": "stdout",
     "output_type": "stream",
     "text": [
      "Juan\n",
      "Susana\n",
      "Pedro\n",
      "Laura\n",
      "Carmen\n"
     ]
    }
   ],
   "source": [
    "mi_lista = ['Juan', 'Pedro', 'Laura', 'Carmen', 'Susana']\n",
    "print(mi_lista[0]) # Muestra Juan (la primera posición es la 0)\n",
    "print(mi_lista[-1]) # Muestra Susana\n",
    "print(mi_lista[1]) # Muestra Pedro\n",
    "print(mi_lista[2]) # Muestra Laura\n",
    "print(mi_lista[-2]) # Muestra Carmen"
   ]
  },
  {
   "cell_type": "markdown",
   "id": "a610401c",
   "metadata": {},
   "source": [
    "### Recorrer una lista"
   ]
  },
  {
   "cell_type": "code",
   "execution_count": 7,
   "id": "61f5efc2",
   "metadata": {},
   "outputs": [],
   "source": [
    "edades = [20, 41, 6, 18, 23]"
   ]
  },
  {
   "cell_type": "code",
   "execution_count": 8,
   "id": "ab985bfd",
   "metadata": {},
   "outputs": [
    {
     "name": "stdout",
     "output_type": "stream",
     "text": [
      "20\n",
      "41\n",
      "6\n",
      "18\n",
      "23\n"
     ]
    }
   ],
   "source": [
    "# Recorriendo los elementos\n",
    "for edad in edades:\n",
    "    print(edad)"
   ]
  },
  {
   "cell_type": "code",
   "execution_count": 9,
   "id": "a0b29c61",
   "metadata": {},
   "outputs": [
    {
     "name": "stdout",
     "output_type": "stream",
     "text": [
      "20\n",
      "41\n",
      "6\n",
      "18\n",
      "23\n"
     ]
    }
   ],
   "source": [
    "# Recorriendo los índices\n",
    "for i in range(len(edades)):\n",
    "    print(edades[i])"
   ]
  },
  {
   "cell_type": "code",
   "execution_count": 10,
   "id": "988c3603",
   "metadata": {},
   "outputs": [
    {
     "name": "stdout",
     "output_type": "stream",
     "text": [
      "20\n",
      "41\n",
      "6\n",
      "18\n",
      "23\n"
     ]
    }
   ],
   "source": [
    "# Con while y los índices\n",
    "indice = 0\n",
    "\n",
    "while indice < len(edades):\n",
    "    print(edades[indice])\n",
    "    indice += 1"
   ]
  },
  {
   "cell_type": "markdown",
   "id": "24b56d6a",
   "metadata": {},
   "source": [
    "### Agregar elementos a una lista"
   ]
  },
  {
   "cell_type": "code",
   "execution_count": 11,
   "id": "bf75a6e9",
   "metadata": {},
   "outputs": [
    {
     "name": "stdout",
     "output_type": "stream",
     "text": [
      "[10, 5, 3]\n"
     ]
    }
   ],
   "source": [
    "números = []\n",
    "\n",
    "números.append(10)\n",
    "números.append(5)\n",
    "números.append(3)\n",
    "\n",
    "print(números)\n",
    "# Mostrará [10, 5, 3]"
   ]
  },
  {
   "cell_type": "code",
   "execution_count": 12,
   "id": "445716ad",
   "metadata": {},
   "outputs": [],
   "source": [
    "a = [9, 9, 6]\n",
    "a.append(34.21)"
   ]
  },
  {
   "cell_type": "code",
   "execution_count": 13,
   "id": "1ef53bdc",
   "metadata": {},
   "outputs": [
    {
     "data": {
      "text/plain": [
       "[9, 9, 6, 34.21]"
      ]
     },
     "execution_count": 13,
     "metadata": {},
     "output_type": "execute_result"
    }
   ],
   "source": [
    "a"
   ]
  },
  {
   "cell_type": "code",
   "execution_count": 14,
   "id": "ba51a9de",
   "metadata": {},
   "outputs": [],
   "source": [
    "b = list(range(4)) # creación de lista usando el iterable range"
   ]
  },
  {
   "cell_type": "code",
   "execution_count": 15,
   "id": "8ab7c77a",
   "metadata": {},
   "outputs": [
    {
     "data": {
      "text/plain": [
       "[0, 1, 2, 3]"
      ]
     },
     "execution_count": 15,
     "metadata": {},
     "output_type": "execute_result"
    }
   ],
   "source": [
    "b"
   ]
  },
  {
   "cell_type": "code",
   "execution_count": 16,
   "id": "84b1615c",
   "metadata": {},
   "outputs": [],
   "source": [
    "a.extend(b) # extendemos la lista a, agregando elementos de b"
   ]
  },
  {
   "cell_type": "code",
   "execution_count": 17,
   "id": "8270605f",
   "metadata": {},
   "outputs": [
    {
     "data": {
      "text/plain": [
       "[9, 9, 6, 34.21, 0, 1, 2, 3]"
      ]
     },
     "execution_count": 17,
     "metadata": {},
     "output_type": "execute_result"
    }
   ],
   "source": [
    "a"
   ]
  },
  {
   "cell_type": "code",
   "execution_count": 18,
   "id": "259471b5",
   "metadata": {},
   "outputs": [],
   "source": [
    "a.extend(range(3))"
   ]
  },
  {
   "cell_type": "code",
   "execution_count": 19,
   "id": "748dfb40",
   "metadata": {},
   "outputs": [
    {
     "data": {
      "text/plain": [
       "2"
      ]
     },
     "execution_count": 19,
     "metadata": {},
     "output_type": "execute_result"
    }
   ],
   "source": [
    "a.count(2) # número de ocurrencias del número 2"
   ]
  },
  {
   "cell_type": "code",
   "execution_count": 20,
   "id": "c10971cd",
   "metadata": {},
   "outputs": [
    {
     "data": {
      "text/plain": [
       "6"
      ]
     },
     "execution_count": 20,
     "metadata": {},
     "output_type": "execute_result"
    }
   ],
   "source": [
    "a.index(2) # Indice del primer elemento 2"
   ]
  },
  {
   "cell_type": "code",
   "execution_count": 21,
   "id": "c5f76bbc",
   "metadata": {},
   "outputs": [
    {
     "data": {
      "text/plain": [
       "10"
      ]
     },
     "execution_count": 21,
     "metadata": {},
     "output_type": "execute_result"
    }
   ],
   "source": [
    "a.index(2, 7) # Indice del primer elemento contando desde la posición 7"
   ]
  },
  {
   "cell_type": "code",
   "execution_count": 22,
   "id": "40f17c87",
   "metadata": {},
   "outputs": [
    {
     "data": {
      "text/plain": [
       "6"
      ]
     },
     "execution_count": 22,
     "metadata": {},
     "output_type": "execute_result"
    }
   ],
   "source": [
    "a.index(2, 4, 9)"
   ]
  },
  {
   "cell_type": "code",
   "execution_count": 23,
   "id": "ab55e81d",
   "metadata": {},
   "outputs": [],
   "source": [
    "b.clear()"
   ]
  },
  {
   "cell_type": "code",
   "execution_count": 24,
   "id": "98751eb5",
   "metadata": {},
   "outputs": [
    {
     "data": {
      "text/plain": [
       "[]"
      ]
     },
     "execution_count": 24,
     "metadata": {},
     "output_type": "execute_result"
    }
   ],
   "source": [
    "b"
   ]
  },
  {
   "cell_type": "code",
   "execution_count": 25,
   "id": "d14f41a3",
   "metadata": {},
   "outputs": [
    {
     "data": {
      "text/plain": [
       "[9, 9, 6, 34.21, 0, 1, 2, 3, 0, 1, 2]"
      ]
     },
     "execution_count": 25,
     "metadata": {},
     "output_type": "execute_result"
    }
   ],
   "source": [
    "a"
   ]
  },
  {
   "cell_type": "code",
   "execution_count": 26,
   "id": "8f9a0925",
   "metadata": {},
   "outputs": [],
   "source": [
    "a.insert(0, 'Pepe')"
   ]
  },
  {
   "cell_type": "code",
   "execution_count": 27,
   "id": "3bb791d3",
   "metadata": {},
   "outputs": [],
   "source": [
    "a.insert(3, 'Juan')"
   ]
  },
  {
   "cell_type": "code",
   "execution_count": 28,
   "id": "b3e1d97a",
   "metadata": {},
   "outputs": [],
   "source": [
    "a.insert(34252, 'Ana')"
   ]
  },
  {
   "cell_type": "code",
   "execution_count": 29,
   "id": "571be4ce",
   "metadata": {},
   "outputs": [
    {
     "data": {
      "text/plain": [
       "['Pepe', 9, 9, 'Juan', 6, 34.21, 0, 1, 2, 3, 0, 1, 2, 'Ana']"
      ]
     },
     "execution_count": 29,
     "metadata": {},
     "output_type": "execute_result"
    }
   ],
   "source": [
    "a"
   ]
  },
  {
   "cell_type": "code",
   "execution_count": 30,
   "id": "f557127d",
   "metadata": {},
   "outputs": [
    {
     "data": {
      "text/plain": [
       "6"
      ]
     },
     "execution_count": 30,
     "metadata": {},
     "output_type": "execute_result"
    }
   ],
   "source": [
    "a.pop(4)"
   ]
  },
  {
   "cell_type": "code",
   "execution_count": 31,
   "id": "7c9c14cd",
   "metadata": {},
   "outputs": [
    {
     "data": {
      "text/plain": [
       "'Ana'"
      ]
     },
     "execution_count": 31,
     "metadata": {},
     "output_type": "execute_result"
    }
   ],
   "source": [
    "a.pop()"
   ]
  },
  {
   "cell_type": "code",
   "execution_count": 32,
   "id": "5237060f",
   "metadata": {},
   "outputs": [],
   "source": [
    "a.remove(2)"
   ]
  },
  {
   "cell_type": "code",
   "execution_count": 33,
   "id": "d10897b6",
   "metadata": {},
   "outputs": [
    {
     "data": {
      "text/plain": [
       "['Pepe', 9, 9, 'Juan', 34.21, 0, 1, 3, 0, 1, 2]"
      ]
     },
     "execution_count": 33,
     "metadata": {},
     "output_type": "execute_result"
    }
   ],
   "source": [
    "a"
   ]
  },
  {
   "cell_type": "code",
   "execution_count": 34,
   "id": "3266bb3e",
   "metadata": {},
   "outputs": [],
   "source": [
    "a.reverse()"
   ]
  },
  {
   "cell_type": "code",
   "execution_count": 35,
   "id": "a5086ff3",
   "metadata": {},
   "outputs": [
    {
     "data": {
      "text/plain": [
       "[2, 1, 0, 3, 1, 0, 34.21, 'Juan', 9, 9, 'Pepe']"
      ]
     },
     "execution_count": 35,
     "metadata": {},
     "output_type": "execute_result"
    }
   ],
   "source": [
    "a"
   ]
  },
  {
   "cell_type": "code",
   "execution_count": 36,
   "id": "36bc62ca",
   "metadata": {},
   "outputs": [
    {
     "name": "stdout",
     "output_type": "stream",
     "text": [
      "['Pepe', 9, 9, 'Juan', 34.21, 0, 1, 3, 0, 1, 2]\n"
     ]
    }
   ],
   "source": [
    "c = reversed(a)\n",
    "print(list(c))"
   ]
  },
  {
   "cell_type": "code",
   "execution_count": 37,
   "id": "8543179e",
   "metadata": {},
   "outputs": [
    {
     "data": {
      "text/plain": [
       "[2, 1, 0, 3, 1, 0, 34.21, 'Juan', 9, 9, 'Pepe']"
      ]
     },
     "execution_count": 37,
     "metadata": {},
     "output_type": "execute_result"
    }
   ],
   "source": [
    "a"
   ]
  },
  {
   "cell_type": "code",
   "execution_count": 38,
   "id": "d6022d25",
   "metadata": {},
   "outputs": [
    {
     "ename": "TypeError",
     "evalue": "'<' not supported between instances of 'str' and 'int'",
     "output_type": "error",
     "traceback": [
      "\u001b[0;31m---------------------------------------------------------------------------\u001b[0m",
      "\u001b[0;31mTypeError\u001b[0m                                 Traceback (most recent call last)",
      "\u001b[0;32m<ipython-input-38-2ed0d7de6146>\u001b[0m in \u001b[0;36m<module>\u001b[0;34m\u001b[0m\n\u001b[0;32m----> 1\u001b[0;31m \u001b[0ma\u001b[0m\u001b[0;34m.\u001b[0m\u001b[0msort\u001b[0m\u001b[0;34m(\u001b[0m\u001b[0;34m)\u001b[0m\u001b[0;34m\u001b[0m\u001b[0;34m\u001b[0m\u001b[0m\n\u001b[0m",
      "\u001b[0;31mTypeError\u001b[0m: '<' not supported between instances of 'str' and 'int'"
     ]
    }
   ],
   "source": [
    "a.sort()"
   ]
  },
  {
   "cell_type": "code",
   "execution_count": 39,
   "id": "fc7ed57c",
   "metadata": {},
   "outputs": [],
   "source": [
    "a.sort(key=lambda x: str(x))"
   ]
  },
  {
   "cell_type": "code",
   "execution_count": 40,
   "id": "8c2f0c96",
   "metadata": {},
   "outputs": [
    {
     "data": {
      "text/plain": [
       "[0, 0, 1, 1, 2, 3, 34.21, 9, 9, 'Juan', 'Pepe']"
      ]
     },
     "execution_count": 40,
     "metadata": {},
     "output_type": "execute_result"
    }
   ],
   "source": [
    "a"
   ]
  },
  {
   "cell_type": "code",
   "execution_count": 41,
   "id": "238fa9f1",
   "metadata": {},
   "outputs": [],
   "source": [
    "a.sort(key=lambda x: str(x), reverse=True)"
   ]
  },
  {
   "cell_type": "code",
   "execution_count": 42,
   "id": "4e0ea0cb",
   "metadata": {},
   "outputs": [
    {
     "data": {
      "text/plain": [
       "['Pepe', 'Juan', 9, 9, 34.21, 3, 2, 1, 1, 0, 0]"
      ]
     },
     "execution_count": 42,
     "metadata": {},
     "output_type": "execute_result"
    }
   ],
   "source": [
    "a"
   ]
  },
  {
   "cell_type": "markdown",
   "id": "1d2c8e57",
   "metadata": {},
   "source": [
    "### Utilizando la función copy"
   ]
  },
  {
   "cell_type": "code",
   "execution_count": 43,
   "id": "e48ae5e4",
   "metadata": {},
   "outputs": [],
   "source": [
    "xs = [[1, 2, 3], ['Juan', 'Ana'], True]\n",
    "ys = xs.copy()"
   ]
  },
  {
   "cell_type": "code",
   "execution_count": 44,
   "id": "648d077e",
   "metadata": {},
   "outputs": [
    {
     "data": {
      "text/plain": [
       "[[1, 2, 3], ['Juan', 'Ana'], True]"
      ]
     },
     "execution_count": 44,
     "metadata": {},
     "output_type": "execute_result"
    }
   ],
   "source": [
    "xs"
   ]
  },
  {
   "cell_type": "code",
   "execution_count": 45,
   "id": "54f0bd5f",
   "metadata": {},
   "outputs": [
    {
     "data": {
      "text/plain": [
       "[[1, 2, 3], ['Juan', 'Ana'], True]"
      ]
     },
     "execution_count": 45,
     "metadata": {},
     "output_type": "execute_result"
    }
   ],
   "source": [
    "ys"
   ]
  },
  {
   "cell_type": "code",
   "execution_count": 46,
   "id": "1e5fefaa",
   "metadata": {},
   "outputs": [
    {
     "data": {
      "text/plain": [
       "[1, 2, 3]"
      ]
     },
     "execution_count": 46,
     "metadata": {},
     "output_type": "execute_result"
    }
   ],
   "source": [
    "xs[0]"
   ]
  },
  {
   "cell_type": "code",
   "execution_count": 47,
   "id": "6f3f5260",
   "metadata": {},
   "outputs": [],
   "source": [
    "xs[0][1]=4536"
   ]
  },
  {
   "cell_type": "code",
   "execution_count": 48,
   "id": "4051cee9",
   "metadata": {},
   "outputs": [
    {
     "data": {
      "text/plain": [
       "[[1, 4536, 3], ['Juan', 'Ana'], True]"
      ]
     },
     "execution_count": 48,
     "metadata": {},
     "output_type": "execute_result"
    }
   ],
   "source": [
    "xs"
   ]
  },
  {
   "cell_type": "code",
   "execution_count": 49,
   "id": "cbb23574",
   "metadata": {},
   "outputs": [
    {
     "data": {
      "text/plain": [
       "[[1, 4536, 3], ['Juan', 'Ana'], True]"
      ]
     },
     "execution_count": 49,
     "metadata": {},
     "output_type": "execute_result"
    }
   ],
   "source": [
    "ys # Que ha pasado con los datos profundos de ys?"
   ]
  },
  {
   "cell_type": "markdown",
   "id": "04eb6e4d",
   "metadata": {},
   "source": [
    "#### Ocupando la copia en profundidad copy.deepcopy"
   ]
  },
  {
   "cell_type": "code",
   "execution_count": 50,
   "id": "0648fb99",
   "metadata": {},
   "outputs": [],
   "source": [
    "import copy\n",
    "yys = copy.deepcopy(xs)"
   ]
  },
  {
   "cell_type": "code",
   "execution_count": 51,
   "id": "c6a7f7ff",
   "metadata": {},
   "outputs": [
    {
     "data": {
      "text/plain": [
       "[[1, 4536, 3], ['Juan', 'Ana'], True]"
      ]
     },
     "execution_count": 51,
     "metadata": {},
     "output_type": "execute_result"
    }
   ],
   "source": [
    "yys"
   ]
  },
  {
   "cell_type": "code",
   "execution_count": 52,
   "id": "7871a148",
   "metadata": {},
   "outputs": [
    {
     "data": {
      "text/plain": [
       "[[1, 4536, 3], ['Juan', 'Ana'], True]"
      ]
     },
     "execution_count": 52,
     "metadata": {},
     "output_type": "execute_result"
    }
   ],
   "source": [
    "xs"
   ]
  },
  {
   "cell_type": "code",
   "execution_count": 53,
   "id": "a9ba07c3",
   "metadata": {},
   "outputs": [],
   "source": [
    "xs[0][2] = 'Coche'"
   ]
  },
  {
   "cell_type": "code",
   "execution_count": 54,
   "id": "3e3aaeb9",
   "metadata": {},
   "outputs": [
    {
     "data": {
      "text/plain": [
       "[[1, 4536, 'Coche'], ['Juan', 'Ana'], True]"
      ]
     },
     "execution_count": 54,
     "metadata": {},
     "output_type": "execute_result"
    }
   ],
   "source": [
    "xs"
   ]
  },
  {
   "cell_type": "code",
   "execution_count": 55,
   "id": "8ad5d291",
   "metadata": {},
   "outputs": [
    {
     "data": {
      "text/plain": [
       "[[1, 4536, 'Coche'], ['Juan', 'Ana'], True]"
      ]
     },
     "execution_count": 55,
     "metadata": {},
     "output_type": "execute_result"
    }
   ],
   "source": [
    "ys"
   ]
  },
  {
   "cell_type": "code",
   "execution_count": 56,
   "id": "13fafc8c",
   "metadata": {},
   "outputs": [
    {
     "data": {
      "text/plain": [
       "[[1, 4536, 3], ['Juan', 'Ana'], True]"
      ]
     },
     "execution_count": 56,
     "metadata": {},
     "output_type": "execute_result"
    }
   ],
   "source": [
    "yys"
   ]
  }
 ],
 "metadata": {
  "kernelspec": {
   "display_name": "Python 3.10.5 64-bit",
   "language": "python",
   "name": "python3"
  },
  "language_info": {
   "codemirror_mode": {
    "name": "ipython",
    "version": 3
   },
   "file_extension": ".py",
   "mimetype": "text/x-python",
   "name": "python",
   "nbconvert_exporter": "python",
   "pygments_lexer": "ipython3",
   "version": "3.10.6"
  },
  "vscode": {
   "interpreter": {
    "hash": "e7370f93d1d0cde622a1f8e1c04877d8463912d04d973331ad4851f04de6915a"
   }
  }
 },
 "nbformat": 4,
 "nbformat_minor": 5
}
