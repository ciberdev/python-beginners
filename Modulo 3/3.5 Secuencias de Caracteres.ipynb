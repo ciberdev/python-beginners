{
 "cells": [
  {
   "cell_type": "markdown",
   "metadata": {},
   "source": [
    "### Secuencias de Caracteres (Strings)"
   ]
  },
  {
   "cell_type": "code",
   "execution_count": 1,
   "metadata": {},
   "outputs": [
    {
     "name": "stdout",
     "output_type": "stream",
     "text": [
      "Esto es una cadena\n",
      "<class 'str'>\n"
     ]
    }
   ],
   "source": [
    "s = \"Esto es una cadena\"\n",
    "print(s)       #Esto es una cadena\n",
    "print(type(s)) #<class 'str'>"
   ]
  },
  {
   "cell_type": "code",
   "execution_count": 2,
   "metadata": {},
   "outputs": [
    {
     "name": "stdout",
     "output_type": "stream",
     "text": [
      "Esto es otra cadena\n",
      "<class 'str'>\n"
     ]
    }
   ],
   "source": [
    "s = 'Esto es otra cadena'\n",
    "print(s)        #Esto es otra cadena\n",
    "print(type(s))  #<class 'str'>"
   ]
  },
  {
   "cell_type": "code",
   "execution_count": 3,
   "metadata": {},
   "outputs": [],
   "source": [
    "s = ''"
   ]
  },
  {
   "cell_type": "code",
   "execution_count": 4,
   "metadata": {},
   "outputs": [
    {
     "ename": "SyntaxError",
     "evalue": "invalid syntax (3565565739.py, line 1)",
     "output_type": "error",
     "traceback": [
      "\u001b[0;36m  Input \u001b[0;32mIn [4]\u001b[0;36m\u001b[0m\n\u001b[0;31m    s = \"Esto es una comilla doble \" de ejemplo\" # Error!\u001b[0m\n\u001b[0m                                     ^\u001b[0m\n\u001b[0;31mSyntaxError\u001b[0m\u001b[0;31m:\u001b[0m invalid syntax\n"
     ]
    }
   ],
   "source": [
    "s = \"Esto es una comilla doble \" de ejemplo\" # Error!"
   ]
  },
  {
   "cell_type": "code",
   "execution_count": 5,
   "metadata": {},
   "outputs": [
    {
     "name": "stdout",
     "output_type": "stream",
     "text": [
      "Esto es una comilla doble \" de ejemplo\n"
     ]
    }
   ],
   "source": [
    "s = \"Esto es una comilla doble \\\" de ejemplo\"\n",
    "print(s) #Esto es una comilla doble \" de ejemplo"
   ]
  },
  {
   "cell_type": "markdown",
   "metadata": {},
   "source": [
    "#### Al existir dos tipos de comillas, se pueden crear frases en las que se use un tipo u otro de comillas sin tener que escapar los caracteres utilizando \\\" o \\'. Si se pretende usar el carácter de comilla doble, se rodea la frase con comillas simples y viceversa.\n",
    "##### Ejemplos"
   ]
  },
  {
   "cell_type": "code",
   "execution_count": 6,
   "metadata": {},
   "outputs": [
    {
     "data": {
      "text/plain": [
       "\"Esto es una frase 'corta' usando comillas simples\""
      ]
     },
     "execution_count": 6,
     "metadata": {},
     "output_type": "execute_result"
    }
   ],
   "source": [
    "\"Esto es una frase 'corta' usando comillas simples\""
   ]
  },
  {
   "cell_type": "code",
   "execution_count": 7,
   "metadata": {},
   "outputs": [
    {
     "data": {
      "text/plain": [
       "'Esto es una frase \"corta\" usando comillas dobles'"
      ]
     },
     "execution_count": 7,
     "metadata": {},
     "output_type": "execute_result"
    }
   ],
   "source": [
    " 'Esto es una frase \"corta\" usando comillas dobles'"
   ]
  },
  {
   "cell_type": "code",
   "execution_count": 18,
   "metadata": {},
   "outputs": [],
   "source": [
    "a = 'Frase simple convertida en párrafo\\n \\\n",
    "Haciendo uso del carácter \\\\ para separar las frases'"
   ]
  },
  {
   "cell_type": "code",
   "execution_count": 20,
   "metadata": {},
   "outputs": [
    {
     "name": "stdout",
     "output_type": "stream",
     "text": [
      "Frase simple convertida en párrafo\n",
      " Haciendo uso del carácter \\ para separar las frases\n"
     ]
    }
   ],
   "source": [
    "print(a)"
   ]
  },
  {
   "cell_type": "code",
   "execution_count": 12,
   "metadata": {},
   "outputs": [
    {
     "data": {
      "text/plain": [
       "'En esta frase se usan comillas \\'simples\\' y \"dobles\" dentro de la frase'"
      ]
     },
     "execution_count": 12,
     "metadata": {},
     "output_type": "execute_result"
    }
   ],
   "source": [
    "# Uso de comillas triples al inicio y al final, para poder incluir tipos de comillas en el texto\n",
    "'''En esta frase se usan comillas 'simples' y \"dobles\" dentro de la frase'''"
   ]
  },
  {
   "cell_type": "code",
   "execution_count": 21,
   "metadata": {},
   "outputs": [
    {
     "name": "stdout",
     "output_type": "stream",
     "text": [
      "Esto es un párrafo\n",
      "en el que se puede escribir más de una frase\n",
      "sin necesidad de añadir ningún carácter al final\n",
      "de cada frase\n"
     ]
    }
   ],
   "source": [
    "# Las comillas triples también permiten escribir una cadena de caracteres en múltiples líneas.\n",
    "x = '''Esto es un párrafo\n",
    "en el que se puede escribir más de una frase\n",
    "sin necesidad de añadir ningún carácter al final\n",
    "de cada frase'''\n",
    "print(x)"
   ]
  },
  {
   "cell_type": "code",
   "execution_count": 14,
   "metadata": {},
   "outputs": [
    {
     "name": "stdout",
     "output_type": "stream",
     "text": [
      "Primer linea\n",
      "Segunda linea\n"
     ]
    }
   ],
   "source": [
    "s = \"Primer linea\\nSegunda linea\"\n",
    "print(s)"
   ]
  },
  {
   "cell_type": "code",
   "execution_count": 23,
   "metadata": {},
   "outputs": [
    {
     "name": "stdout",
     "output_type": "stream",
     "text": [
      "HH\n"
     ]
    }
   ],
   "source": [
    "# También podemos usar \\ acompañado de un número, lo que imprimirá el carácter asociado. En este caso imprimimos el carácter 110 que se corresponde con la H.\n",
    "# Para estos escenarios, recomendamos buscar información sobre ASCI y Unicode.\n",
    "\n",
    "print(\"\\110\\110\") #HH\n"
   ]
  },
  {
   "cell_type": "markdown",
   "metadata": {},
   "source": [
    "### Formateo de Cadenas"
   ]
  },
  {
   "cell_type": "code",
   "execution_count": 27,
   "metadata": {},
   "outputs": [
    {
     "name": "stdout",
     "output_type": "stream",
     "text": [
      "El número es: 5\n",
      "El número es: 5\n"
     ]
    }
   ],
   "source": [
    "x = 5\n",
    "s = \"El número es: \" + str(x)\n",
    "print(s) #El número es: 5\n",
    "t = \"El número es: %d\" %x\n",
    "print(t)"
   ]
  },
  {
   "cell_type": "code",
   "execution_count": 31,
   "metadata": {},
   "outputs": [
    {
     "name": "stdout",
     "output_type": "stream",
     "text": [
      "Los números son 5 y 10.\n"
     ]
    }
   ],
   "source": [
    "# Si tenemos más de una variable, podemos colocarlas entre parentesis, separadas por comas\n",
    "s = \"Los números son %d y %d.\" % (5, 10)\n",
    "print(s) "
   ]
  },
  {
   "cell_type": "code",
   "execution_count": 30,
   "metadata": {},
   "outputs": [
    {
     "name": "stdout",
     "output_type": "stream",
     "text": [
      "Los números son 5 y 10\n"
     ]
    }
   ],
   "source": [
    "# Format nos permite obtener el mísmo resultado \n",
    "s = \"Los números son {} y {}\".format(5, 10)\n",
    "print(s) "
   ]
  },
  {
   "cell_type": "code",
   "execution_count": 32,
   "metadata": {},
   "outputs": [
    {
     "name": "stdout",
     "output_type": "stream",
     "text": [
      "Los números son 5 y 10\n"
     ]
    }
   ],
   "source": [
    "# Otra variante, nombrando cada elemento a desplegar\n",
    "s = \"Los números son {a} y {b}\".format(a=5, b=10)\n",
    "print(s) #Los números son 5 y 10"
   ]
  },
  {
   "cell_type": "code",
   "execution_count": 34,
   "metadata": {},
   "outputs": [
    {
     "name": "stdout",
     "output_type": "stream",
     "text": [
      "Los números son 5 y 10\n"
     ]
    }
   ],
   "source": [
    "# Disponible desde Python 3.6 \n",
    "a = 5; b = 10\n",
    "s = f\"Los números son {a} y {b}\"\n",
    "print(s) "
   ]
  },
  {
   "cell_type": "code",
   "execution_count": 36,
   "metadata": {},
   "outputs": [
    {
     "name": "stdout",
     "output_type": "stream",
     "text": [
      "a + b = 15\n"
     ]
    }
   ],
   "source": [
    "# Permite hacer incluso operaciones dentro de la creación del string\n",
    "a = 5; b = 10\n",
    "s = f\"a + b = {a+b}\"\n",
    "print(s) "
   ]
  },
  {
   "cell_type": "code",
   "execution_count": 37,
   "metadata": {},
   "outputs": [
    {
     "name": "stdout",
     "output_type": "stream",
     "text": [
      "El resultado de la función es 20\n"
     ]
    }
   ],
   "source": [
    "# Se Puede incluso llamar a una función dentro.\n",
    "\n",
    "def mifuncion():\n",
    "    return 20\n",
    "    \n",
    "s = f\"El resultado de la función es {mifuncion()}\"\n",
    "print(s) \n"
   ]
  },
  {
   "cell_type": "markdown",
   "metadata": {},
   "source": [
    "### Ejemplos de aplicación"
   ]
  },
  {
   "cell_type": "code",
   "execution_count": 38,
   "metadata": {},
   "outputs": [
    {
     "name": "stdout",
     "output_type": "stream",
     "text": [
      "Parte 1 Parte 2\n"
     ]
    }
   ],
   "source": [
    "s1 = \"Parte 1\"\n",
    "s2 = \"Parte 2\"\n",
    "print(s1 + \" \" + s2) "
   ]
  },
  {
   "cell_type": "code",
   "execution_count": 39,
   "metadata": {},
   "outputs": [
    {
     "name": "stdout",
     "output_type": "stream",
     "text": [
      "Hola Hola Hola \n"
     ]
    }
   ],
   "source": [
    "s = \"Hola \"\n",
    "print(s*3)"
   ]
  },
  {
   "cell_type": "code",
   "execution_count": 40,
   "metadata": {},
   "outputs": [
    {
     "name": "stdout",
     "output_type": "stream",
     "text": [
      "True\n"
     ]
    }
   ],
   "source": [
    "print(\"cool\" in \"Python es cool\")"
   ]
  },
  {
   "cell_type": "code",
   "execution_count": 43,
   "metadata": {},
   "outputs": [
    {
     "name": "stdout",
     "output_type": "stream",
     "text": [
      "€\n",
      "8364\n"
     ]
    }
   ],
   "source": [
    "# Con chr() and ord() podemos convertir entre carácter y su valor numérico que lo representa y viceversa\n",
    "print(chr(8364))\n",
    "print(ord(\"€\")) "
   ]
  },
  {
   "cell_type": "code",
   "execution_count": 42,
   "metadata": {},
   "outputs": [
    {
     "name": "stdout",
     "output_type": "stream",
     "text": [
      "17\n"
     ]
    }
   ],
   "source": [
    "# Imprimimos la longitud de la cadena\n",
    "print(len(\"Esta es mi cadena\"))"
   ]
  },
  {
   "cell_type": "code",
   "execution_count": 44,
   "metadata": {},
   "outputs": [
    {
     "name": "stdout",
     "output_type": "stream",
     "text": [
      "10.4\n",
      "<class 'str'>\n"
     ]
    }
   ],
   "source": [
    "x = str(10.4)\n",
    "print(x)      \n",
    "print(type(x))"
   ]
  },
  {
   "cell_type": "code",
   "execution_count": 45,
   "metadata": {},
   "outputs": [
    {
     "name": "stdout",
     "output_type": "stream",
     "text": [
      "a\n",
      "e\n"
     ]
    }
   ],
   "source": [
    "# Podemos acceder a los caracteres mediante uso de indices\n",
    "x = \"abcde\"\n",
    "print(x[0])  \n",
    "print(x[-1]) "
   ]
  },
  {
   "cell_type": "code",
   "execution_count": 46,
   "metadata": {},
   "outputs": [
    {
     "name": "stdout",
     "output_type": "stream",
     "text": [
      "ab\n"
     ]
    }
   ],
   "source": [
    "# Podemos crear sub cadenas\n",
    "x = \"abcde\"\n",
    "print(x[0:2])"
   ]
  },
  {
   "cell_type": "code",
   "execution_count": 47,
   "metadata": {},
   "outputs": [
    {
     "name": "stdout",
     "output_type": "stream",
     "text": [
      "cde\n"
     ]
    }
   ],
   "source": [
    "x = \"abcde\"\n",
    "print(x[2:])"
   ]
  },
  {
   "cell_type": "code",
   "execution_count": 48,
   "metadata": {},
   "outputs": [
    {
     "name": "stdout",
     "output_type": "stream",
     "text": [
      "ace\n"
     ]
    }
   ],
   "source": [
    "# Subcadena con elementos salteados\n",
    "x = \"abcde\"\n",
    "print(x[0:5:2]) "
   ]
  },
  {
   "cell_type": "code",
   "execution_count": 50,
   "metadata": {},
   "outputs": [
    {
     "name": "stdout",
     "output_type": "stream",
     "text": [
      "ace\n"
     ]
    }
   ],
   "source": [
    "# Acá no especificamos el fin de cadena\n",
    "x = \"abcde\"\n",
    "print(x[0::2])"
   ]
  },
  {
   "cell_type": "markdown",
   "metadata": {},
   "source": [
    "### Metodos de las cadenas de caracteres"
   ]
  },
  {
   "cell_type": "code",
   "execution_count": 51,
   "metadata": {},
   "outputs": [
    {
     "name": "stdout",
     "output_type": "stream",
     "text": [
      "Mi cadena\n"
     ]
    }
   ],
   "source": [
    "s = \"mi cadena\"\n",
    "print(s.capitalize()) "
   ]
  },
  {
   "cell_type": "code",
   "execution_count": 52,
   "metadata": {},
   "outputs": [
    {
     "name": "stdout",
     "output_type": "stream",
     "text": [
      "mi cadena\n"
     ]
    }
   ],
   "source": [
    "s = \"MI CADENA\"\n",
    "print(s.lower())"
   ]
  },
  {
   "cell_type": "code",
   "execution_count": 53,
   "metadata": {},
   "outputs": [
    {
     "name": "stdout",
     "output_type": "stream",
     "text": [
      "Mi CaDeNa\n"
     ]
    }
   ],
   "source": [
    "s = \"mI cAdEnA\"\n",
    "print(s.swapcase())"
   ]
  },
  {
   "cell_type": "code",
   "execution_count": 54,
   "metadata": {},
   "outputs": [
    {
     "name": "stdout",
     "output_type": "stream",
     "text": [
      "MI CADENA\n"
     ]
    }
   ],
   "source": [
    "s = \"mi cadena\"\n",
    "print(s.upper())"
   ]
  },
  {
   "cell_type": "code",
   "execution_count": 55,
   "metadata": {},
   "outputs": [
    {
     "name": "stdout",
     "output_type": "stream",
     "text": [
      "2\n"
     ]
    }
   ],
   "source": [
    "s = \"el bello cuello \"\n",
    "print(s.count(\"llo\"))"
   ]
  },
  {
   "cell_type": "code",
   "execution_count": 56,
   "metadata": {},
   "outputs": [
    {
     "name": "stdout",
     "output_type": "stream",
     "text": [
      "False\n"
     ]
    }
   ],
   "source": [
    "s = \"correo@dominio.com\"\n",
    "print(s.isalnum())"
   ]
  },
  {
   "cell_type": "code",
   "execution_count": 57,
   "metadata": {},
   "outputs": [
    {
     "name": "stdout",
     "output_type": "stream",
     "text": [
      "True\n"
     ]
    }
   ],
   "source": [
    "s = \"abcdefg\"\n",
    "print(s.isalpha())"
   ]
  },
  {
   "cell_type": "code",
   "execution_count": 58,
   "metadata": {},
   "outputs": [
    {
     "name": "stdout",
     "output_type": "stream",
     "text": [
      "abc\n"
     ]
    }
   ],
   "source": [
    "s = \"  abc  \"\n",
    "print(s.strip())"
   ]
  },
  {
   "cell_type": "code",
   "execution_count": 59,
   "metadata": {},
   "outputs": [
    {
     "name": "stdout",
     "output_type": "stream",
     "text": [
      "00123\n"
     ]
    }
   ],
   "source": [
    "s = \"123\"\n",
    "print(s.zfill(5))"
   ]
  },
  {
   "cell_type": "code",
   "execution_count": 60,
   "metadata": {},
   "outputs": [
    {
     "name": "stdout",
     "output_type": "stream",
     "text": [
      "1 y 2 y 3\n"
     ]
    }
   ],
   "source": [
    "s = \" y \".join([\"1\", \"2\", \"3\"])\n",
    "print(s) "
   ]
  },
  {
   "cell_type": "code",
   "execution_count": 61,
   "metadata": {},
   "outputs": [
    {
     "name": "stdout",
     "output_type": "stream",
     "text": [
      "['Python', 'Java', 'C']\n"
     ]
    }
   ],
   "source": [
    "s = \"Python,Java,C\"\n",
    "print(s.split(\",\")) "
   ]
  },
  {
   "cell_type": "code",
   "execution_count": null,
   "metadata": {},
   "outputs": [],
   "source": []
  }
 ],
 "metadata": {
  "kernelspec": {
   "display_name": "Python 3.9.12 ('base')",
   "language": "python",
   "name": "python3"
  },
  "language_info": {
   "codemirror_mode": {
    "name": "ipython",
    "version": 3
   },
   "file_extension": ".py",
   "mimetype": "text/x-python",
   "name": "python",
   "nbconvert_exporter": "python",
   "pygments_lexer": "ipython3",
   "version": "3.9.12"
  },
  "orig_nbformat": 4,
  "vscode": {
   "interpreter": {
    "hash": "449c302f80392c7014f6d4b267ef66d5469eb4e867fcc2db16a46d1806ec86ba"
   }
  }
 },
 "nbformat": 4,
 "nbformat_minor": 2
}
