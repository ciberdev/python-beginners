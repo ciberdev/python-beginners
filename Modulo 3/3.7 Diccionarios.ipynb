{
 "cells": [
  {
   "cell_type": "markdown",
   "id": "a9915698",
   "metadata": {},
   "source": [
    "### Diccionarios"
   ]
  },
  {
   "cell_type": "code",
   "execution_count": 7,
   "id": "11576684",
   "metadata": {},
   "outputs": [
    {
     "name": "stdout",
     "output_type": "stream",
     "text": [
      "{'Nombre': 'Mario', 'Edad': 27, 'Documento': 1029234}\n"
     ]
    }
   ],
   "source": [
    "diccionario1 = {\n",
    "    \"Nombre\": \"Mario\",\n",
    "    \"Edad\" : 27,\n",
    "    \"Documento\" : 1029234\n",
    "}\n",
    "print(diccionario)"
   ]
  },
  {
   "cell_type": "code",
   "execution_count": 4,
   "id": "8c92b054",
   "metadata": {},
   "outputs": [
    {
     "name": "stdout",
     "output_type": "stream",
     "text": [
      "{'Nombre': 'Hiram', 'Edad': 38, 'Documento': 1021534}\n"
     ]
    }
   ],
   "source": [
    "diccionario2 = {\n",
    "    \"Nombre\": \"Hiram\",\n",
    "    \"Edad\" : 38,\n",
    "    \"Documento\" : 1021534\n",
    "}\n",
    "print(diccionario2)"
   ]
  },
  {
   "cell_type": "code",
   "execution_count": 5,
   "id": "1cdd0200",
   "metadata": {},
   "outputs": [
    {
     "name": "stdout",
     "output_type": "stream",
     "text": [
      "{'Nombre': 'Nelson', 'Edad': 25, 'Documento': 1215534}\n"
     ]
    }
   ],
   "source": [
    "diccionario3 = {\n",
    "    \"Nombre\": \"Nelson\",\n",
    "    \"Edad\" : 25,\n",
    "    \"Documento\" : 1215534\n",
    "}\n",
    "print(diccionario3)"
   ]
  },
  {
   "cell_type": "code",
   "execution_count": 8,
   "id": "bc9de068",
   "metadata": {},
   "outputs": [
    {
     "name": "stdout",
     "output_type": "stream",
     "text": [
      "Mario\n"
     ]
    }
   ],
   "source": [
    "print(diccionario1[\"Nombre\"])"
   ]
  },
  {
   "cell_type": "code",
   "execution_count": 10,
   "id": "1dd6cf17",
   "metadata": {},
   "outputs": [
    {
     "name": "stdout",
     "output_type": "stream",
     "text": [
      "{'Nombre': 'Mario', 'Edad': 27, 'Documento': 1029234, 'Direccion': '5 calle 8-45 zona 14'}\n"
     ]
    }
   ],
   "source": [
    "diccionario1[\"Direccion\"] = \"5 calle 8-45 zona 14\"\n",
    "print(diccionario1)"
   ]
  },
  {
   "cell_type": "markdown",
   "id": "0d0399f4",
   "metadata": {},
   "source": [
    "### Recorriendo un diccionario"
   ]
  },
  {
   "cell_type": "code",
   "execution_count": 11,
   "id": "01f63107",
   "metadata": {},
   "outputs": [
    {
     "name": "stdout",
     "output_type": "stream",
     "text": [
      "Nombre\n",
      "Edad\n",
      "Documento\n",
      "Direccion\n"
     ]
    }
   ],
   "source": [
    "for llave in diccionario1:\n",
    "    print(llave)"
   ]
  },
  {
   "cell_type": "code",
   "execution_count": 12,
   "id": "0dc9949b",
   "metadata": {},
   "outputs": [
    {
     "name": "stdout",
     "output_type": "stream",
     "text": [
      "Mario\n",
      "27\n",
      "1029234\n",
      "5 calle 8-45 zona 14\n"
     ]
    }
   ],
   "source": [
    "for llave in diccionario1:\n",
    "    print(diccionario1[llave])"
   ]
  },
  {
   "cell_type": "code",
   "execution_count": 18,
   "id": "71f2332a",
   "metadata": {},
   "outputs": [
    {
     "name": "stdout",
     "output_type": "stream",
     "text": [
      "Nombre: Mario\n",
      "Edad: 27\n",
      "Documento: 1029234\n",
      "Direccion: 5 calle 8-45 zona 14\n"
     ]
    }
   ],
   "source": [
    "for llave, valor in diccionario1.items():    \n",
    "    print(f\"{llave}: {valor}\")"
   ]
  },
  {
   "cell_type": "markdown",
   "id": "a5b44a73",
   "metadata": {},
   "source": [
    "### Diccionarios Anidados"
   ]
  },
  {
   "cell_type": "code",
   "execution_count": 20,
   "id": "d336adcb",
   "metadata": {},
   "outputs": [
    {
     "name": "stdout",
     "output_type": "stream",
     "text": [
      "{'persona1': {'Nombre': 'Mario', 'Edad': 27, 'Documento': 1029234, 'Direccion': '5 calle 8-45 zona 14'}, 'persona2': {'Nombre': 'Hiram', 'Edad': 38, 'Documento': 1021534}, 'persona3': {'Nombre': 'Nelson', 'Edad': 25, 'Documento': 1215534}}\n"
     ]
    }
   ],
   "source": [
    "personal = {\n",
    "    \"persona1\" : diccionario1,\n",
    "    \"persona2\" : diccionario2,\n",
    "    \"persona3\" : diccionario3\n",
    "}\n",
    "print(personal)"
   ]
  },
  {
   "cell_type": "code",
   "execution_count": 24,
   "id": "8ecaab25",
   "metadata": {},
   "outputs": [
    {
     "name": "stdout",
     "output_type": "stream",
     "text": [
      "[{'Nombre': 'Mario', 'Edad': 27, 'Documento': 1029234, 'Direccion': '5 calle 8-45 zona 14'}, {'Nombre': 'Hiram', 'Edad': 38, 'Documento': 1021534}, {'Nombre': 'Nelson', 'Edad': 25, 'Documento': 1215534}]\n"
     ]
    }
   ],
   "source": [
    "personal2 = []\n",
    "personal2.append(diccionario1)\n",
    "personal2.append(diccionario2)\n",
    "personal2.append(diccionario3)\n",
    "print(personal2)"
   ]
  },
  {
   "cell_type": "code",
   "execution_count": null,
   "id": "181e4cac",
   "metadata": {},
   "outputs": [],
   "source": []
  }
 ],
 "metadata": {
  "kernelspec": {
   "display_name": "Python 3 (ipykernel)",
   "language": "python",
   "name": "python3"
  },
  "language_info": {
   "codemirror_mode": {
    "name": "ipython",
    "version": 3
   },
   "file_extension": ".py",
   "mimetype": "text/x-python",
   "name": "python",
   "nbconvert_exporter": "python",
   "pygments_lexer": "ipython3",
   "version": "3.9.12"
  }
 },
 "nbformat": 4,
 "nbformat_minor": 5
}
