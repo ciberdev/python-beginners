{
 "cells": [
  {
   "cell_type": "markdown",
   "id": "5d3fad37",
   "metadata": {},
   "source": [
    "### Asignaciones simples"
   ]
  },
  {
   "cell_type": "code",
   "execution_count": 1,
   "id": "7d103b81",
   "metadata": {},
   "outputs": [],
   "source": [
    "a = 1"
   ]
  },
  {
   "cell_type": "code",
   "execution_count": 2,
   "id": "a9f01b0a",
   "metadata": {},
   "outputs": [],
   "source": [
    "b = 'Árbol'"
   ]
  },
  {
   "cell_type": "markdown",
   "id": "359a6413",
   "metadata": {},
   "source": [
    "### Asignaciones múltiples"
   ]
  },
  {
   "cell_type": "code",
   "execution_count": 3,
   "id": "fe195bab",
   "metadata": {},
   "outputs": [],
   "source": [
    "a = b = c = 1"
   ]
  },
  {
   "cell_type": "code",
   "execution_count": 4,
   "id": "7c0694e7",
   "metadata": {},
   "outputs": [
    {
     "data": {
      "text/plain": [
       "(1, 1, 1)"
      ]
     },
     "execution_count": 4,
     "metadata": {},
     "output_type": "execute_result"
    }
   ],
   "source": [
    "a, b, c"
   ]
  },
  {
   "cell_type": "code",
   "execution_count": 1,
   "id": "bdaba7cf",
   "metadata": {},
   "outputs": [],
   "source": [
    "d = e = [1,2,3]"
   ]
  },
  {
   "cell_type": "code",
   "execution_count": 2,
   "id": "62c6655e",
   "metadata": {},
   "outputs": [
    {
     "data": {
      "text/plain": [
       "([1, 2, 3], [1, 2, 3])"
      ]
     },
     "execution_count": 2,
     "metadata": {},
     "output_type": "execute_result"
    }
   ],
   "source": [
    "d,e"
   ]
  },
  {
   "cell_type": "code",
   "execution_count": 6,
   "id": "f94415ae",
   "metadata": {},
   "outputs": [
    {
     "ename": "SyntaxError",
     "evalue": "cannot assign to function call here. Maybe you meant '==' instead of '='? (<ipython-input-6-babd255f1702>, line 1)",
     "output_type": "error",
     "traceback": [
      "\u001b[0;36m  File \u001b[0;32m\"<ipython-input-6-babd255f1702>\"\u001b[0;36m, line \u001b[0;32m1\u001b[0m\n\u001b[0;31m    e(0)=1\u001b[0m\n\u001b[0m    ^\u001b[0m\n\u001b[0;31mSyntaxError\u001b[0m\u001b[0;31m:\u001b[0m cannot assign to function call here. Maybe you meant '==' instead of '='?\n"
     ]
    }
   ],
   "source": [
    "e(0)=1"
   ]
  },
  {
   "cell_type": "code",
   "execution_count": 4,
   "id": "efd82493",
   "metadata": {},
   "outputs": [
    {
     "data": {
      "text/plain": [
       "([1, 2, 3], 1)"
      ]
     },
     "execution_count": 4,
     "metadata": {},
     "output_type": "execute_result"
    }
   ],
   "source": [
    "d,e"
   ]
  },
  {
   "cell_type": "code",
   "execution_count": 9,
   "id": "25cd05e8",
   "metadata": {},
   "outputs": [],
   "source": [
    "d = e = [1,2,3]"
   ]
  },
  {
   "cell_type": "code",
   "execution_count": 12,
   "id": "0fd5ce51",
   "metadata": {},
   "outputs": [],
   "source": [
    "e.append(d) #al ser d y e el mismo elemento, se ha creado un elemento infinito"
   ]
  },
  {
   "cell_type": "code",
   "execution_count": 11,
   "id": "23f99654",
   "metadata": {},
   "outputs": [
    {
     "data": {
      "text/plain": [
       "[1, 2, 3, [...]]"
      ]
     },
     "execution_count": 11,
     "metadata": {},
     "output_type": "execute_result"
    }
   ],
   "source": [
    "e"
   ]
  },
  {
   "cell_type": "code",
   "execution_count": 13,
   "id": "1dc673b2",
   "metadata": {},
   "outputs": [
    {
     "data": {
      "text/plain": [
       "[1, 2, 3, [...], [...]]"
      ]
     },
     "execution_count": 13,
     "metadata": {},
     "output_type": "execute_result"
    }
   ],
   "source": [
    "e[3] # veamos que contiene el elemento 3 (infinito)"
   ]
  },
  {
   "cell_type": "code",
   "execution_count": 14,
   "id": "6e1469e5",
   "metadata": {},
   "outputs": [
    {
     "data": {
      "text/plain": [
       "[1, 2, 3, [...], [...]]"
      ]
     },
     "execution_count": 14,
     "metadata": {},
     "output_type": "execute_result"
    }
   ],
   "source": [
    "e[3][3]"
   ]
  },
  {
   "cell_type": "code",
   "execution_count": 15,
   "id": "b65ef382",
   "metadata": {},
   "outputs": [],
   "source": [
    "j = k = dict(elem=1, modo='C')"
   ]
  },
  {
   "cell_type": "code",
   "execution_count": 16,
   "id": "d57ad236",
   "metadata": {},
   "outputs": [
    {
     "data": {
      "text/plain": [
       "({'elem': 1, 'modo': 'C'}, {'elem': 1, 'modo': 'C'})"
      ]
     },
     "execution_count": 16,
     "metadata": {},
     "output_type": "execute_result"
    }
   ],
   "source": [
    "j, k"
   ]
  },
  {
   "cell_type": "code",
   "execution_count": 17,
   "id": "88163910",
   "metadata": {},
   "outputs": [],
   "source": [
    "j['elem'] = 2345"
   ]
  },
  {
   "cell_type": "code",
   "execution_count": 18,
   "id": "affd1f95",
   "metadata": {},
   "outputs": [
    {
     "data": {
      "text/plain": [
       "({'elem': 2345, 'modo': 'C'}, {'elem': 2345, 'modo': 'C'})"
      ]
     },
     "execution_count": 18,
     "metadata": {},
     "output_type": "execute_result"
    }
   ],
   "source": [
    "j, k"
   ]
  },
  {
   "cell_type": "code",
   "execution_count": null,
   "id": "cd117b4f",
   "metadata": {},
   "outputs": [],
   "source": []
  }
 ],
 "metadata": {
  "kernelspec": {
   "display_name": "Python 3.10.5 64-bit",
   "language": "python",
   "name": "python3"
  },
  "language_info": {
   "codemirror_mode": {
    "name": "ipython",
    "version": 3
   },
   "file_extension": ".py",
   "mimetype": "text/x-python",
   "name": "python",
   "nbconvert_exporter": "python",
   "pygments_lexer": "ipython3",
   "version": "3.10.5"
  },
  "vscode": {
   "interpreter": {
    "hash": "e7370f93d1d0cde622a1f8e1c04877d8463912d04d973331ad4851f04de6915a"
   }
  }
 },
 "nbformat": 4,
 "nbformat_minor": 5
}
