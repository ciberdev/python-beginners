{
 "cells": [
  {
   "cell_type": "markdown",
   "id": "e700879b",
   "metadata": {},
   "source": [
    "### Asignación de variables simple"
   ]
  },
  {
   "cell_type": "code",
   "execution_count": null,
   "id": "c5a2d010",
   "metadata": {},
   "outputs": [],
   "source": [
    "# la función map() retorna un objeto map (que es un iterador) del resultado de aplicar una funciona dada \n",
    "# a cada elemento de un iterable dado (lista, tupla, etc.)\n",
    "c = map( lambda x: x/342, range(39483))"
   ]
  },
  {
   "cell_type": "code",
   "execution_count": null,
   "id": "7ef9c6f2",
   "metadata": {},
   "outputs": [],
   "source": [
    "print(list(c))"
   ]
  },
  {
   "cell_type": "code",
   "execution_count": null,
   "id": "86c70ac3",
   "metadata": {},
   "outputs": [],
   "source": [
    "x = int(input('escriba un número:')) #ingrese un número"
   ]
  },
  {
   "cell_type": "code",
   "execution_count": null,
   "id": "0acbce47",
   "metadata": {},
   "outputs": [],
   "source": [
    "if x < 0:\n",
    "    print('numero negativo')\n",
    "elif x == 0:\n",
    "    print('El número es cero')\n",
    "else:\n",
    "    print('Número positivo')"
   ]
  },
  {
   "cell_type": "markdown",
   "id": "52646f2a",
   "metadata": {},
   "source": [
    "### Asignaciones múltiples"
   ]
  },
  {
   "cell_type": "code",
   "execution_count": null,
   "id": "68b07174",
   "metadata": {},
   "outputs": [],
   "source": [
    "a = b = c = 1 \n",
    "... a, b, c\n",
    "... b = 2\n",
    "... a, b, c\n"
   ]
  },
  {
   "cell_type": "code",
   "execution_count": null,
   "id": "cdfece4b",
   "metadata": {},
   "outputs": [],
   "source": [
    "d = e = [1, 2, 3]"
   ]
  },
  {
   "cell_type": "code",
   "execution_count": null,
   "id": "4e30da9f",
   "metadata": {},
   "outputs": [],
   "source": [
    "d, e"
   ]
  },
  {
   "cell_type": "code",
   "execution_count": null,
   "id": "4a68dc6a",
   "metadata": {},
   "outputs": [],
   "source": [
    "e = 1 "
   ]
  },
  {
   "cell_type": "code",
   "execution_count": null,
   "id": "a56d2087",
   "metadata": {},
   "outputs": [],
   "source": [
    "d, e"
   ]
  },
  {
   "cell_type": "code",
   "execution_count": null,
   "id": "9d7d3513",
   "metadata": {},
   "outputs": [],
   "source": [
    "j = k = dict(elem=1, modo='C')"
   ]
  },
  {
   "cell_type": "code",
   "execution_count": null,
   "id": "84cd8884",
   "metadata": {},
   "outputs": [],
   "source": [
    "j, k"
   ]
  },
  {
   "cell_type": "code",
   "execution_count": null,
   "id": "a44bfcd8",
   "metadata": {},
   "outputs": [],
   "source": [
    "j['elem'] = 23451 # Al ser j y k el mismo elemento mutable, los cambios en una se propagan a la otra variable"
   ]
  },
  {
   "cell_type": "code",
   "execution_count": null,
   "id": "f4f2d425",
   "metadata": {},
   "outputs": [],
   "source": [
    "j, k"
   ]
  },
  {
   "cell_type": "code",
   "execution_count": null,
   "id": "f58c5be3",
   "metadata": {},
   "outputs": [],
   "source": [
    "a,b,c=[1,2,3]\n",
    "a,b,c"
   ]
  },
  {
   "cell_type": "code",
   "execution_count": null,
   "id": "c4e82bcd",
   "metadata": {},
   "outputs": [],
   "source": [
    "d,e,f = 'Hola'"
   ]
  },
  {
   "cell_type": "code",
   "execution_count": null,
   "id": "b80ed074",
   "metadata": {},
   "outputs": [],
   "source": [
    "d,e,f = 'mar'\n",
    "d,e,f"
   ]
  },
  {
   "cell_type": "code",
   "execution_count": null,
   "id": "ce705bf9",
   "metadata": {},
   "outputs": [],
   "source": [
    "# Que pasa en este código, y por qué sucede?\n",
    "a = [1,2,3]\n",
    "i=0\n",
    "i, a[i]=2,2091\n",
    "a"
   ]
  },
  {
   "cell_type": "markdown",
   "id": "b0258651",
   "metadata": {},
   "source": [
    "### Asignación mediante Sling *"
   ]
  },
  {
   "cell_type": "code",
   "execution_count": null,
   "id": "6541cade",
   "metadata": {},
   "outputs": [],
   "source": [
    "lst = [1, 2, 3, 4, 5, 6]\n",
    "a, *b, c = lst"
   ]
  },
  {
   "cell_type": "code",
   "execution_count": null,
   "id": "1832461f",
   "metadata": {},
   "outputs": [],
   "source": [
    "a"
   ]
  },
  {
   "cell_type": "code",
   "execution_count": null,
   "id": "f3c5e5e5",
   "metadata": {},
   "outputs": [],
   "source": [
    "b"
   ]
  },
  {
   "cell_type": "code",
   "execution_count": null,
   "id": "33f7d023",
   "metadata": {},
   "outputs": [],
   "source": [
    "c"
   ]
  },
  {
   "cell_type": "code",
   "execution_count": null,
   "id": "4028ca5c",
   "metadata": {},
   "outputs": [],
   "source": [
    "d, e, f = lst[0], lst[1:-1], lst[-1]\n",
    "d, e, f"
   ]
  },
  {
   "cell_type": "code",
   "execution_count": null,
   "id": "4293b4ae",
   "metadata": {},
   "outputs": [],
   "source": [
    "a == d, b == e, f == c"
   ]
  }
 ],
 "metadata": {
  "kernelspec": {
   "display_name": "Python 3.10.5 64-bit",
   "language": "python",
   "name": "python3"
  },
  "language_info": {
   "codemirror_mode": {
    "name": "ipython",
    "version": 3
   },
   "file_extension": ".py",
   "mimetype": "text/x-python",
   "name": "python",
   "nbconvert_exporter": "python",
   "pygments_lexer": "ipython3",
   "version": "3.10.5"
  },
  "vscode": {
   "interpreter": {
    "hash": "e7370f93d1d0cde622a1f8e1c04877d8463912d04d973331ad4851f04de6915a"
   }
  }
 },
 "nbformat": 4,
 "nbformat_minor": 5
}
