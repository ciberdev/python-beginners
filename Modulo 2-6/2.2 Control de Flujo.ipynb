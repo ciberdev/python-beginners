{
 "cells": [
  {
   "cell_type": "markdown",
   "id": "b044ce84",
   "metadata": {},
   "source": [
    "### Implementando if"
   ]
  },
  {
   "cell_type": "code",
   "execution_count": 1,
   "id": "9242aa9c",
   "metadata": {},
   "outputs": [
    {
     "name": "stdout",
     "output_type": "stream",
     "text": [
      "Escriba un número:35\n"
     ]
    }
   ],
   "source": [
    "x = int(input('Escriba un número:'))"
   ]
  },
  {
   "cell_type": "code",
   "execution_count": 2,
   "id": "c298caf9",
   "metadata": {},
   "outputs": [
    {
     "name": "stdout",
     "output_type": "stream",
     "text": [
      "Numero positivo\n"
     ]
    }
   ],
   "source": [
    "if x < 0:\n",
    "    print('Número negativo')\n",
    "elif x == 0:\n",
    "    print('El número es cero')\n",
    "else:\n",
    "    print('Numero positivo')"
   ]
  },
  {
   "cell_type": "markdown",
   "id": "25fee1df",
   "metadata": {},
   "source": [
    "### Implementando Switch/Case"
   ]
  },
  {
   "cell_type": "code",
   "execution_count": null,
   "id": "81d4c203",
   "metadata": {},
   "outputs": [],
   "source": [
    "tipo = 'coche'\n",
    "if tipo == 'coche':\n",
    "    ruedas = 4\n",
    "elif tipo == 'bicicletas':\n",
    "    ruedas = 2\n",
    "elif tipo == 'camión':\n",
    "    ruedas = 6\n",
    "else:\n",
    "    ruedas = -1"
   ]
  },
  {
   "cell_type": "code",
   "execution_count": null,
   "id": "b3d64f9b",
   "metadata": {},
   "outputs": [],
   "source": [
    "ruedas"
   ]
  },
  {
   "cell_type": "code",
   "execution_count": null,
   "id": "f948c5c1",
   "metadata": {},
   "outputs": [],
   "source": [
    "tipo_a_ruedas = {'coche':4, 'bicicleta':2, 'camion':6}"
   ]
  },
  {
   "cell_type": "code",
   "execution_count": null,
   "id": "0c3582c6",
   "metadata": {},
   "outputs": [],
   "source": [
    "ruedas2 = tipo_a_ruedas.get(tipo, -1)"
   ]
  },
  {
   "cell_type": "code",
   "execution_count": null,
   "id": "6fa2611f",
   "metadata": {},
   "outputs": [],
   "source": [
    "ruedas2"
   ]
  },
  {
   "cell_type": "markdown",
   "id": "fbf087f0",
   "metadata": {},
   "source": [
    "### if ternario"
   ]
  },
  {
   "cell_type": "code",
   "execution_count": null,
   "id": "6d8308d6",
   "metadata": {},
   "outputs": [],
   "source": [
    "edad = 55\n",
    "categoria = 'Cadete' if edad < 15 else 'Adulto'\n",
    "categoria"
   ]
  },
  {
   "cell_type": "markdown",
   "id": "5a4a51b5",
   "metadata": {},
   "source": [
    "### Bucles"
   ]
  },
  {
   "cell_type": "code",
   "execution_count": null,
   "id": "cf255ee7",
   "metadata": {},
   "outputs": [],
   "source": [
    "i = 0\n",
    "while i < 5:\n",
    "    print(f'Iteración {i}')\n",
    "    i += 1\n",
    "else:\n",
    "    print('i ya es mayor que 5')"
   ]
  },
  {
   "cell_type": "code",
   "execution_count": null,
   "id": "a967b44b",
   "metadata": {},
   "outputs": [],
   "source": [
    "en_bucle = True\n",
    "while en_bucle:\n",
    "    x = int(input('Introduzca un número: '))\n",
    "    if x > 0:\n",
    "        print(f'El número {x} es positivo')\n",
    "    elif x < 0:\n",
    "        print(f'El número {x} es negativo')\n",
    "    elif x == 0:\n",
    "        en_bucle = False\n",
    "        print('Ejecución terminada')"
   ]
  },
  {
   "cell_type": "markdown",
   "id": "d717ba42",
   "metadata": {},
   "source": [
    "### Sentencia for"
   ]
  },
  {
   "cell_type": "code",
   "execution_count": null,
   "id": "34d2906d",
   "metadata": {},
   "outputs": [],
   "source": [
    "# Que hace el siguiente código? \n",
    "# -> range(start, stop, step) stopping at stop-1\n",
    "\n",
    "for x in range(1,11):\n",
    "    if x > 2 and not x % 2:        \n",
    "        print(x)\n",
    "    else:        \n",
    "        print(f'{x} Fin de evaluación')\n",
    "        \n",
    "# Ejercicio: Reescriba este código para que cuente en sentido inverso..."
   ]
  },
  {
   "cell_type": "code",
   "execution_count": null,
   "id": "a3c0fcae",
   "metadata": {},
   "outputs": [],
   "source": [
    "for nombre_eq, punt in [('equipo 1', 89), ('Equipo 2', 123)]:\n",
    "    print(f'{nombre_eq}: {punt}')"
   ]
  },
  {
   "cell_type": "markdown",
   "id": "7349d2e3",
   "metadata": {},
   "source": [
    "### Cambios en el número de elementos a mitad de iteración"
   ]
  },
  {
   "cell_type": "code",
   "execution_count": null,
   "id": "b8a49df4",
   "metadata": {},
   "outputs": [],
   "source": [
    "# Ejecute este ejercicio y explique el por qué del resultado!!!\n",
    "a=[1,2,3,4,5,6]\n",
    "for x in a:\n",
    "    print(x)\n",
    "    a.remove(x)"
   ]
  },
  {
   "cell_type": "code",
   "execution_count": null,
   "id": "8241807c",
   "metadata": {},
   "outputs": [],
   "source": [
    "a"
   ]
  },
  {
   "cell_type": "code",
   "execution_count": null,
   "id": "a622300a",
   "metadata": {},
   "outputs": [],
   "source": [
    "# Explique que sucede cuando se ejecuta este código \n",
    "# (no lo ejecute, solamente analícelo)\n",
    "a = [1,2,3,4,5,6]\n",
    "for x in a:\n",
    "    a.append(x + 100)"
   ]
  },
  {
   "cell_type": "code",
   "execution_count": null,
   "id": "7d0a0d55",
   "metadata": {},
   "outputs": [],
   "source": [
    "d = dict (uno=1, dos=2, tres=3)\n",
    "for k,v in d.items():\n",
    "    del d[k]"
   ]
  },
  {
   "cell_type": "markdown",
   "id": "fc44f139",
   "metadata": {},
   "source": [
    "### Iteración segura en listas \n",
    "##### Con manipulación de elementos durante la ejecución."
   ]
  },
  {
   "cell_type": "code",
   "execution_count": null,
   "id": "06e89066",
   "metadata": {},
   "outputs": [],
   "source": [
    "a = [1, 2, 3, 4, 5, 6]\n",
    "for x in a[:]: # Creando una copia de a usando [:]\n",
    "    a.append(x + 100)"
   ]
  },
  {
   "cell_type": "code",
   "execution_count": null,
   "id": "91047391",
   "metadata": {},
   "outputs": [],
   "source": [
    "a"
   ]
  },
  {
   "cell_type": "code",
   "execution_count": null,
   "id": "ea9975b1",
   "metadata": {},
   "outputs": [],
   "source": [
    "d = dict(uno=1, dos=2, tres=3)\n",
    "dd = d.copy()\n",
    "for k, v in dd.items():    \n",
    "    del d[k]\n",
    "d"
   ]
  },
  {
   "cell_type": "markdown",
   "id": "866187d8",
   "metadata": {},
   "source": [
    "### Control de flujo en bucles"
   ]
  },
  {
   "cell_type": "code",
   "execution_count": null,
   "id": "010309e5",
   "metadata": {},
   "outputs": [],
   "source": [
    "# Detenemos la ejecución del bucle cuando i sea mayor a 3\n",
    "i = 0\n",
    "while i < 50:\n",
    "    print(i)\n",
    "    i += 1\n",
    "    if i > 3:\n",
    "        break"
   ]
  },
  {
   "cell_type": "code",
   "execution_count": null,
   "id": "d47ada00",
   "metadata": {},
   "outputs": [],
   "source": [
    "# Qué hace el siguiente código y por qué imprime i cantidad de nombres?\n",
    "for i, name in enumerate(['Pepe', 'Maria', 'Juan', 'Mario', 'Paloma']):\n",
    "    print(f'{i}: {name}')\n",
    "    if i > 1:\n",
    "        break      "
   ]
  },
  {
   "cell_type": "code",
   "execution_count": null,
   "id": "0aae1c27",
   "metadata": {},
   "outputs": [],
   "source": [
    "for name in reversed(['Pepe', 'Paloma', 'María', 'Manuel', 'Emilio', 'José', 'Antonia']):\n",
    "    if len(name) < 5:\n",
    "        continue # Omite la ejecución cuando name tiene menos de 5 caracteres\n",
    "    print(name)\n",
    "# Como hacemos este mismo ejercicio, pero en orden reverso? (reversed)    "
   ]
  },
  {
   "cell_type": "markdown",
   "id": "0ecabfba",
   "metadata": {},
   "source": [
    "### Asignación mediante walrus"
   ]
  },
  {
   "cell_type": "code",
   "execution_count": null,
   "id": "473bcc8b",
   "metadata": {},
   "outputs": [],
   "source": [
    "bruto = 2351\n",
    "gastos = 456\n",
    "neto = bruto - gastos\n",
    "if neto > 0:\n",
    "    print(f'Neto positivo {neto}')\n",
    "else:\n",
    "    print(f'Neto negativo {neto}')\n",
    "    \n",
    "# Ahora solicite ingresar datos desde el prompt y verifique que pasa si gastos > brutos"
   ]
  },
  {
   "cell_type": "code",
   "execution_count": null,
   "id": "3022c059",
   "metadata": {},
   "outputs": [],
   "source": []
  }
 ],
 "metadata": {
  "kernelspec": {
   "display_name": "Python 3.10.5 64-bit",
   "language": "python",
   "name": "python3"
  },
  "language_info": {
   "codemirror_mode": {
    "name": "ipython",
    "version": 3
   },
   "file_extension": ".py",
   "mimetype": "text/x-python",
   "name": "python",
   "nbconvert_exporter": "python",
   "pygments_lexer": "ipython3",
   "version": "3.10.5"
  },
  "vscode": {
   "interpreter": {
    "hash": "e7370f93d1d0cde622a1f8e1c04877d8463912d04d973331ad4851f04de6915a"
   }
  }
 },
 "nbformat": 4,
 "nbformat_minor": 5
}
