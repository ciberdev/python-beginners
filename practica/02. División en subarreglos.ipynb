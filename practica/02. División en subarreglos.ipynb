{
 "cells": [
  {
   "cell_type": "markdown",
   "id": "6d9f554e",
   "metadata": {},
   "source": [
    "#### Nombre completo:"
   ]
  },
  {
   "attachments": {
    "image.png": {
     "image/png": "[encoded data removed]"
    }
   },
   "cell_type": "markdown",
   "id": "a6db0808",
   "metadata": {},
   "source": [
    "Dos niños, Lily y Ron, quieren compartir una barra de chocolate. Cada uno de los cuadrados tiene un número entero.\n",
    "\n",
    "Lily decide compartir un segmento contiguo de la barra seleccionada de manera que:\n",
    "\n",
    "La longitud del segmento coincide con el mes y de nacimiento de Ron, además,\n",
    "La suma de los números enteros en los cuadrados es igual a su día de nacimiento.\n",
    "\n",
    "Determina de cuántas maneras puede dividir el chocolate.<br>\n",
    "\n",
    "<b>Ejemplo</b>\n",
    "<br>\n",
    "s = [2,2,1,3,2]<br>\n",
    "d = 4<br>\n",
    "m = 2<br>\n",
    "\n",
    "Lily quiere encontrar segmentos que sumen el día del cumpleaños de Ron, d=4, con una longitud igual a su mes de nacimiento,m = 2. En este caso, hay dos segmentos que cumplen sus criterios: [2,2] y [1,3].<br>\n",
    "\n",
    "<b>Función descriptiva</b>\n",
    "\n",
    "Completa la función de cumpleaños en el editor a continuación.<br>\n",
    "\n",
    "cumpleaños tiene los siguientes parámetros:\n",
    "\n",
    "int s[n]: los números en cada uno de los cuadrados de chocolate<br>\n",
    "int d: día del cumpleaños de Ron<br>\n",
    "int m: mes de nacimiento de Ron<br>\n",
    "\n",
    "<b>Devoluciones:</b><br>\n",
    "\n",
    "int: el número de formas en que se puede dividir la barra<br>\n",
    "\n",
    "<b>Formato de entrada</b>\n",
    "\n",
    "La primera línea contiene un número entero n, el número de cuadrados en la barra de chocolate.\n",
    "La segunda línea contiene n enteros separados por espacios s[i], los números en los cuadrados de chocolate donde 0<=i<=n.\n",
    "La tercera línea contiene dos enteros separados por espacios,d y m, el día de nacimiento de Ron y su mes de nacimiento.\n",
    "<br>\n",
    "<b>Ejemplo de Entrada:</b>\n",
    "<br>\n",
    "5\n",
    "<br>\n",
    "1 2 1 3 2\n",
    "<br>\n",
    "3 2\n",
    "<br>\n",
    "<br>\n",
    "<b>Ejemplo de Salida:</b>\n",
    "<br>\n",
    "2\n",
    "\n",
    "Explicación:\n",
    "\n",
    "![image.png](attachment:image.png)\n",
    "\n",
    "<b>Restricciones:</b>\n",
    "<br>\n",
    "1 <= n <= 100<br>\n",
    "1 <= s[i] <= 5, donde (0 <= i <= n)<br>\n",
    "1 <= d <= 31<br>\n",
    "1 <= m <= 12<br>"
   ]
  },
  {
   "cell_type": "code",
   "execution_count": null,
   "id": "8e97ca94",
   "metadata": {},
   "outputs": [],
   "source": [
    "#!/bin/python3\n",
    "\n",
    "import math\n",
    "import os\n",
    "import random\n",
    "import re\n",
    "import sys\n",
    "\n",
    "#\n",
    "# Complete the 'birthday' function below.\n",
    "#\n",
    "# The function is expected to return an INTEGER.\n",
    "# The function accepts following parameters:\n",
    "#  1. INTEGER_ARRAY s\n",
    "#  2. INTEGER d\n",
    "#  3. INTEGER m\n",
    "#\n",
    "\n",
    "def birthday(s, d, m):\n",
    "    # su código acá     \n",
    "\n",
    "n = int(input().strip())\n",
    "s = list(map(int, input().rstrip().split()))\n",
    "\n",
    "first_multiple_input = input().rstrip().split()\n",
    "\n",
    "d = int(first_multiple_input[0])\n",
    "m = int(first_multiple_input[1])\n",
    "\n",
    "result = birthday(s, d, m)\n",
    "\n",
    "print(str(result))"
   ]
  }
 ],
 "metadata": {
  "kernelspec": {
   "display_name": "Python 3",
   "language": "python",
   "name": "python3"
  },
  "language_info": {
   "codemirror_mode": {
    "name": "ipython",
    "version": 3
   },
   "file_extension": ".py",
   "mimetype": "text/x-python",
   "name": "python",
   "nbconvert_exporter": "python",
   "pygments_lexer": "ipython3",
   "version": "3.8.8"
  }
 },
 "nbformat": 4,
 "nbformat_minor": 5
}
