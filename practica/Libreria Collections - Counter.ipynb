{
 "cells": [
  {
   "cell_type": "markdown",
   "id": "9a6a236b",
   "metadata": {},
   "source": [
    "<h2>Libreria Collections</h2>\n",
    "<b>collections.Counter</b>"
   ]
  },
  {
   "cell_type": "code",
   "execution_count": 6,
   "id": "44ffabc5",
   "metadata": {},
   "outputs": [
    {
     "name": "stdout",
     "output_type": "stream",
     "text": [
      "Counter({'rojo': 3, 'verde': 2, 'azul': 2, 'amarillo': 1, 'café': 1, 'rosa': 1, 'negro': 1})\n"
     ]
    }
   ],
   "source": [
    "# Counter es una subclase de dict que está especialmente diseñada pra contar objetos en Python.\n",
    "# Es un diccionario que almacena objetos como llaves y cuentas como valores.  Para contar con Counter, típicamente\n",
    "# se debe proveer una secuencia o iterable de objetos como argumento del constructor.\n",
    "\n",
    "# Counter internamente itera a traves de la secuencia o lista, cuenta el número de veces que un objeto ocurre y almacena\n",
    "# dicha cuenta como valor.\n",
    "from collections import Counter\n",
    "\n",
    "contador = Counter()\n",
    "for color in ['amarillo', 'verde', 'azul', 'rojo', 'café', 'rosa', 'negro', 'verde', 'rojo', 'azul', 'rojo']:\n",
    "    contador[color] += 1\n",
    "    \n",
    "print(contador)\n"
   ]
  },
  {
   "cell_type": "code",
   "execution_count": 5,
   "id": "bbd1d830",
   "metadata": {},
   "outputs": [
    {
     "name": "stdout",
     "output_type": "stream",
     "text": [
      "Counter({'rojo': 3, 'verde': 2, 'azul': 2, 'amarillo': 1, 'café': 1, 'rosa': 1, 'negro': 1})\n"
     ]
    }
   ],
   "source": [
    "contador1 = Counter(['amarillo', 'verde', 'azul', 'rojo', 'café', 'rosa', 'negro', 'verde', 'rojo', 'azul', 'rojo'])\n",
    "print(contador1)"
   ]
  },
  {
   "cell_type": "code",
   "execution_count": 4,
   "id": "eaf4e618",
   "metadata": {},
   "outputs": [
    {
     "name": "stdout",
     "output_type": "stream",
     "text": [
      "['__add__', '__and__', '__class__', '__class_getitem__', '__contains__', '__delattr__', '__delitem__', '__dict__', '__dir__', '__doc__', '__eq__', '__format__', '__ge__', '__getattribute__', '__getitem__', '__gt__', '__hash__', '__iadd__', '__iand__', '__init__', '__init_subclass__', '__ior__', '__isub__', '__iter__', '__le__', '__len__', '__lt__', '__missing__', '__module__', '__ne__', '__neg__', '__new__', '__or__', '__pos__', '__reduce__', '__reduce_ex__', '__repr__', '__reversed__', '__ror__', '__setattr__', '__setitem__', '__sizeof__', '__str__', '__sub__', '__subclasshook__', '__weakref__', '_keep_positive', 'clear', 'copy', 'elements', 'fromkeys', 'get', 'items', 'keys', 'most_common', 'pop', 'popitem', 'setdefault', 'subtract', 'update', 'values']\n"
     ]
    }
   ],
   "source": [
    "print(dir(contador1))"
   ]
  },
  {
   "cell_type": "code",
   "execution_count": 10,
   "id": "9b22838a",
   "metadata": {},
   "outputs": [
    {
     "name": "stdout",
     "output_type": "stream",
     "text": [
      "('rojo', 3)\n"
     ]
    }
   ],
   "source": [
    "print(contador1.most_common()[0])"
   ]
  },
  {
   "cell_type": "code",
   "execution_count": 11,
   "id": "dcec3c58",
   "metadata": {},
   "outputs": [
    {
     "name": "stdout",
     "output_type": "stream",
     "text": [
      "[('rojo', 3)]\n"
     ]
    }
   ],
   "source": [
    "# El más repetido\n",
    "print(contador1.most_common(1))"
   ]
  },
  {
   "cell_type": "code",
   "execution_count": 12,
   "id": "c984845b",
   "metadata": {},
   "outputs": [
    {
     "name": "stdout",
     "output_type": "stream",
     "text": [
      "[('rojo', 3), ('verde', 2)]\n"
     ]
    }
   ],
   "source": [
    "# Los dos más repetidos\n",
    "print(contador1.most_common(2))"
   ]
  },
  {
   "cell_type": "code",
   "execution_count": null,
   "id": "5b7df5e9",
   "metadata": {},
   "outputs": [],
   "source": []
  }
 ],
 "metadata": {
  "kernelspec": {
   "display_name": "Python 3 (ipykernel)",
   "language": "python",
   "name": "python3"
  },
  "language_info": {
   "codemirror_mode": {
    "name": "ipython",
    "version": 3
   },
   "file_extension": ".py",
   "mimetype": "text/x-python",
   "name": "python",
   "nbconvert_exporter": "python",
   "pygments_lexer": "ipython3",
   "version": "3.9.12"
  }
 },
 "nbformat": 4,
 "nbformat_minor": 5
}
