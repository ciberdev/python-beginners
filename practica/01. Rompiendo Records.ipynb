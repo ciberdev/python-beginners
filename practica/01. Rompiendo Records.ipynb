{
 "cells": [
  {
   "cell_type": "markdown",
   "id": "aeb09e3c",
   "metadata": {},
   "source": [
    "#### Nombre completo:"
   ]
  },
  {
   "cell_type": "markdown",
   "id": "92700751",
   "metadata": {},
   "source": [
    "María juega baloncesto en la universidad y quiere convertirse en profesional. Cada temporada mantiene un registro de su juego. Ella tabula la cantidad de veces que rompe su récord de la temporada de más puntos y menos puntos en un juego. Los puntos anotados en el primer juego establecen su récord para la temporada y comienza a contar a partir de ahí.\n",
    "\n",
    "<b>Ejemplo:</b>\n",
    "\n",
    "Las puntuaciones están en el mismo orden que los juegos jugados. Ella tabula sus resultados de la siguiente manera:\n",
    "\n",
    "                               Conteo\n",
    "    Juego Score Minimo Máximo  Min Max\n",
    "      0    12     12     12     0   0\n",
    "      1    24     12     24     0   1\n",
    "      2    10     10     24     1   1\n",
    "      3    24     10     24     1   1\n",
    "      \n",
    "Dados los puntajes de una temporada, determine la cantidad de veces que María rompe sus récords de más y menos puntos anotados durante la temporada.\n",
    "\n",
    "<b>Descripción de la Función:</b>\n",
    "\n",
    "Complete la función rompiendoRecords en el editor a continuación.\n",
    "\n",
    "rompiendoRecords tiene los siguientes parámetros:\n",
    "\n",
    "int puntajes: puntos anotados por juego\n",
    "\n",
    "<b>Retorno</b>\n",
    "\n",
    "int [a,b]: una lista con el número de veces que rompió sus récords. Índice 0 contiene el número de veces que rompió el record de mayor puntaje, y el índice 1 contiene el número de veces que rompió el record de menor puntaje.\n",
    "\n",
    "Formato de entrada:\n",
    "La primera línea contiene un número entero., el número de juegos.\n",
    "La segunda línea contieneenteros separados por espacios que describen los valores respectivos de score0,score1,...,scoren-1 (separado por espacios)\n",
    "\n",
    "<b>Ejemplo de entrada:</b>\n",
    "<br>\n",
    "9<br>\n",
    "10 5 20 20 4 5 2 25 1\n",
    "\n",
    "Ejemplo de salida:<br>\n",
    "2 4<br>"
   ]
  },
  {
   "cell_type": "code",
   "execution_count": null,
   "id": "c3886b92",
   "metadata": {},
   "outputs": [],
   "source": [
    "#!/bin/python3\n",
    "\n",
    "import math\n",
    "import os\n",
    "import random\n",
    "import re\n",
    "import sys\n",
    "\n",
    "#\n",
    "# Complete la función 'breakingRecords'\n",
    "#\n",
    "# Se espera que la función returne una lista de tipo int\n",
    "# La función acepta una lista int de scores como parametro\n",
    "#\n",
    "\n",
    "def rompiendoRecords(scores):  \n",
    "    #Su código acá\n",
    "    \n",
    "\n",
    "puntajes = int(input(\"# puntajes:\").strip())\n",
    "\n",
    "scores = list(map(int, input().rstrip().split()))\n",
    "\n",
    "result = rompiendoRecords(scores)\n",
    "\n",
    "print(f\"{result[0]} {result[1]}\")"
   ]
  }
 ],
 "metadata": {
  "kernelspec": {
   "display_name": "Python 3",
   "language": "python",
   "name": "python3"
  },
  "language_info": {
   "codemirror_mode": {
    "name": "ipython",
    "version": 3
   },
   "file_extension": ".py",
   "mimetype": "text/x-python",
   "name": "python",
   "nbconvert_exporter": "python",
   "pygments_lexer": "ipython3",
   "version": "3.8.8"
  }
 },
 "nbformat": 4,
 "nbformat_minor": 5
}
