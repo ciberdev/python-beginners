{
 "cells": [
  {
   "cell_type": "markdown",
   "id": "aeb09e3c",
   "metadata": {},
   "source": [
    "#### Nombre completo:"
   ]
  },
  {
   "cell_type": "markdown",
   "id": "92700751",
   "metadata": {},
   "source": [
    "María juega baloncesto en la universidad y quiere convertirse en profesional. Cada temporada mantiene un registro de su juego. Ella tabula la cantidad de veces que rompe su récord de la temporada de más puntos y menos puntos en un juego. Los puntos anotados en el primer juego establecen su récord para la temporada y comienza a contar a partir de ahí.\n",
    "\n",
    "<b>Ejemplo:</b>\n",
    "\n",
    "Las puntuaciones están en el mismo orden que los juegos jugados. Ella tabula sus resultados de la siguiente manera:\n",
    "\n",
    "                               Conteo\n",
    "    Juego Score Minimo Máximo  Min Max\n",
    "      0    12     12     12     0   0\n",
    "      1    24     12     24     0   1\n",
    "      2    10     10     24     1   1\n",
    "      3    24     10     24     1   1\n",
    "      4     9      9     24     2   1\n",
    "      \n",
    "Dados los puntajes de una temporada, determine la cantidad de veces que María rompe sus récords de más y menos puntos anotados durante la temporada.\n",
    "\n",
    "<b>Descripción de la Función:</b>\n",
    "\n",
    "Complete la función rompiendoRecords en el editor a continuación.\n",
    "\n",
    "rompiendoRecords tiene los siguientes parámetros:\n",
    "\n",
    "int puntajes: puntos anotados por juego\n",
    "\n",
    "<b>Retorno</b>\n",
    "\n",
    "int [a,b]: una lista con el número de veces que rompió sus récords. Índice 0 contiene el número de veces que rompió el record de mayor puntaje, y el índice 1 contiene el número de veces que rompió el record de menor puntaje.\n",
    "\n",
    "Formato de entrada:\n",
    "La primera línea contiene un número entero., el número de juegos.\n",
    "La segunda línea contieneenteros separados por espacios que describen los valores respectivos de score0,score1,...,scoren-1 (separado por espacios)\n",
    "\n",
    "<b>Ejemplo de entrada:</b>\n",
    "<br>\n",
    "9<br>\n",
    "10 5 20 20 4 5 2 25 1\n",
    "\n",
    "Ejemplo de salida:<br>\n",
    "2 4<br>"
   ]
  },
  {
   "cell_type": "code",
   "execution_count": 4,
   "id": "c3886b92",
   "metadata": {},
   "outputs": [
    {
     "name": "stdout",
     "output_type": "stream",
     "text": [
      "# puntajes:1000\n",
      "35 58 86 60 19 37 65 26 39 83 26 86 33 99 63 68 62 78 95 20 23 28 87 78 46 87 51 72 42 12 50 74 17 68 30 14 88 96 62 94 84 50 91 93 98 32 50 20 17 63 47 89 28 14 23 56 43 94 63 27 12 65 95 62 46 84 29 23 63 63 10 62 97 50 37 57 87 10 69 57 66 99 27 77 39 60 48 19 47 62 58 35 51 32 77 31 86 30 93 16 28 13 70 98 11 51 82 58 78 76 60 98 18 22 89 59 77 69 53 19 67 73 36 34 78 100 35 45 100 23 31 69 75 24 77 29 50 83 39 33 86 20 29 69 17 65 32 64 22 26 22 12 52 30 59 46 16 60 73 98 72 15 58 41 78 56 30 98 75 19 93 16 14 74 78 28 31 72 76 82 82 11 20 56 70 63 12 36 81 15 10 80 41 91 87 82 33 84 42 30 58 64 58 25 95 19 43 20 81 99 99 93 48 33 89 31 10 14 22 45 52 54 26 70 62 47 33 32 88 39 62 10 50 48 38 46 56 91 63 25 14 40 20 32 53 94 39 11 67 96 96 36 39 53 62 89 50 36 29 49 57 58 59 28 20 56 37 87 92 57 44 57 39 20 35 62 47 84 16 20 56 96 15 19 99 12 20 85 99 98 77 72 32 32 39 47 13 62 70 57 17 58 28 90 61 98 51 14 54 54 26 76 21 90 82 39 54 15 40 23 16 75 79 74 34 33 45 28 87 73 51 55 23 39 83 42 77 45 95 10 56 94 14 56 85 43 88 70 35 66 86 94 28 96 52 72 41 12 38 33 48 88 53 42 21 60 71 75 100 60 14 34 60 79 18 55 27 54 38 41 39 17 56 74 55 70 90 83 79 53 10 80 65 18 39 65 94 80 73 65 50 28 58 90 84 20 81 74 96 13 65 50 69 65 12 30 21 68 43 90 43 27 14 93 11 75 25 23 86 68 76 51 42 47 64 65 26 77 86 28 62 35 60 96 76 18 39 21 80 48 92 11 41 97 55 95 13 21 60 70 88 80 77 100 24 45 90 34 56 50 50 74 14 94 48 52 73 97 85 92 49 72 55 13 17 73 44 57 16 36 53 38 76 81 88 53 56 15 63 54 51 97 28 75 76 65 96 41 37 67 95 69 56 33 58 89 56 31 14 88 47 51 33 33 92 57 50 79 83 46 41 57 90 86 26 40 35 100 92 15 12 12 77 71 69 53 97 95 89 96 24 12 90 65 62 67 35 45 19 16 39 72 52 31 85 76 27 61 56 98 20 97 51 43 95 56 97 77 25 39 68 36 13 44 70 91 43 41 46 37 90 96 89 86 75 46 24 88 54 100 14 40 75 26 40 69 41 48 28 51 86 86 73 43 98 92 38 27 68 15 79 11 29 80 33 57 67 82 59 94 94 64 97 79 18 42 11 96 94 23 95 38 52 98 17 77 87 86 92 75 97 34 73 52 40 54 89 10 13 97 95 53 17 16 16 68 92 49 91 67 27 93 33 15 30 76 48 52 60 29 55 80 57 34 60 71 54 31 26 93 66 33 70 29 15 43 95 58 63 72 92 11 10 74 68 85 76 28 15 65 17 93 11 97 89 41 91 86 94 20 13 40 28 29 69 39 54 41 77 81 92 48 19 62 88 59 21 48 84 57 77 40 13 45 50 31 86 74 34 100 57 60 50 50 90 72 93 100 87 40 45 86 79 36 11 80 19 19 18 12 84 96 54 28 53 61 52 76 45 46 91 53 29 80 34 77 79 81 79 96 51 88 62 30 33 86 70 27 19 84 57 14 86 67 66 93 18 75 66 67 71 13 48 66 45 59 15 34 61 86 59 79 78 35 50 51 38 39 27 79 10 40 98 89 50 89 20 44 30 96 63 60 41 56 17 41 85 37 82 26 38 10 16 59 33 34 73 34 29 79 22 72 70 80 25 92 51 66 95 46 94 11 82 31 77 94 32 81 78 66 15 29 46 73 54 46 35 62 91 77 39 66 43 66 87 38 98 71 58 52 29 95 74 81 16 65 92 64 63 54 68 68 57 70 84 70 16 85 15 71 66 78 96 23 52 24 61 80 38 77 93 37 54 38 22 52 13 34 43 44 26 78 23 58 49 40 44 75 73 83 24 88 91 89 60 15 32 69 13 39 82 74 44 60 58 90 10 86 64 12 74 17 55 57 52 33 90 42 33 72 93 69 31 50 39 85 99 69 89 79 97 60 83 26 67 13 45 56 74 72 \n",
      "########################################################\n",
      "4 3\n"
     ]
    }
   ],
   "source": [
    "#!/bin/python3\n",
    "\n",
    "import math\n",
    "import os\n",
    "import random\n",
    "import re\n",
    "import sys\n",
    "\n",
    "#\n",
    "# Complete la función 'breakingRecords'\n",
    "#\n",
    "# Se espera que la función returne una lista de tipo int\n",
    "# La función acepta una lista int de scores como parametro\n",
    "#\n",
    "\n",
    "def rompiendoRecords(scores):  \n",
    "    # [10, 5, 20, 20, 4, 5, 2, 25, 1]\n",
    "    # 1. inicializar variables contadoras\n",
    "    countmax, max = 0, None\n",
    "    countmin, min = 0, None\n",
    "    # 2. Iterar sobre la lista scores para ir comparando valores\n",
    "    for x in scores:\n",
    "        if max == None:\n",
    "            max = x\n",
    "        else:\n",
    "            if max < x:\n",
    "                max = x\n",
    "                countmax += 1\n",
    "            \n",
    "        if min == None:\n",
    "            min = x\n",
    "        else:\n",
    "            if min > x:\n",
    "                min = x\n",
    "                countmin += 1\n",
    "    return [countmax, countmin]\n",
    "    \n",
    "# Lectura de scores\n",
    "# 10 5 20 20 4 5 2 25 1\n",
    "puntajes = input(\"# puntajes:\").strip()\n",
    "\n",
    "#lista de scores (int)\n",
    "scores = list(map(int, input().rstrip().split()))\n",
    "\n",
    "result = rompiendoRecords(scores)\n",
    "print(\"########################################################\")\n",
    "print(f\"{result[0]} {result[1]}\")"
   ]
  },
  {
   "cell_type": "code",
   "execution_count": null,
   "id": "8eb720f9",
   "metadata": {},
   "outputs": [],
   "source": []
  }
 ],
 "metadata": {
  "kernelspec": {
   "display_name": "Python 3 (ipykernel)",
   "language": "python",
   "name": "python3"
  },
  "language_info": {
   "codemirror_mode": {
    "name": "ipython",
    "version": 3
   },
   "file_extension": ".py",
   "mimetype": "text/x-python",
   "name": "python",
   "nbconvert_exporter": "python",
   "pygments_lexer": "ipython3",
   "version": "3.9.12"
  }
 },
 "nbformat": 4,
 "nbformat_minor": 5
}
