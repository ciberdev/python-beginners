{
 "cells": [
  {
   "cell_type": "markdown",
   "id": "e53ad0b0",
   "metadata": {},
   "source": [
    "Detalle de escalera\n",
    "\n",
    "Esta es una escalera de tamaño n=4:\n",
    "\n",
    "<code>\n",
    "   #\n",
    "  ##\n",
    " ###\n",
    "####\n",
    "</code>\n",
    "\n",
    "Su base y su altura son ambas iguales a n. Se dibuja usando símbolos '#' y espacios. La última línea no \n",
    "va precedida de ningún espacio.\n",
    "\n",
    "Escriba un programa que imprima una escalera de tamaño n.\n",
    "\n",
    "<br><b>Descripción de la función</b><br>\n",
    "\n",
    "Complete la función de escalera en el editor a continuación.\n",
    "\n",
    "escalera tiene los siguientes parámetros:\n",
    "\n",
    "int n : un número entero\n",
    "    \n",
    "\n",
    "<br><b>Impresión</b><br>\n",
    "\n",
    "Imprima una escalera como se describe arriba.\n",
    "\n",
    "<br><b>Formato de entrada</b><br>\n",
    "\n",
    "Un solo entero n, que denota el tamaño de la escalera.\n",
    "\n",
    "\n",
    "<br><b>Restricciones</b><br>\n",
    "0 < n <= 100\n",
    "\n",
    "\n",
    "<br><b>Formato de salida</b><br>\n",
    "\n",
    "\n",
    "Imprimir una escalera de tamaño n utilizando símbolos '#' y espacios.\n",
    "\n",
    "Nota : La última línea debe tener 0 espacios en ella.\n",
    "\n",
    "    \n",
    "Entrada de muestra\n",
    "\n",
    "6 \n",
    "Salida de muestra\n",
    "\n",
    "<code>\n",
    "     #\n",
    "    ##\n",
    "   ###\n",
    "  ####\n",
    " #####\n",
    "######\n",
    "</code>\n"
   ]
  },
  {
   "cell_type": "code",
   "execution_count": 2,
   "id": "490b5959",
   "metadata": {},
   "outputs": [
    {
     "name": "stdout",
     "output_type": "stream",
     "text": [
      "10\n",
      "*****\n"
     ]
    }
   ],
   "source": [
    "#\n",
    "# Complete la función 'staircase'.\n",
    "#\n",
    "# La función acepta un INTEGER n como parametro.\n",
    "#\n",
    "\n",
    "def staircase(n):        \n",
    "    espacio = \" \" * 5\n",
    "    \n",
    "    # Su código acá\n",
    "\n",
    "n = int(input().strip())\n",
    "staircase(n)\n"
   ]
  },
  {
   "cell_type": "code",
   "execution_count": null,
   "id": "ca0e636c",
   "metadata": {},
   "outputs": [],
   "source": []
  }
 ],
 "metadata": {
  "kernelspec": {
   "display_name": "Python 3 (ipykernel)",
   "language": "python",
   "name": "python3"
  },
  "language_info": {
   "codemirror_mode": {
    "name": "ipython",
    "version": 3
   },
   "file_extension": ".py",
   "mimetype": "text/x-python",
   "name": "python",
   "nbconvert_exporter": "python",
   "pygments_lexer": "ipython3",
   "version": "3.9.12"
  }
 },
 "nbformat": 4,
 "nbformat_minor": 5
}
