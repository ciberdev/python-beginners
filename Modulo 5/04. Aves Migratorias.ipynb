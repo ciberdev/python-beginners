{
 "cells": [
  {
   "cell_type": "markdown",
   "id": "0e112442",
   "metadata": {},
   "source": [
    "Dada una serie de avistamientos de aves donde cada elemento representa una identificación de tipo de ave, determine la identificación del tipo avistado con más frecuencia. Si se ha detectado más de 1 tipo de esa cantidad máxima, devuelva la identificación más pequeña.\n",
    "\n",
    "<b>Ejemplo</b><br>\n",
    "\n",
    "arr = [1,1,2,2,3]\n",
    "\n",
    "Hay dos de cada uno de los tipos 1 y 2, y un avistamiento de tipo 3. Elija el menor de los dos tipos vistos dos veces: tipo 1.\n",
    "\n",
    "<br><b>Descripción de la Función</b><br>\n",
    "\n",
    "Complete la función de aves migratorias en el editor a continuación.\n",
    "\n",
    "migratoryBirds tiene los siguientes parámetros:\n",
    "\n",
    "<ul>\n",
    "  <li>int arr[n] : los tipos de pájaros avistados</li>\n",
    "</ul>    \n",
    "\n",
    "<br><b>Retorna</b><br>    \n",
    "\n",
    "<ul>\n",
    "  <li>int: el id de tipo más bajo de las aves avistadas con más frecuencia</li>\n",
    "</ul>    \n",
    "    \n",
    "<br><b>Formato de entrada</b><br>\n",
    "\n",
    "La primera línea contiene un número entero, n, el tamaño de arr.\n",
    "La segunda línea describe arr como n enteros separados por espacios, cada uno es un número de tipo del ave avistada.\n",
    "    \n",
    "<br><b>Restricciones</b><br>    \n",
    "<ul>\n",
    "  <li>5 <= n <= 2 x 10^5</li>\n",
    "  <li>Se garantiza que cada tipo es 1,2,3,4, o 5.</li>\n",
    "</ul>    \n",
    "\n",
    "<br><b>Ejemplo</b><br>    \n",
    "6 <br>\n",
    "1 4 4 4 5 3 <br>\n",
    "<br><b>Respuesta</b><br>    \n",
    "4\n",
    "\n",
    "El número de tipo que ocurre con la frecuencia más alta es tipo 4, entonces imprimimos 4 como nuestra respuesta.\n",
    "\n",
    "<b>Prueba</b><br>    \n",
    "11 <br>    \n",
    "1 2 3 4 5 4 3 2 1 3 4 <br>\n",
    "<br><b>Respuesta</b><br>    \n",
    "3"
   ]
  },
  {
   "cell_type": "code",
   "execution_count": 18,
   "id": "dee3af62",
   "metadata": {},
   "outputs": [
    {
     "name": "stdout",
     "output_type": "stream",
     "text": [
      "11\n",
      "1 2 3 4 5 4 3 2 1 3 4\n",
      "[{'numero': 3, 'conteo': 3}, {'numero': 4, 'conteo': 3}, {'numero': 1, 'conteo': 2}, {'numero': 2, 'conteo': 2}, {'numero': 5, 'conteo': 1}]\n",
      "5\n"
     ]
    }
   ],
   "source": [
    "#!/bin/python3\n",
    "\n",
    "import math\n",
    "import os\n",
    "import random\n",
    "import re\n",
    "import sys\n",
    "\n",
    "#\n",
    "# Complete the 'migratoryBirds' function below.\n",
    "#\n",
    "# The function is expected to return an INTEGER.\n",
    "# The function accepts INTEGER_ARRAY arr as parameter.\n",
    "#\n",
    "\n",
    "def migratoryBirds(arr):\n",
    "    # 1. Elaboramos una lista de valores únicos\n",
    "    arr_unique = set(arr)\n",
    "    resultados = []\n",
    "    # 2. Construimos una lista de dict con los valores unicos y el número de ocurrencias de estos\n",
    "    #    en la lista\n",
    "    for item in list(arr_unique):\n",
    "        conteo = arr.count(item)\n",
    "        #print(f\"{item}: {conteo}\")\n",
    "        resultados.append( {\"numero\": item, \"conteo\" : conteo} )\n",
    "    # 3. Ordenarlos por número de ocurrencia, y por el valor (ascendente)\n",
    "    resultados.sort(key= lambda x: x[\"conteo\"], reverse=True)\n",
    "    #print(resultados)\n",
    "    \n",
    "    return resultados[0][\"numero\"]\n",
    "\n",
    "arr_count = int(input().strip())\n",
    "arr = list(map(int, input().rstrip().split()))\n",
    "\n",
    "result = migratoryBirds(arr)\n",
    "\n",
    "print(result)\n"
   ]
  },
  {
   "cell_type": "code",
   "execution_count": null,
   "id": "1f10e9d7",
   "metadata": {},
   "outputs": [],
   "source": []
  }
 ],
 "metadata": {
  "kernelspec": {
   "display_name": "Python 3 (ipykernel)",
   "language": "python",
   "name": "python3"
  },
  "language_info": {
   "codemirror_mode": {
    "name": "ipython",
    "version": 3
   },
   "file_extension": ".py",
   "mimetype": "text/x-python",
   "name": "python",
   "nbconvert_exporter": "python",
   "pygments_lexer": "ipython3",
   "version": "3.9.12"
  }
 },
 "nbformat": 4,
 "nbformat_minor": 5
}
