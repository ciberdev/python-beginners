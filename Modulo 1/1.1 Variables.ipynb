{
 "cells": [
  {
   "cell_type": "markdown",
   "id": "242c6f3b",
   "metadata": {},
   "source": [
    "### Literales"
   ]
  },
  {
   "cell_type": "code",
   "execution_count": null,
   "id": "a880347a",
   "metadata": {},
   "outputs": [],
   "source": [
    "type(80)"
   ]
  },
  {
   "cell_type": "code",
   "execution_count": null,
   "id": "78a74f58",
   "metadata": {},
   "outputs": [],
   "source": [
    "type('libro')"
   ]
  },
  {
   "cell_type": "code",
   "execution_count": null,
   "id": "d0e71787",
   "metadata": {},
   "outputs": [],
   "source": [
    "type(dict(x=1, y=45, z=14))"
   ]
  },
  {
   "cell_type": "code",
   "execution_count": null,
   "id": "9ffc0d74",
   "metadata": {},
   "outputs": [],
   "source": [
    "dir(90) # Despliega las operaciones disponibles para este tipo de dato"
   ]
  },
  {
   "cell_type": "code",
   "execution_count": null,
   "id": "b8d35270",
   "metadata": {},
   "outputs": [],
   "source": [
    "import ctypes\n",
    "id(42)"
   ]
  },
  {
   "cell_type": "code",
   "execution_count": null,
   "id": "3a93d302",
   "metadata": {},
   "outputs": [],
   "source": [
    "ctypes.cast(4550146768, ctypes.py_object).value"
   ]
  },
  {
   "cell_type": "markdown",
   "id": "85901472",
   "metadata": {},
   "source": [
    "### Variables"
   ]
  },
  {
   "cell_type": "code",
   "execution_count": 2,
   "id": "cfa00212",
   "metadata": {},
   "outputs": [],
   "source": [
    "nota = 85"
   ]
  },
  {
   "cell_type": "code",
   "execution_count": null,
   "id": "df8d562d",
   "metadata": {},
   "outputs": [],
   "source": [
    "ciudad = 'Quetzaltenango'"
   ]
  },
  {
   "cell_type": "code",
   "execution_count": null,
   "id": "d94a5c8e",
   "metadata": {},
   "outputs": [],
   "source": [
    "nota"
   ]
  },
  {
   "cell_type": "code",
   "execution_count": null,
   "id": "365ff84a",
   "metadata": {},
   "outputs": [],
   "source": [
    "ciudad"
   ]
  }
 ],
 "metadata": {
  "kernelspec": {
   "display_name": "Python 3 (ipykernel)",
   "language": "python",
   "name": "python3"
  },
  "language_info": {
   "codemirror_mode": {
    "name": "ipython",
    "version": 3
   },
   "file_extension": ".py",
   "mimetype": "text/x-python",
   "name": "python",
   "nbconvert_exporter": "python",
   "pygments_lexer": "ipython3",
   "version": "3.9.12"
  }
 },
 "nbformat": 4,
 "nbformat_minor": 5
}
