{
 "cells": [
  {
   "cell_type": "markdown",
   "id": "6cd2214e",
   "metadata": {},
   "source": [
    "### Tipos booleanos"
   ]
  },
  {
   "cell_type": "code",
   "execution_count": 2,
   "id": "83cdc0aa",
   "metadata": {},
   "outputs": [
    {
     "name": "stdout",
     "output_type": "stream",
     "text": [
      "True False\n"
     ]
    }
   ],
   "source": [
    "print(bool(True), bool(False))"
   ]
  },
  {
   "cell_type": "code",
   "execution_count": 3,
   "id": "ba30244c",
   "metadata": {},
   "outputs": [
    {
     "name": "stdout",
     "output_type": "stream",
     "text": [
      "False False False False False\n"
     ]
    }
   ],
   "source": [
    "print(bool(0), bool(0j), bool(''), bool(None), bool(set()))"
   ]
  },
  {
   "cell_type": "code",
   "execution_count": 5,
   "id": "e7a06015",
   "metadata": {},
   "outputs": [
    {
     "name": "stdout",
     "output_type": "stream",
     "text": [
      "True True True True\n"
     ]
    }
   ],
   "source": [
    "print(bool(1), bool(-1), bool('casa'), bool(24))"
   ]
  },
  {
   "cell_type": "markdown",
   "id": "3df38488",
   "metadata": {},
   "source": [
    "### Operaciones con booleanos"
   ]
  },
  {
   "cell_type": "code",
   "execution_count": 7,
   "id": "03a8452b",
   "metadata": {},
   "outputs": [
    {
     "data": {
      "text/plain": [
       "2"
      ]
     },
     "execution_count": 7,
     "metadata": {},
     "output_type": "execute_result"
    }
   ],
   "source": [
    "24 and 9 and 2"
   ]
  },
  {
   "cell_type": "code",
   "execution_count": 9,
   "id": "e9f46bee",
   "metadata": {},
   "outputs": [
    {
     "data": {
      "text/plain": [
       "False"
      ]
     },
     "execution_count": 9,
     "metadata": {},
     "output_type": "execute_result"
    }
   ],
   "source": [
    "False and 21"
   ]
  },
  {
   "cell_type": "code",
   "execution_count": 11,
   "id": "51319f36",
   "metadata": {},
   "outputs": [
    {
     "ename": "SyntaxError",
     "evalue": "invalid syntax (561727353.py, line 1)",
     "output_type": "error",
     "traceback": [
      "\u001b[1;36m  Input \u001b[1;32mIn [11]\u001b[1;36m\u001b[0m\n\u001b[1;33m    23 OR 'CASA'\u001b[0m\n\u001b[1;37m       ^\u001b[0m\n\u001b[1;31mSyntaxError\u001b[0m\u001b[1;31m:\u001b[0m invalid syntax\n"
     ]
    }
   ],
   "source": [
    "23 OR 'CASA'"
   ]
  },
  {
   "cell_type": "code",
   "execution_count": 21,
   "id": "4061874e",
   "metadata": {},
   "outputs": [
    {
     "data": {
      "text/plain": [
       "0"
      ]
     },
     "execution_count": 21,
     "metadata": {},
     "output_type": "execute_result"
    }
   ],
   "source": [
    "True and 0 and 10"
   ]
  },
  {
   "cell_type": "markdown",
   "id": "c06e4d03",
   "metadata": {},
   "source": [
    "### Short-Circuit"
   ]
  },
  {
   "cell_type": "code",
   "execution_count": 22,
   "id": "d81d204a",
   "metadata": {},
   "outputs": [
    {
     "data": {
      "text/plain": [
       "'cuaderno'"
      ]
     },
     "execution_count": 22,
     "metadata": {},
     "output_type": "execute_result"
    }
   ],
   "source": [
    "0 or 'cuaderno' or 24 or x"
   ]
  },
  {
   "cell_type": "code",
   "execution_count": 23,
   "id": "1a6435f6",
   "metadata": {},
   "outputs": [
    {
     "ename": "NameError",
     "evalue": "name 'x' is not defined",
     "output_type": "error",
     "traceback": [
      "\u001b[1;31m---------------------------------------------------------------------------\u001b[0m",
      "\u001b[1;31mNameError\u001b[0m                                 Traceback (most recent call last)",
      "Input \u001b[1;32mIn [23]\u001b[0m, in \u001b[0;36m<cell line: 1>\u001b[1;34m()\u001b[0m\n\u001b[1;32m----> 1\u001b[0m \u001b[38;5;241m16\u001b[39m \u001b[38;5;129;01mand\u001b[39;00m \u001b[38;5;28;01mTrue\u001b[39;00m \u001b[38;5;129;01mand\u001b[39;00m \u001b[38;5;241m0\u001b[39m \u001b[38;5;129;01mor\u001b[39;00m \u001b[43mx\u001b[49m\n",
      "\u001b[1;31mNameError\u001b[0m: name 'x' is not defined"
     ]
    }
   ],
   "source": [
    "16 and True and 0 or x"
   ]
  },
  {
   "cell_type": "code",
   "execution_count": null,
   "id": "62cd707a",
   "metadata": {},
   "outputs": [],
   "source": []
  }
 ],
 "metadata": {
  "kernelspec": {
   "display_name": "Python 3 (ipykernel)",
   "language": "python",
   "name": "python3"
  },
  "language_info": {
   "codemirror_mode": {
    "name": "ipython",
    "version": 3
   },
   "file_extension": ".py",
   "mimetype": "text/x-python",
   "name": "python",
   "nbconvert_exporter": "python",
   "pygments_lexer": "ipython3",
   "version": "3.9.12"
  }
 },
 "nbformat": 4,
 "nbformat_minor": 5
}
