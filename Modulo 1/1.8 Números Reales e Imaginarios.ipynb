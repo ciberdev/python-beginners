{
 "cells": [
  {
   "cell_type": "code",
   "execution_count": 1,
   "id": "8808acce",
   "metadata": {},
   "outputs": [
    {
     "data": {
      "text/plain": [
       "5.551115123125783e-17"
      ]
     },
     "execution_count": 1,
     "metadata": {},
     "output_type": "execute_result"
    }
   ],
   "source": [
    "0.1+0.2-0.3"
   ]
  },
  {
   "cell_type": "code",
   "execution_count": 2,
   "id": "b9e8e70c",
   "metadata": {},
   "outputs": [
    {
     "data": {
      "text/plain": [
       "4.5"
      ]
     },
     "execution_count": 2,
     "metadata": {},
     "output_type": "execute_result"
    }
   ],
   "source": [
    "9/2"
   ]
  },
  {
   "cell_type": "code",
   "execution_count": 3,
   "id": "782e1641",
   "metadata": {},
   "outputs": [
    {
     "data": {
      "text/plain": [
       "6.28"
      ]
     },
     "execution_count": 3,
     "metadata": {},
     "output_type": "execute_result"
    }
   ],
   "source": [
    "3.14 * 2"
   ]
  },
  {
   "cell_type": "code",
   "execution_count": 4,
   "id": "76383887",
   "metadata": {},
   "outputs": [
    {
     "data": {
      "text/plain": [
       "9.25645898736"
      ]
     },
     "execution_count": 4,
     "metadata": {},
     "output_type": "execute_result"
    }
   ],
   "source": [
    "float('9.25645898736')"
   ]
  },
  {
   "cell_type": "code",
   "execution_count": 5,
   "id": "4a33c48b",
   "metadata": {},
   "outputs": [
    {
     "data": {
      "text/plain": [
       "1e-22"
      ]
     },
     "execution_count": 5,
     "metadata": {},
     "output_type": "execute_result"
    }
   ],
   "source": [
    "10e-23"
   ]
  },
  {
   "cell_type": "code",
   "execution_count": 6,
   "id": "08ff37fa",
   "metadata": {},
   "outputs": [
    {
     "data": {
      "text/plain": [
       "sys.float_info(max=1.7976931348623157e+308, max_exp=1024, max_10_exp=308, min=2.2250738585072014e-308, min_exp=-1021, min_10_exp=-307, dig=15, mant_dig=53, epsilon=2.220446049250313e-16, radix=2, rounds=1)"
      ]
     },
     "execution_count": 6,
     "metadata": {},
     "output_type": "execute_result"
    }
   ],
   "source": [
    "import sys\n",
    "sys.float_info # ver https://docs.python.org/es/3/library/sys.html"
   ]
  },
  {
   "cell_type": "code",
   "execution_count": 7,
   "id": "b1bbbe65",
   "metadata": {},
   "outputs": [
    {
     "data": {
      "text/plain": [
       "933.9453125"
      ]
     },
     "execution_count": 7,
     "metadata": {},
     "output_type": "execute_result"
    }
   ],
   "source": [
    "float.fromhex('0x3a5.f2')"
   ]
  },
  {
   "cell_type": "code",
   "execution_count": 8,
   "id": "8dcb9987",
   "metadata": {},
   "outputs": [
    {
     "data": {
      "text/plain": [
       "(7910854220452987, 140737488355328)"
      ]
     },
     "execution_count": 8,
     "metadata": {},
     "output_type": "execute_result"
    }
   ],
   "source": [
    "(56.21).as_integer_ratio()"
   ]
  },
  {
   "cell_type": "code",
   "execution_count": 9,
   "id": "24d5c29c",
   "metadata": {},
   "outputs": [
    {
     "data": {
      "text/plain": [
       "56.21"
      ]
     },
     "execution_count": 9,
     "metadata": {},
     "output_type": "execute_result"
    }
   ],
   "source": [
    "7910854220452987/140737488355328"
   ]
  },
  {
   "cell_type": "markdown",
   "id": "5a6b38f8",
   "metadata": {},
   "source": [
    "### Numeros imaginarios"
   ]
  },
  {
   "cell_type": "code",
   "execution_count": 10,
   "id": "97d27046",
   "metadata": {},
   "outputs": [
    {
     "data": {
      "text/plain": [
       "(6+3j)"
      ]
     },
     "execution_count": 10,
     "metadata": {},
     "output_type": "execute_result"
    }
   ],
   "source": [
    "2 + 3j + 4"
   ]
  },
  {
   "cell_type": "code",
   "execution_count": 11,
   "id": "e7519a89",
   "metadata": {},
   "outputs": [
    {
     "data": {
      "text/plain": [
       "(1+4j)"
      ]
     },
     "execution_count": 11,
     "metadata": {},
     "output_type": "execute_result"
    }
   ],
   "source": [
    "complex('1+4j')"
   ]
  },
  {
   "cell_type": "code",
   "execution_count": 12,
   "id": "24f9b12a",
   "metadata": {},
   "outputs": [
    {
     "data": {
      "text/plain": [
       "(-5.116300000000001+5j)"
      ]
     },
     "execution_count": 12,
     "metadata": {},
     "output_type": "execute_result"
    }
   ],
   "source": [
    "5 + 2.34 + 5J - 12.4563"
   ]
  },
  {
   "cell_type": "code",
   "execution_count": null,
   "id": "88ae7054",
   "metadata": {},
   "outputs": [],
   "source": []
  }
 ],
 "metadata": {
  "kernelspec": {
   "display_name": "Python 3 (ipykernel)",
   "language": "python",
   "name": "python3"
  },
  "language_info": {
   "codemirror_mode": {
    "name": "ipython",
    "version": 3
   },
   "file_extension": ".py",
   "mimetype": "text/x-python",
   "name": "python",
   "nbconvert_exporter": "python",
   "pygments_lexer": "ipython3",
   "version": "3.9.12"
  }
 },
 "nbformat": 4,
 "nbformat_minor": 5
}
