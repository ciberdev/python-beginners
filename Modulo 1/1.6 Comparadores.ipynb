{
 "cells": [
  {
   "cell_type": "markdown",
   "id": "a990d899",
   "metadata": {},
   "source": [
    "### Ejercicios con Comparadores"
   ]
  },
  {
   "cell_type": "code",
   "execution_count": 2,
   "id": "4a836736",
   "metadata": {},
   "outputs": [
    {
     "data": {
      "text/plain": [
       "True"
      ]
     },
     "execution_count": 2,
     "metadata": {},
     "output_type": "execute_result"
    }
   ],
   "source": [
    "1 < 5 < 9 != 78 > 4"
   ]
  },
  {
   "cell_type": "code",
   "execution_count": 3,
   "id": "9ccd66d7",
   "metadata": {},
   "outputs": [
    {
     "data": {
      "text/plain": [
       "True"
      ]
     },
     "execution_count": 3,
     "metadata": {},
     "output_type": "execute_result"
    }
   ],
   "source": [
    "1 < 5 and 5 < 9 and 9 != 78 and 78 > 4"
   ]
  },
  {
   "cell_type": "code",
   "execution_count": null,
   "id": "b3b360aa",
   "metadata": {},
   "outputs": [],
   "source": []
  }
 ],
 "metadata": {
  "kernelspec": {
   "display_name": "Python 3 (ipykernel)",
   "language": "python",
   "name": "python3"
  },
  "language_info": {
   "codemirror_mode": {
    "name": "ipython",
    "version": 3
   },
   "file_extension": ".py",
   "mimetype": "text/x-python",
   "name": "python",
   "nbconvert_exporter": "python",
   "pygments_lexer": "ipython3",
   "version": "3.9.12"
  }
 },
 "nbformat": 4,
 "nbformat_minor": 5
}
