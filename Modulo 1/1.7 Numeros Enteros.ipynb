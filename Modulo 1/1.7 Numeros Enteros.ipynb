{
 "cells": [
  {
   "cell_type": "markdown",
   "id": "c516970b",
   "metadata": {},
   "source": [
    "### Chequeo del sistema"
   ]
  },
  {
   "cell_type": "code",
   "execution_count": 1,
   "id": "21256a74",
   "metadata": {},
   "outputs": [
    {
     "name": "stdout",
     "output_type": "stream",
     "text": [
      "9223372036854775807\n"
     ]
    }
   ],
   "source": [
    "import sys\n",
    "print(sys.maxsize)"
   ]
  },
  {
   "cell_type": "markdown",
   "id": "8d44e4ec",
   "metadata": {},
   "source": [
    "### Números Enteros"
   ]
  },
  {
   "cell_type": "code",
   "execution_count": null,
   "id": "a224472a",
   "metadata": {},
   "outputs": [],
   "source": [
    "2+1"
   ]
  },
  {
   "cell_type": "code",
   "execution_count": null,
   "id": "30724f10",
   "metadata": {},
   "outputs": [],
   "source": [
    "2-1"
   ]
  },
  {
   "cell_type": "code",
   "execution_count": null,
   "id": "eb1f1737",
   "metadata": {},
   "outputs": [],
   "source": [
    "2*2"
   ]
  },
  {
   "cell_type": "code",
   "execution_count": 1,
   "id": "f2bbd745",
   "metadata": {},
   "outputs": [
    {
     "data": {
      "text/plain": [
       "1.5"
      ]
     },
     "execution_count": 1,
     "metadata": {},
     "output_type": "execute_result"
    }
   ],
   "source": [
    "3/2"
   ]
  },
  {
   "cell_type": "markdown",
   "id": "336b9d12",
   "metadata": {},
   "source": [
    "### Operador \"Mod\" (modulo)"
   ]
  },
  {
   "cell_type": "code",
   "execution_count": 1,
   "id": "859236bb",
   "metadata": {},
   "outputs": [
    {
     "data": {
      "text/plain": [
       "1.75"
      ]
     },
     "execution_count": 1,
     "metadata": {},
     "output_type": "execute_result"
    }
   ],
   "source": [
    "7 / 4"
   ]
  },
  {
   "cell_type": "code",
   "execution_count": 2,
   "id": "663345b9",
   "metadata": {},
   "outputs": [
    {
     "data": {
      "text/plain": [
       "3"
      ]
     },
     "execution_count": 2,
     "metadata": {},
     "output_type": "execute_result"
    }
   ],
   "source": [
    "7 % 4"
   ]
  },
  {
   "cell_type": "code",
   "execution_count": 3,
   "id": "8380388f",
   "metadata": {},
   "outputs": [
    {
     "data": {
      "text/plain": [
       "0"
      ]
     },
     "execution_count": 3,
     "metadata": {},
     "output_type": "execute_result"
    }
   ],
   "source": [
    "50 % 5"
   ]
  },
  {
   "cell_type": "markdown",
   "id": "97604c06",
   "metadata": {},
   "source": [
    "### Potencias y orden de prioridad de ejecución"
   ]
  },
  {
   "cell_type": "code",
   "execution_count": null,
   "id": "10fb409f",
   "metadata": {},
   "outputs": [],
   "source": [
    "23 % 2"
   ]
  },
  {
   "cell_type": "code",
   "execution_count": null,
   "id": "4c23336e",
   "metadata": {},
   "outputs": [],
   "source": [
    "2 ** 4"
   ]
  },
  {
   "cell_type": "code",
   "execution_count": null,
   "id": "e080b69f",
   "metadata": {},
   "outputs": [],
   "source": [
    "2 + 10 * 10 + 3"
   ]
  },
  {
   "cell_type": "code",
   "execution_count": null,
   "id": "3569a61c",
   "metadata": {},
   "outputs": [],
   "source": [
    "(2 + 10) * (10 + 3)"
   ]
  },
  {
   "cell_type": "markdown",
   "id": "71f1cc76",
   "metadata": {},
   "source": [
    "### Operaciones de los enteros"
   ]
  },
  {
   "cell_type": "code",
   "execution_count": 7,
   "id": "d1029b82",
   "metadata": {},
   "outputs": [
    {
     "name": "stdout",
     "output_type": "stream",
     "text": [
      "9 / 2\n"
     ]
    }
   ],
   "source": [
    "# function to print the fraction of\n",
    "# a given rational number\n",
    "def reducedfraction(d):\n",
    " \n",
    "    # function that converts a rational number\n",
    "    # to the reduced fraction\n",
    "    b = d.as_integer_ratio()\n",
    " \n",
    "    # reduced the list that contains the fraction\n",
    "    return b\n",
    "     \n",
    "# driver code\n",
    "b = reducedfraction(4.5)\n",
    "print (b[0], \"/\", b[1])\n"
   ]
  },
  {
   "cell_type": "code",
   "execution_count": 32,
   "id": "493d3016",
   "metadata": {},
   "outputs": [
    {
     "name": "stdout",
     "output_type": "stream",
     "text": [
      "4   1\n"
     ]
    }
   ],
   "source": [
    "x = 4\n",
    "print(x.numerator,\" \",x.denominator)"
   ]
  },
  {
   "cell_type": "code",
   "execution_count": 25,
   "id": "50dd3b92",
   "metadata": {},
   "outputs": [
    {
     "name": "stdout",
     "output_type": "stream",
     "text": [
      "(3-2j)\n"
     ]
    }
   ],
   "source": [
    "qq = 3 + 2j\n",
    "conjugado = qq.conjugate()\n",
    "print(conjugado)"
   ]
  },
  {
   "cell_type": "code",
   "execution_count": 33,
   "id": "d7bfa8bd",
   "metadata": {},
   "outputs": [
    {
     "data": {
      "text/plain": [
       "4"
      ]
     },
     "execution_count": 33,
     "metadata": {},
     "output_type": "execute_result"
    }
   ],
   "source": [
    "(12).bit_length()"
   ]
  },
  {
   "cell_type": "code",
   "execution_count": 34,
   "id": "1058c505",
   "metadata": {},
   "outputs": [
    {
     "data": {
      "text/plain": [
       "18"
      ]
     },
     "execution_count": 34,
     "metadata": {},
     "output_type": "execute_result"
    }
   ],
   "source": [
    "(256432).bit_length()"
   ]
  },
  {
   "cell_type": "code",
   "execution_count": 35,
   "id": "f74031e6",
   "metadata": {},
   "outputs": [
    {
     "data": {
      "text/plain": [
       "62207"
      ]
     },
     "execution_count": 35,
     "metadata": {},
     "output_type": "execute_result"
    }
   ],
   "source": [
    "int.from_bytes(b'\\xf2\\xff', byteorder='big')"
   ]
  },
  {
   "cell_type": "code",
   "execution_count": 36,
   "id": "ec882891",
   "metadata": {},
   "outputs": [
    {
     "data": {
      "text/plain": [
       "-14"
      ]
     },
     "execution_count": 36,
     "metadata": {},
     "output_type": "execute_result"
    }
   ],
   "source": [
    "int.from_bytes(b'\\xf2\\xff', byteorder='little', signed=True)"
   ]
  },
  {
   "cell_type": "code",
   "execution_count": 40,
   "id": "03a7b21c",
   "metadata": {},
   "outputs": [
    {
     "data": {
      "text/plain": [
       "109"
      ]
     },
     "execution_count": 40,
     "metadata": {},
     "output_type": "execute_result"
    }
   ],
   "source": [
    "binario = '1101101'\n",
    "int(binario, base=2)"
   ]
  },
  {
   "cell_type": "code",
   "execution_count": 41,
   "id": "0b478e4f",
   "metadata": {},
   "outputs": [
    {
     "data": {
      "text/plain": [
       "55"
      ]
     },
     "execution_count": 41,
     "metadata": {},
     "output_type": "execute_result"
    }
   ],
   "source": [
    "octal = '67'\n",
    "int(octal, base=8)"
   ]
  },
  {
   "cell_type": "code",
   "execution_count": 42,
   "id": "cc02a6cc",
   "metadata": {},
   "outputs": [
    {
     "data": {
      "text/plain": [
       "211"
      ]
     },
     "execution_count": 42,
     "metadata": {},
     "output_type": "execute_result"
    }
   ],
   "source": [
    "hexadecimal = 'd3'\n",
    "int(hexadecimal, base=16)"
   ]
  },
  {
   "cell_type": "code",
   "execution_count": 43,
   "id": "2f34ff88",
   "metadata": {},
   "outputs": [
    {
     "data": {
      "text/plain": [
       "'0b1010'"
      ]
     },
     "execution_count": 43,
     "metadata": {},
     "output_type": "execute_result"
    }
   ],
   "source": [
    "bin(10)"
   ]
  },
  {
   "cell_type": "code",
   "execution_count": 44,
   "id": "ed942f75",
   "metadata": {},
   "outputs": [
    {
     "data": {
      "text/plain": [
       "'0o24'"
      ]
     },
     "execution_count": 44,
     "metadata": {},
     "output_type": "execute_result"
    }
   ],
   "source": [
    "oct(20)"
   ]
  },
  {
   "cell_type": "code",
   "execution_count": 45,
   "id": "519a6375",
   "metadata": {},
   "outputs": [
    {
     "data": {
      "text/plain": [
       "'0x1b'"
      ]
     },
     "execution_count": 45,
     "metadata": {},
     "output_type": "execute_result"
    }
   ],
   "source": [
    "hex(27)"
   ]
  },
  {
   "cell_type": "markdown",
   "id": "7e888ea3",
   "metadata": {},
   "source": [
    "### Operaciones de bits con enteros"
   ]
  },
  {
   "cell_type": "code",
   "execution_count": 12,
   "id": "dbd6cc17",
   "metadata": {},
   "outputs": [],
   "source": [
    "a = 47 | 86  # 0b101111 | 0b1010110\n",
    "b = 47 ^ 86  # 0b101111 ^ 0b1010110\n",
    "c = 47 & 86  # 0b101111 & 0b1010110\n",
    "d = 47 << 3  # 0b101111 << 3\n",
    "e = 47 >> 3  # 0b101111 >> 3\n",
    "f = ~47      # bin(~0b101111)"
   ]
  },
  {
   "cell_type": "code",
   "execution_count": 9,
   "id": "cb6ef13a",
   "metadata": {},
   "outputs": [
    {
     "name": "stdout",
     "output_type": "stream",
     "text": [
      "127   121   6   376   5   -48\n"
     ]
    }
   ],
   "source": [
    "print (a,\" \",b,\" \",c,\" \",d,\" \",e,\" \",f)"
   ]
  },
  {
   "cell_type": "code",
   "execution_count": 11,
   "id": "2fd59bcf",
   "metadata": {},
   "outputs": [
    {
     "name": "stdout",
     "output_type": "stream",
     "text": [
      "0b1111111   0b1111001   0b110   0b101111000   0b101   -0b110000\n"
     ]
    }
   ],
   "source": [
    "print(bin(a),\" \",bin(b),\" \",bin(c),\" \",bin(d),\" \",bin(e),\" \",bin(f))"
   ]
  }
 ],
 "metadata": {
  "kernelspec": {
   "display_name": "Python 3 (ipykernel)",
   "language": "python",
   "name": "python3"
  },
  "language_info": {
   "codemirror_mode": {
    "name": "ipython",
    "version": 3
   },
   "file_extension": ".py",
   "mimetype": "text/x-python",
   "name": "python",
   "nbconvert_exporter": "python",
   "pygments_lexer": "ipython3",
   "version": "3.9.12"
  }
 },
 "nbformat": 4,
 "nbformat_minor": 5
}
