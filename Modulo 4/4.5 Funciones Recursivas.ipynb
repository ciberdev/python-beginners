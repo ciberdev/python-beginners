{
 "cells": [
  {
   "cell_type": "markdown",
   "id": "104158e6",
   "metadata": {},
   "source": [
    "### Funciones Recursivas"
   ]
  },
  {
   "cell_type": "code",
   "execution_count": null,
   "id": "557386af",
   "metadata": {},
   "outputs": [],
   "source": [
    "def cuenta_rev(inicio)\n",
    "    print(inicio)\n",
    "    cuenta_rev(inicio-1)\n",
    "\n",
    "cuenta_rev(3)\n",
    "\n",
    "# 1. --> cuenta_rev(3)\n",
    "# 2. --> cuenta_rev(2)\n",
    "# 3. --> cuenta_rev(1)\n",
    "#4. --> cuenta_rev(0)\n",
    "# 5. --> cuenta_rev(-1)\n",
    "# ..."
   ]
  },
  {
   "cell_type": "code",
   "execution_count": 6,
   "id": "f07d6091",
   "metadata": {},
   "outputs": [
    {
     "name": "stdout",
     "output_type": "stream",
     "text": [
      "5050\n"
     ]
    }
   ],
   "source": [
    "def cuenta_alreves(inicio):    \n",
    "    if inicio == 0:\n",
    "        return 0\n",
    "    return inicio + cuenta_alreves(inicio-1)\n",
    "\n",
    "total = cuenta_alreves(100)\n",
    "print(total)\n",
    "\n",
    "# 1. --> 100  -> 100 + f(99)= v1\n",
    "# 2. -->  99  ->  99 + f(98)= v2\n",
    "# 3. -->  98  ->  98 + f(97)= v3\n",
    "# ...\n",
    "# 97. --> 3   ->  3 + f(2) = 6\n",
    "# 98. --> 2   ->  2 + f(1) = 3\n",
    "# 99. --> 1   ->  1 + f(0) = 1\n",
    "# 5+4+3+2+1=15"
   ]
  },
  {
   "cell_type": "code",
   "execution_count": 16,
   "id": "6ecfda7f",
   "metadata": {},
   "outputs": [
    {
     "name": "stdout",
     "output_type": "stream",
     "text": [
      "120\n"
     ]
    }
   ],
   "source": [
    "def factorial(x):\n",
    "    if x == 1:\n",
    "        return 1\n",
    "    else:\n",
    "        return (x * factorial(x-1))\n",
    "\n",
    "numero = 5\n",
    "print(factorial(numero))"
   ]
  },
  {
   "cell_type": "code",
   "execution_count": 29,
   "id": "52651feb",
   "metadata": {
    "scrolled": true
   },
   "outputs": [
    {
     "name": "stdout",
     "output_type": "stream",
     "text": [
      "Ingrese un valor 1:15\n",
      "Ingrese un valor 2:a\n",
      "debe ingresar ambos valores numéricos\n"
     ]
    }
   ],
   "source": [
    "def simple_func(elem1, elem2=None):\n",
    "    if elem2 is None:\n",
    "        return simple_func(elem1, elem2=3)\n",
    "    else:\n",
    "        return elem1 * elem2\n",
    "\n",
    "valor1 = input(\"Ingrese un valor 1:\").strip()\n",
    "valor2 = input(\"Ingrese un valor 2:\").strip()\n",
    "\n",
    "if valor1 != '' and valor2 != '':\n",
    "    if isinstance(valor1, int) and isinstance(valor2, int):\n",
    "        print(simple_func(int(valor1), int(valor2)))\n",
    "    else:\n",
    "        print(\"debe ingresar ambos valores numéricos\")    \n",
    "else:\n",
    "    print(\"debe ingresar ambos valores numéricos\")\n",
    "# 1. (elem1=5, None)\n"
   ]
  },
  {
   "cell_type": "code",
   "execution_count": null,
   "id": "2d0bc695",
   "metadata": {},
   "outputs": [],
   "source": []
  }
 ],
 "metadata": {
  "kernelspec": {
   "display_name": "Python 3 (ipykernel)",
   "language": "python",
   "name": "python3"
  },
  "language_info": {
   "codemirror_mode": {
    "name": "ipython",
    "version": 3
   },
   "file_extension": ".py",
   "mimetype": "text/x-python",
   "name": "python",
   "nbconvert_exporter": "python",
   "pygments_lexer": "ipython3",
   "version": "3.9.12"
  }
 },
 "nbformat": 4,
 "nbformat_minor": 5
}
