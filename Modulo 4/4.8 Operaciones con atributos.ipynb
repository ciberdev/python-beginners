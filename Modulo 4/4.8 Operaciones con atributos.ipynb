{
 "cells": [
  {
   "cell_type": "markdown",
   "id": "08174972",
   "metadata": {},
   "source": [
    "### Operaciones con atributos"
   ]
  },
  {
   "cell_type": "code",
   "execution_count": 1,
   "id": "bfe0dd96",
   "metadata": {},
   "outputs": [],
   "source": [
    "class Auto():\n",
    "    def __init__(self, color, marca, modelo):\n",
    "        self.color = color\n",
    "        self.marca = marca\n",
    "        self.modelo = modelo\n",
    "\n",
    "carro = Auto('Verde', 'Seat', 'Ibiza')"
   ]
  },
  {
   "cell_type": "code",
   "execution_count": 3,
   "id": "284ded8b",
   "metadata": {},
   "outputs": [
    {
     "name": "stdout",
     "output_type": "stream",
     "text": [
      "Seat   Ibiza\n"
     ]
    }
   ],
   "source": [
    "print(carro.marca, \" \", carro.modelo)"
   ]
  },
  {
   "cell_type": "code",
   "execution_count": 4,
   "id": "d0fa8374",
   "metadata": {},
   "outputs": [],
   "source": [
    "setattr(carro, 'num_ruedas', 5)"
   ]
  },
  {
   "cell_type": "code",
   "execution_count": 5,
   "id": "905de139",
   "metadata": {},
   "outputs": [
    {
     "data": {
      "text/plain": [
       "5"
      ]
     },
     "execution_count": 5,
     "metadata": {},
     "output_type": "execute_result"
    }
   ],
   "source": [
    "carro.num_ruedas"
   ]
  },
  {
   "cell_type": "code",
   "execution_count": 6,
   "id": "7ce57112",
   "metadata": {},
   "outputs": [
    {
     "data": {
      "text/plain": [
       "'Seat'"
      ]
     },
     "execution_count": 6,
     "metadata": {},
     "output_type": "execute_result"
    }
   ],
   "source": [
    "getattr(carro, 'marca')"
   ]
  },
  {
   "cell_type": "code",
   "execution_count": 7,
   "id": "e1c36f87",
   "metadata": {},
   "outputs": [],
   "source": [
    "delattr(carro, 'marca')"
   ]
  },
  {
   "cell_type": "code",
   "execution_count": 8,
   "id": "3291c562",
   "metadata": {},
   "outputs": [
    {
     "ename": "AttributeError",
     "evalue": "'Auto' object has no attribute 'marca'",
     "output_type": "error",
     "traceback": [
      "\u001b[1;31m---------------------------------------------------------------------------\u001b[0m",
      "\u001b[1;31mAttributeError\u001b[0m                            Traceback (most recent call last)",
      "Input \u001b[1;32mIn [8]\u001b[0m, in \u001b[0;36m<cell line: 1>\u001b[1;34m()\u001b[0m\n\u001b[1;32m----> 1\u001b[0m \u001b[43mcarro\u001b[49m\u001b[38;5;241;43m.\u001b[39;49m\u001b[43mmarca\u001b[49m\n",
      "\u001b[1;31mAttributeError\u001b[0m: 'Auto' object has no attribute 'marca'"
     ]
    }
   ],
   "source": [
    "carro.marca"
   ]
  },
  {
   "cell_type": "code",
   "execution_count": 9,
   "id": "26c0be46",
   "metadata": {},
   "outputs": [
    {
     "data": {
      "text/plain": [
       "False"
      ]
     },
     "execution_count": 9,
     "metadata": {},
     "output_type": "execute_result"
    }
   ],
   "source": [
    "hasattr(carro, 'puertas')"
   ]
  },
  {
   "cell_type": "code",
   "execution_count": 10,
   "id": "7638063d",
   "metadata": {},
   "outputs": [
    {
     "data": {
      "text/plain": [
       "{'color': 'Verde', 'modelo': 'Ibiza', 'num_ruedas': 5}"
      ]
     },
     "execution_count": 10,
     "metadata": {},
     "output_type": "execute_result"
    }
   ],
   "source": [
    "vars(carro)"
   ]
  },
  {
   "cell_type": "markdown",
   "id": "7716196c",
   "metadata": {},
   "source": [
    "### Atributos de clase"
   ]
  },
  {
   "cell_type": "code",
   "execution_count": 24,
   "id": "f3b831a8",
   "metadata": {},
   "outputs": [
    {
     "data": {
      "text/plain": [
       "(4, 4)"
      ]
     },
     "execution_count": 24,
     "metadata": {},
     "output_type": "execute_result"
    }
   ],
   "source": [
    "class Gato():\n",
    "    num_patas = 4\n",
    "    orejas = 2\n",
    "    nombres = []\n",
    "    \n",
    "    def __init__(self, nombre):\n",
    "        self.nombre = nombre\n",
    "        self.nombres.append(nombre)\n",
    "        \n",
    "garfield = Gato('Garfield')\n",
    "bigotes = Gato('Bigotes')\n",
    "garfield.num_patas, bigotes.num_patas"
   ]
  },
  {
   "cell_type": "code",
   "execution_count": 25,
   "id": "58d4c489",
   "metadata": {},
   "outputs": [
    {
     "name": "stdout",
     "output_type": "stream",
     "text": [
      "1 2\n"
     ]
    }
   ],
   "source": [
    "bigotes.orejas = 1\n",
    "print(bigotes.orejas, garfield.orejas)"
   ]
  },
  {
   "cell_type": "code",
   "execution_count": 13,
   "id": "6fed860f",
   "metadata": {},
   "outputs": [
    {
     "data": {
      "text/plain": [
       "mappingproxy({'__module__': '__main__',\n",
       "              'num_patas': 4,\n",
       "              'orejas': 2,\n",
       "              'nombres': ['Garfield', 'Bigotes'],\n",
       "              '__init__': <function __main__.Gato.__init__(self, nombre)>,\n",
       "              '__dict__': <attribute '__dict__' of 'Gato' objects>,\n",
       "              '__weakref__': <attribute '__weakref__' of 'Gato' objects>,\n",
       "              '__doc__': None})"
      ]
     },
     "execution_count": 13,
     "metadata": {},
     "output_type": "execute_result"
    }
   ],
   "source": [
    "vars(Gato)"
   ]
  },
  {
   "cell_type": "code",
   "execution_count": 18,
   "id": "22da06a2",
   "metadata": {},
   "outputs": [
    {
     "data": {
      "text/plain": [
       "(2, 4)"
      ]
     },
     "execution_count": 18,
     "metadata": {},
     "output_type": "execute_result"
    }
   ],
   "source": [
    "felix = Gato('Felix')\n",
    "felix.orejas, felix.num_patas"
   ]
  },
  {
   "cell_type": "code",
   "execution_count": 19,
   "id": "cfac145b",
   "metadata": {},
   "outputs": [
    {
     "name": "stdout",
     "output_type": "stream",
     "text": [
      "['Garfield', 'Bigotes', 'Felix', 'Felix', 'Felix']\n"
     ]
    }
   ],
   "source": [
    "print(felix.nombres)"
   ]
  },
  {
   "cell_type": "code",
   "execution_count": 20,
   "id": "ea1b6f8d",
   "metadata": {},
   "outputs": [
    {
     "data": {
      "text/plain": [
       "['Garfield', 'Bigotes', 'Felix', 'Felix', 'Felix']"
      ]
     },
     "execution_count": 20,
     "metadata": {},
     "output_type": "execute_result"
    }
   ],
   "source": [
    "Gato.nombres"
   ]
  },
  {
   "cell_type": "code",
   "execution_count": 21,
   "id": "b66839a1",
   "metadata": {},
   "outputs": [],
   "source": [
    "Gato.nombres = ['Juan', 'Pedro']"
   ]
  },
  {
   "cell_type": "code",
   "execution_count": 22,
   "id": "9efe7eba",
   "metadata": {},
   "outputs": [
    {
     "data": {
      "text/plain": [
       "['Juan', 'Pedro']"
      ]
     },
     "execution_count": 22,
     "metadata": {},
     "output_type": "execute_result"
    }
   ],
   "source": [
    "bigotes.nombres"
   ]
  },
  {
   "cell_type": "code",
   "execution_count": 23,
   "id": "46ba616e",
   "metadata": {},
   "outputs": [
    {
     "data": {
      "text/plain": [
       "['Juan', 'Pedro']"
      ]
     },
     "execution_count": 23,
     "metadata": {},
     "output_type": "execute_result"
    }
   ],
   "source": [
    "garfield.nombres"
   ]
  },
  {
   "cell_type": "code",
   "execution_count": 26,
   "id": "3551a9b1",
   "metadata": {},
   "outputs": [],
   "source": [
    "Gato.orejas = 3"
   ]
  },
  {
   "cell_type": "code",
   "execution_count": 27,
   "id": "1699cc7e",
   "metadata": {},
   "outputs": [
    {
     "name": "stdout",
     "output_type": "stream",
     "text": [
      "3\n"
     ]
    }
   ],
   "source": [
    "mishito = Gato('Mishito')\n",
    "print(mishito.orejas)"
   ]
  },
  {
   "cell_type": "code",
   "execution_count": null,
   "id": "b390ffab",
   "metadata": {},
   "outputs": [],
   "source": []
  }
 ],
 "metadata": {
  "kernelspec": {
   "display_name": "Python 3 (ipykernel)",
   "language": "python",
   "name": "python3"
  },
  "language_info": {
   "codemirror_mode": {
    "name": "ipython",
    "version": 3
   },
   "file_extension": ".py",
   "mimetype": "text/x-python",
   "name": "python",
   "nbconvert_exporter": "python",
   "pygments_lexer": "ipython3",
   "version": "3.9.12"
  }
 },
 "nbformat": 4,
 "nbformat_minor": 5
}
