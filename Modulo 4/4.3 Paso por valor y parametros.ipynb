{
 "cells": [
  {
   "cell_type": "markdown",
   "id": "85366c88",
   "metadata": {},
   "source": [
    "### Paso por valor y parametros"
   ]
  },
  {
   "cell_type": "code",
   "execution_count": null,
   "id": "c159c2de",
   "metadata": {},
   "outputs": [],
   "source": [
    "# Ejemplo con variables inmutables\n",
    "a = 'Hola'\n",
    "b = 'Mundo'\n",
    "def suma(elem1, elem2):\n",
    "    elem1 += elem2\n",
    "    return elem1\n",
    "c = suma(a, b)\n",
    "print(c)\n",
    "print(b)\n",
    "print(a)"
   ]
  },
  {
   "cell_type": "code",
   "execution_count": null,
   "id": "71607035",
   "metadata": {},
   "outputs": [],
   "source": [
    "a = \"Cadena de caracteres\"\n",
    "print(id(a))\n",
    "a += \"adicionales\"\n",
    "print(id(a))\n",
    "print(a)"
   ]
  },
  {
   "cell_type": "code",
   "execution_count": null,
   "id": "3fd1f195",
   "metadata": {},
   "outputs": [],
   "source": [
    "# Ejemplo con variables mutables\n",
    "a = [1, 2, 3]\n",
    "b = [4, 5]\n",
    "c = suma(a, b)\n",
    "print(c)\n",
    "print(b)\n",
    "print(a)"
   ]
  },
  {
   "cell_type": "markdown",
   "id": "6f40ec9b",
   "metadata": {},
   "source": [
    "### Valores por defecto en los parametros"
   ]
  },
  {
   "cell_type": "code",
   "execution_count": 1,
   "id": "1358ed6a",
   "metadata": {},
   "outputs": [
    {
     "name": "stdout",
     "output_type": "stream",
     "text": [
      "[3]\n",
      "[3, 5]\n"
     ]
    }
   ],
   "source": [
    "def agregar_dato(elem, lista=[]):\n",
    "    lista.append(elem)\n",
    "    return lista\n",
    "\n",
    "print(agregar_dato(3))\n",
    "print(agregar_dato(5))"
   ]
  },
  {
   "cell_type": "code",
   "execution_count": 3,
   "id": "99065370",
   "metadata": {},
   "outputs": [
    {
     "name": "stdout",
     "output_type": "stream",
     "text": [
      "[3]\n",
      "[5]\n"
     ]
    }
   ],
   "source": [
    "def agregar_dato(elem, lista=None):\n",
    "    if lista is None:\n",
    "        lista = []\n",
    "    lista.append(elem)\n",
    "    return lista\n",
    "\n",
    "print(agregar_dato(3))\n",
    "print(agregar_dato(5))"
   ]
  },
  {
   "cell_type": "code",
   "execution_count": null,
   "id": "a6154d17",
   "metadata": {},
   "outputs": [],
   "source": []
  }
 ],
 "metadata": {
  "kernelspec": {
   "display_name": "Python 3 (ipykernel)",
   "language": "python",
   "name": "python3"
  },
  "language_info": {
   "codemirror_mode": {
    "name": "ipython",
    "version": 3
   },
   "file_extension": ".py",
   "mimetype": "text/x-python",
   "name": "python",
   "nbconvert_exporter": "python",
   "pygments_lexer": "ipython3",
   "version": "3.9.12"
  }
 },
 "nbformat": 4,
 "nbformat_minor": 5
}
