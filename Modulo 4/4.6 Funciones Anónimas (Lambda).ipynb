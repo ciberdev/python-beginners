{
 "cells": [
  {
   "cell_type": "markdown",
   "id": "d7dbbba5",
   "metadata": {},
   "source": [
    "### Funciones Anónimas (Lambda)"
   ]
  },
  {
   "cell_type": "code",
   "execution_count": 1,
   "id": "51cd138f",
   "metadata": {},
   "outputs": [
    {
     "data": {
      "text/plain": [
       "10"
      ]
     },
     "execution_count": 1,
     "metadata": {},
     "output_type": "execute_result"
    }
   ],
   "source": [
    "def double(x):\n",
    "    return x * 2\n",
    "\n",
    "double(5)"
   ]
  },
  {
   "cell_type": "code",
   "execution_count": 3,
   "id": "8d8c1211",
   "metadata": {},
   "outputs": [
    {
     "name": "stdout",
     "output_type": "stream",
     "text": [
      "Ingrese un número:10\n",
      "20\n"
     ]
    }
   ],
   "source": [
    "double = lambda x: x * 2\n",
    "\n",
    "numero = int(input(\"Ingrese un número:\"))\n",
    "print(double(numero))\n"
   ]
  },
  {
   "cell_type": "code",
   "execution_count": 9,
   "id": "f51a4d31",
   "metadata": {},
   "outputs": [
    {
     "name": "stdout",
     "output_type": "stream",
     "text": [
      "Ingrese un número:10\n"
     ]
    },
    {
     "data": {
      "text/plain": [
       "20"
      ]
     },
     "execution_count": 9,
     "metadata": {},
     "output_type": "execute_result"
    }
   ],
   "source": [
    "def calculo(x):\n",
    "    return x * 2\n",
    "\n",
    "numero = int(input(\"Ingrese un número:\"))\n",
    "(lambda x: calculo(x))(x = numero)\n"
   ]
  },
  {
   "cell_type": "code",
   "execution_count": 10,
   "id": "2a1d25a1",
   "metadata": {},
   "outputs": [
    {
     "name": "stdout",
     "output_type": "stream",
     "text": [
      "['a1', 'a100', 'a12', 'a5']\n"
     ]
    }
   ],
   "source": [
    "lista = ['a5', 'a1','a12','a100']\n",
    "print(sorted(lista))\n"
   ]
  },
  {
   "cell_type": "code",
   "execution_count": 17,
   "id": "a70cd4f2",
   "metadata": {},
   "outputs": [
    {
     "name": "stdout",
     "output_type": "stream",
     "text": [
      "['a5', 'a1', 'a12', 'a100']\n"
     ]
    }
   ],
   "source": [
    "lista2 = ['a5', 'a1','a12','a100']\n",
    "print(sorted(lista2, key= lambda x: int(x[1:])))\n"
   ]
  },
  {
   "cell_type": "code",
   "execution_count": 16,
   "id": "384bf561",
   "metadata": {},
   "outputs": [
    {
     "name": "stdout",
     "output_type": "stream",
     "text": [
      "eba de texto\n"
     ]
    }
   ],
   "source": [
    "a = 'Esta es una prueba de texto'\n",
    "print(a[15:])"
   ]
  },
  {
   "cell_type": "code",
   "execution_count": 19,
   "id": "e0c2d89d",
   "metadata": {},
   "outputs": [
    {
     "data": {
      "text/plain": [
       "-30"
      ]
     },
     "execution_count": 19,
     "metadata": {},
     "output_type": "execute_result"
    }
   ],
   "source": [
    "a, b = 50, 20\n",
    "def resta(x, y):\n",
    "    return x - y\n",
    "#(lambda x,y: resta(x,y))(a,b)\n",
    "(lambda x,y: resta(x,y))(y = a, x = b)\n"
   ]
  },
  {
   "cell_type": "code",
   "execution_count": 20,
   "id": "06a57f1a",
   "metadata": {},
   "outputs": [],
   "source": [
    "li=[(1,2,3),(3,1,1),(8,5,3),(3,4,2)]"
   ]
  },
  {
   "cell_type": "code",
   "execution_count": 21,
   "id": "eeafa58f",
   "metadata": {},
   "outputs": [
    {
     "data": {
      "text/plain": [
       "1"
      ]
     },
     "execution_count": 21,
     "metadata": {},
     "output_type": "execute_result"
    }
   ],
   "source": [
    "# buscar el mínimo basado en el segundo elemento de la tupla.\n",
    "min([1,2,3,4])"
   ]
  },
  {
   "cell_type": "code",
   "execution_count": 23,
   "id": "eee46b8b",
   "metadata": {},
   "outputs": [
    {
     "data": {
      "text/plain": [
       "(3, 1, 1)"
      ]
     },
     "execution_count": 23,
     "metadata": {},
     "output_type": "execute_result"
    }
   ],
   "source": [
    "min(li, key=lambda x: x[2])"
   ]
  },
  {
   "cell_type": "code",
   "execution_count": 24,
   "id": "d422363f",
   "metadata": {},
   "outputs": [
    {
     "data": {
      "text/plain": [
       "(1, 2, 3)"
      ]
     },
     "execution_count": 24,
     "metadata": {},
     "output_type": "execute_result"
    }
   ],
   "source": [
    "max(li, key=lambda x: x[2])"
   ]
  },
  {
   "cell_type": "code",
   "execution_count": null,
   "id": "3f1bec2c",
   "metadata": {},
   "outputs": [],
   "source": []
  }
 ],
 "metadata": {
  "kernelspec": {
   "display_name": "Python 3 (ipykernel)",
   "language": "python",
   "name": "python3"
  },
  "language_info": {
   "codemirror_mode": {
    "name": "ipython",
    "version": 3
   },
   "file_extension": ".py",
   "mimetype": "text/x-python",
   "name": "python",
   "nbconvert_exporter": "python",
   "pygments_lexer": "ipython3",
   "version": "3.9.12"
  }
 },
 "nbformat": 4,
 "nbformat_minor": 5
}
