{
 "cells": [
  {
   "cell_type": "markdown",
   "id": "ae6311fa",
   "metadata": {},
   "source": [
    "### Herencia y polimorfismo"
   ]
  },
  {
   "cell_type": "code",
   "execution_count": 1,
   "id": "6f58f731",
   "metadata": {},
   "outputs": [],
   "source": [
    "class Animal:\n",
    "    def __init__(self, especie, edad):\n",
    "        self.especie = especie\n",
    "        self.edad = edad\n",
    "    \n",
    "    # Método genérico \n",
    "    def hablar(self):\n",
    "        pass\n",
    "    \n",
    "    def moverse(self):\n",
    "        pass\n",
    "        \n",
    "    def describeme(self):\n",
    "        print(\"soy un animal del tipo \", type(self).__name__, \"y especie\", self.especie)"
   ]
  },
  {
   "cell_type": "code",
   "execution_count": 4,
   "id": "87136c93",
   "metadata": {},
   "outputs": [
    {
     "name": "stdout",
     "output_type": "stream",
     "text": [
      "soy un animal del tipo  Perro y especie mamifero\n"
     ]
    }
   ],
   "source": [
    "class Perro(Animal):\n",
    "    pass\n",
    "\n",
    "mi_perro = Perro('mamifero', 10)\n",
    "mi_perro.describeme()"
   ]
  },
  {
   "cell_type": "code",
   "execution_count": 5,
   "id": "6373bbe6",
   "metadata": {},
   "outputs": [],
   "source": [
    "class Perro(Animal):\n",
    "    def hablar(self):\n",
    "        print(\"Guau!\")\n",
    "    def moverse(self):\n",
    "        print(\"Caminando en 4 patas\")\n",
    "    \n",
    "class Vaca(Animal):\n",
    "    def hablar(self):\n",
    "        print(\"Muuu!\")\n",
    "    def moverse(self):\n",
    "        print(\"Caminando en 4 patas\")\n",
    "\n",
    "class Abeja(Animal):\n",
    "    def hablar(self):\n",
    "        print(\"Bzzzzz!\")\n",
    "    def moverse(self):\n",
    "        print(\"volando\")\n",
    "    def picar(self):\n",
    "        print(\"Picar!!!\")"
   ]
  },
  {
   "cell_type": "code",
   "execution_count": 6,
   "id": "5036368d",
   "metadata": {},
   "outputs": [
    {
     "name": "stdout",
     "output_type": "stream",
     "text": [
      "Guau!\n",
      "Muuu!\n"
     ]
    }
   ],
   "source": [
    "mi_perro = Perro('mamifero', 10)\n",
    "mi_vaca = Vaca('mamifero', 23)\n",
    "mi_abeja = Abeja('insecto', 1)\n",
    "mi_perro.hablar()\n",
    "mi_vaca.hablar()"
   ]
  },
  {
   "cell_type": "code",
   "execution_count": 7,
   "id": "0adc4c46",
   "metadata": {},
   "outputs": [
    {
     "name": "stdout",
     "output_type": "stream",
     "text": [
      "soy un animal del tipo  Vaca y especie mamifero\n",
      "soy un animal del tipo  Abeja y especie insecto\n"
     ]
    }
   ],
   "source": [
    "mi_vaca.describeme()\n",
    "mi_abeja.describeme()"
   ]
  }
 ],
 "metadata": {
  "kernelspec": {
   "display_name": "Python 3 (ipykernel)",
   "language": "python",
   "name": "python3"
  },
  "language_info": {
   "codemirror_mode": {
    "name": "ipython",
    "version": 3
   },
   "file_extension": ".py",
   "mimetype": "text/x-python",
   "name": "python",
   "nbconvert_exporter": "python",
   "pygments_lexer": "ipython3",
   "version": "3.9.12"
  }
 },
 "nbformat": 4,
 "nbformat_minor": 5
}
