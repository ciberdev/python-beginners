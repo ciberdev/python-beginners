{
 "cells": [
  {
   "cell_type": "markdown",
   "id": "175f47c4",
   "metadata": {},
   "source": [
    "### Programación orientada a objetos"
   ]
  },
  {
   "cell_type": "code",
   "execution_count": 1,
   "id": "1e0c5392",
   "metadata": {},
   "outputs": [],
   "source": [
    "class Persona:    \n",
    "    pass"
   ]
  },
  {
   "cell_type": "code",
   "execution_count": 2,
   "id": "74273d05",
   "metadata": {},
   "outputs": [],
   "source": [
    "f1 = Persona()\n",
    "f2 = Persona()\n",
    "f1.nombre = 'Juan'\n",
    "f2.edad = 35"
   ]
  },
  {
   "cell_type": "code",
   "execution_count": 3,
   "id": "67e72ee1",
   "metadata": {},
   "outputs": [
    {
     "data": {
      "text/plain": [
       "{'nombre': 'Juan'}"
      ]
     },
     "execution_count": 3,
     "metadata": {},
     "output_type": "execute_result"
    }
   ],
   "source": [
    "vars(f1)"
   ]
  },
  {
   "cell_type": "code",
   "execution_count": 4,
   "id": "47a37895",
   "metadata": {},
   "outputs": [
    {
     "data": {
      "text/plain": [
       "{'edad': 35}"
      ]
     },
     "execution_count": 4,
     "metadata": {},
     "output_type": "execute_result"
    }
   ],
   "source": [
    "vars(f2)"
   ]
  },
  {
   "cell_type": "code",
   "execution_count": 5,
   "id": "15e4ebb1",
   "metadata": {},
   "outputs": [
    {
     "data": {
      "text/plain": [
       "__main__.Persona"
      ]
     },
     "execution_count": 5,
     "metadata": {},
     "output_type": "execute_result"
    }
   ],
   "source": [
    "type(f1)"
   ]
  },
  {
   "cell_type": "code",
   "execution_count": 6,
   "id": "d5ac032e",
   "metadata": {},
   "outputs": [
    {
     "data": {
      "text/plain": [
       "__main__.Persona"
      ]
     },
     "execution_count": 6,
     "metadata": {},
     "output_type": "execute_result"
    }
   ],
   "source": [
    "type(f2)"
   ]
  },
  {
   "cell_type": "code",
   "execution_count": 22,
   "id": "699550f7",
   "metadata": {},
   "outputs": [
    {
     "name": "stdout",
     "output_type": "stream",
     "text": [
      "{'color': 'Azul', 'marca': 'Honda', 'modelo': 'Civic', 'motor': <__main__.Motor object at 0x000002529085EE20>, 'num_ruedas': 5}\n",
      "Mi motor 1: {'cilindros': 4, 'valvulas': 16, 'cc': 1600}\n",
      "{'color': 'Rojo', 'marca': 'VW', 'modelo': 'Jetta', 'motor': <__main__.Motor object at 0x0000025291A38430>, 'num_ruedas': 4}\n",
      "Mi motor 2: {'cilindros': 6, 'valvulas': 24, 'cc': 2500}\n"
     ]
    }
   ],
   "source": [
    "# 1. crear objeto, con las definiciones de la clase.\n",
    "    # { color: 'azul', marca: 'toyota', model: \"prius\"}\n",
    "    # {}\n",
    "# 2. ejecutar (si tiene) el método __init__\n",
    "    # { color: 'azul', marca: 'toyota', model: \"prius\"}    \n",
    "class Motor():\n",
    "    cilindros: None\n",
    "    valvulas: None\n",
    "    cc : None\n",
    "    def __init__(self, cilindros, valvulas, cc):\n",
    "        self.cilindros = cilindros\n",
    "        self.valvulas = valvulas\n",
    "        self.cc = cc\n",
    "class Auto():\n",
    "    color = None\n",
    "    marca = None\n",
    "    model = None\n",
    "    price = 0    \n",
    "    def __init__(self, color, marca, modelo, motor):\n",
    "        self.color = color\n",
    "        self.marca = marca\n",
    "        self.modelo = modelo\n",
    "        self.motor = motor\n",
    "        \n",
    "mimotor1 = Motor(cilindros= 4, valvulas = 16, cc=1600)\n",
    "miauto1 = Auto(color='Azul', marca='Honda', modelo='Civic', motor=mimotor1)\n",
    "mimotor2 = Motor(cilindros= 6, valvulas = 24, cc=2500)\n",
    "miauto2 = Auto(color='Rojo', marca='VW', modelo='Jetta', motor=mimotor2)\n",
    "miauto1.num_ruedas = 5\n",
    "miauto2.num_ruedas = 4\n",
    "\n",
    "#print(miauto1.color)\n",
    "#print(miauto2.marca)\n",
    "print(vars(miauto1))\n",
    "print(f\"Mi motor 1: {vars(miauto1.motor)}\")\n",
    "print(vars(miauto2))\n",
    "print(f\"Mi motor 2: {vars(miauto2.motor)}\")\n"
   ]
  },
  {
   "cell_type": "code",
   "execution_count": 16,
   "id": "e69ff2c4",
   "metadata": {},
   "outputs": [
    {
     "data": {
      "text/plain": [
       "'azul'"
      ]
     },
     "execution_count": 16,
     "metadata": {},
     "output_type": "execute_result"
    }
   ],
   "source": [
    "Auto.color "
   ]
  },
  {
   "cell_type": "code",
   "execution_count": null,
   "id": "819fc702",
   "metadata": {},
   "outputs": [],
   "source": []
  }
 ],
 "metadata": {
  "kernelspec": {
   "display_name": "Python 3 (ipykernel)",
   "language": "python",
   "name": "python3"
  },
  "language_info": {
   "codemirror_mode": {
    "name": "ipython",
    "version": 3
   },
   "file_extension": ".py",
   "mimetype": "text/x-python",
   "name": "python",
   "nbconvert_exporter": "python",
   "pygments_lexer": "ipython3",
   "version": "3.9.12"
  }
 },
 "nbformat": 4,
 "nbformat_minor": 5
}
