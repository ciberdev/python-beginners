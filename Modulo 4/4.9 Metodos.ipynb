{
 "cells": [
  {
   "cell_type": "markdown",
   "id": "e2f0b582",
   "metadata": {},
   "source": [
    "### Metodos en las clases"
   ]
  },
  {
   "cell_type": "code",
   "execution_count": 2,
   "id": "2f53e1b3",
   "metadata": {},
   "outputs": [],
   "source": [
    "class Perro:\n",
    "    #Atributo de clase\n",
    "    __especie = 'mamifero'\n",
    "    \n",
    "    def __init__(self, nombre, raza):\n",
    "        # Atributos de instancia\n",
    "        self.nombre = nombre\n",
    "        self.raza = raza\n",
    "        \n",
    "    def ladra(self):\n",
    "        print(\"guau\")\n",
    "        \n",
    "    def camina(self, pasos):\n",
    "        print(f\"Caminando {pasos} pasos\")\n",
    "        \n",
    "    def getEspecie(self):\n",
    "        print(self.__especie)\n",
    "        "
   ]
  },
  {
   "cell_type": "code",
   "execution_count": 3,
   "id": "4c26ee20",
   "metadata": {},
   "outputs": [
    {
     "name": "stdout",
     "output_type": "stream",
     "text": [
      "guau\n",
      "Caminando 25 pasos\n"
     ]
    }
   ],
   "source": [
    "mi_perro = Perro(\"Toby\",\"Bulldog\")\n",
    "mi_perro.ladra()\n",
    "mi_perro.camina(25)"
   ]
  },
  {
   "cell_type": "code",
   "execution_count": 4,
   "id": "50427188",
   "metadata": {},
   "outputs": [
    {
     "name": "stdout",
     "output_type": "stream",
     "text": [
      "mamifero\n"
     ]
    }
   ],
   "source": [
    "mi_perro.getEspecie()"
   ]
  },
  {
   "cell_type": "code",
   "execution_count": 5,
   "id": "dbdb32fa",
   "metadata": {},
   "outputs": [
    {
     "ename": "AttributeError",
     "evalue": "'Perro' object has no attribute '__especie'",
     "output_type": "error",
     "traceback": [
      "\u001b[1;31m---------------------------------------------------------------------------\u001b[0m",
      "\u001b[1;31mAttributeError\u001b[0m                            Traceback (most recent call last)",
      "Input \u001b[1;32mIn [5]\u001b[0m, in \u001b[0;36m<cell line: 1>\u001b[1;34m()\u001b[0m\n\u001b[1;32m----> 1\u001b[0m \u001b[43mmi_perro\u001b[49m\u001b[38;5;241;43m.\u001b[39;49m\u001b[43m__especie\u001b[49m\n",
      "\u001b[1;31mAttributeError\u001b[0m: 'Perro' object has no attribute '__especie'"
     ]
    }
   ],
   "source": [
    "mi_perro.__especie"
   ]
  },
  {
   "cell_type": "code",
   "execution_count": 7,
   "id": "373b76c9",
   "metadata": {},
   "outputs": [
    {
     "name": "stdout",
     "output_type": "stream",
     "text": [
      "x: 5\n",
      "y: 8\n"
     ]
    }
   ],
   "source": [
    "class Prueba:\n",
    "    propiedad = 10\n",
    "    def metodoinstancia(self, nuevo):\n",
    "        self.propiedad = nuevo\n",
    "        \n",
    "x = Prueba()\n",
    "y = Prueba()\n",
    "x.metodoinstancia(5)\n",
    "y.metodoinstancia(8)\n",
    "print(f\"x: {x.propiedad}\")\n",
    "print(f\"y: {y.propiedad}\")"
   ]
  },
  {
   "cell_type": "code",
   "execution_count": 8,
   "id": "79f51e40",
   "metadata": {},
   "outputs": [],
   "source": [
    "class Prueba:\n",
    "    propiedad = 10\n",
    "    \n",
    "    @classmethod\n",
    "    def metodoclase(cls, nuevo):\n",
    "        cls.propiedad = nuevo\n",
    "    \n",
    "    def metodoinstancia(self, nuevo):\n",
    "        self.propiedad = nuevo\n",
    "\n",
    "Prueba.metodoclase(15)\n",
    "x = Prueba()\n",
    "y = Prueba()\n",
    "x.metodoinstancia(7)"
   ]
  },
  {
   "cell_type": "code",
   "execution_count": 9,
   "id": "3b22e9ed",
   "metadata": {},
   "outputs": [
    {
     "name": "stdout",
     "output_type": "stream",
     "text": [
      "7\n",
      "15\n",
      "15\n"
     ]
    }
   ],
   "source": [
    "print(x.propiedad)\n",
    "print(y.propiedad)\n",
    "print(Prueba.propiedad)"
   ]
  },
  {
   "cell_type": "code",
   "execution_count": 12,
   "id": "4ab1202f",
   "metadata": {},
   "outputs": [
    {
     "name": "stdout",
     "output_type": "stream",
     "text": [
      "35\n"
     ]
    }
   ],
   "source": [
    "class Prueba:\n",
    "    \n",
    "    @staticmethod\n",
    "    def metodoestatico(x, y):\n",
    "        return x * y\n",
    "\n",
    "total = Prueba.metodoestatico(5 , 7)\n",
    "print(total)\n",
    "    "
   ]
  },
  {
   "cell_type": "code",
   "execution_count": null,
   "id": "7cd136a9",
   "metadata": {},
   "outputs": [],
   "source": []
  }
 ],
 "metadata": {
  "kernelspec": {
   "display_name": "Python 3 (ipykernel)",
   "language": "python",
   "name": "python3"
  },
  "language_info": {
   "codemirror_mode": {
    "name": "ipython",
    "version": 3
   },
   "file_extension": ".py",
   "mimetype": "text/x-python",
   "name": "python",
   "nbconvert_exporter": "python",
   "pygments_lexer": "ipython3",
   "version": "3.9.12"
  }
 },
 "nbformat": 4,
 "nbformat_minor": 5
}
