{
 "cells": [
  {
   "cell_type": "markdown",
   "id": "73fadd95",
   "metadata": {},
   "source": [
    "#### Modularización de Código"
   ]
  },
  {
   "cell_type": "code",
   "execution_count": 10,
   "id": "c2fcbeb5",
   "metadata": {},
   "outputs": [
    {
     "name": "stdout",
     "output_type": "stream",
     "text": [
      "Archivo generado: lista cifrada.txt\n"
     ]
    }
   ],
   "source": [
    "# El algoritmo de cifrado md5 se encuentra en la función hashlib.md5 de la libreria estándar.\n",
    "\n",
    "# Planteamos el problema:\n",
    "# Partiendo de una cadena de caracteres realizar las siguientes tareas\n",
    "# 1.- Separar la cadena mediante un caracter separador\n",
    "# 2.- Cifrar la cadena mediante el cifrado md5 para obtener su forma hex\n",
    "# 3.- Guardar cadena resultante en archivo de texto\n",
    "\n",
    "import hashlib\n",
    "\n",
    "def extraer(mi_cadena, sep=' '):\n",
    "    return mi_cadena.split(sep) # lo que devolvemos [\"Esta\", \"es\", \"una\", \"prueba\", \"de\", \"texto\"]\n",
    "\n",
    "def obtenerListaCifrada(identificadores):\n",
    "    md5s = [] #listado de cadenas cifradas\n",
    "    for identificador in identificadores:\n",
    "        temp = hashlib.md5(identificador.encode())\n",
    "        md5s.append(temp.hexdigest())\n",
    "    return md5s # Devolvemos una lista\n",
    "    \n",
    "def escribir_archivo(nuevos, nombre_archivo=\"out.txt\"):\n",
    "    with open(nombre_archivo, 'w') as file:\n",
    "        for item in nuevos:\n",
    "            file.write(item + '\\n')\n",
    "        file.close()\n",
    "        return nombre_archivo\n",
    "    \n",
    "################################################\n",
    "mi_cadena = 'Esta es una prueba de texto'\n",
    "1.\n",
    "identificadores = extraer(mi_cadena)   #retorna una lista\n",
    "\n",
    "2.\n",
    "nuevos = obtenerListaCifrada(identificadores) # retorna una lista con valores cifrados\n",
    "#print(type(nuevos))\n",
    "#print(nuevos)\n",
    "\n",
    "3.\n",
    "nombre_archivo = escribir_archivo(nuevos, \"lista cifrada.txt\")\n",
    "\n",
    "print(f\"Archivo generado: {nombre_archivo}\")\n",
    "\n",
    "################################################\n"
   ]
  },
  {
   "cell_type": "code",
   "execution_count": 17,
   "id": "2d7a27fa",
   "metadata": {},
   "outputs": [
    {
     "name": "stdout",
     "output_type": "stream",
     "text": [
      "Archivo generado: lista cifrada.json\n"
     ]
    }
   ],
   "source": [
    "# El algoritmo de cifrado md5 se encuentra en la función hashlib.md5 de la libreria estándar.\n",
    "\n",
    "# Planteamos el problema:\n",
    "# Partiendo de una cadena de caracteres realizar las siguientes tareas\n",
    "# 1.- Separar la cadena mediante un caracter separador\n",
    "# 2.- Cifrar la cadena mediante el cifrado md5 para obtener su forma hex\n",
    "# 3.- Guardar cadena resultante en archivo de texto\n",
    "\n",
    "import hashlib\n",
    "import json\n",
    "\n",
    "def obtenerListaCifrada256(identificadores):\n",
    "    md5s = [] #listado de cadenas cifradas\n",
    "    for identificador in identificadores:\n",
    "        temp = hashlib.sha256(identificador.encode())\n",
    "        #temp = hashlib.md5(identificador.encode())\n",
    "        md5s.append(temp.hexdigest())\n",
    "    return md5s # Devolvemos una lista\n",
    "    \n",
    "def escribir_json(data, nombre_archivo=\"out.json\"):\n",
    "    with open(nombre_archivo, 'w') as file:\n",
    "        json.dump(data, file)\n",
    "        file.close()\n",
    "    return nombre_archivo\n",
    "    \n",
    "################################################\n",
    "mi_cadena = 'Esta es una prueba de texto'\n",
    "1.\n",
    "identificadores = extraer(mi_cadena)   #retorna una lista\n",
    "\n",
    "2.\n",
    "nuevos = obtenerListaCifrada256(identificadores) # retorna una lista con valores cifrados\n",
    "\n",
    "3.\n",
    "nombre_archivo = escribir_json(nuevos, \"lista cifrada.json\")\n",
    "\n",
    "print(f\"Archivo generado: {nombre_archivo}\")\n",
    "\n",
    "################################################\n"
   ]
  },
  {
   "cell_type": "code",
   "execution_count": null,
   "id": "e0f43b2c",
   "metadata": {},
   "outputs": [],
   "source": []
  }
 ],
 "metadata": {
  "kernelspec": {
   "display_name": "Python 3 (ipykernel)",
   "language": "python",
   "name": "python3"
  },
  "language_info": {
   "codemirror_mode": {
    "name": "ipython",
    "version": 3
   },
   "file_extension": ".py",
   "mimetype": "text/x-python",
   "name": "python",
   "nbconvert_exporter": "python",
   "pygments_lexer": "ipython3",
   "version": "3.9.12"
  }
 },
 "nbformat": 4,
 "nbformat_minor": 5
}
