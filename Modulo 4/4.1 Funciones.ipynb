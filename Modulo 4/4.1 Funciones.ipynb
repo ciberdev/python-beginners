{
 "cells": [
  {
   "cell_type": "markdown",
   "id": "f22a3170",
   "metadata": {},
   "source": [
    "### Declaración de funciones"
   ]
  },
  {
   "cell_type": "code",
   "execution_count": 1,
   "id": "2d3a21c2",
   "metadata": {},
   "outputs": [],
   "source": [
    "def miFuncion():\n",
    "    pass"
   ]
  },
  {
   "cell_type": "code",
   "execution_count": 2,
   "id": "850e0ce1",
   "metadata": {},
   "outputs": [
    {
     "data": {
      "text/plain": [
       "1"
      ]
     },
     "execution_count": 2,
     "metadata": {},
     "output_type": "execute_result"
    }
   ],
   "source": [
    "def menor_valor(iter):\n",
    "    return min(iter)\n",
    "\n",
    "menor_valor([1, 2, 3, 4, 5])"
   ]
  },
  {
   "cell_type": "code",
   "execution_count": 11,
   "id": "d899a1bb",
   "metadata": {},
   "outputs": [
    {
     "data": {
      "text/plain": [
       "500"
      ]
     },
     "execution_count": 11,
     "metadata": {},
     "output_type": "execute_result"
    }
   ],
   "source": [
    "a = range(500,100000,2)\n",
    "menor_valor(a)"
   ]
  },
  {
   "cell_type": "code",
   "execution_count": 16,
   "id": "71d31b01",
   "metadata": {},
   "outputs": [
    {
     "data": {
      "text/plain": [
       "'3aria'"
      ]
     },
     "execution_count": 16,
     "metadata": {},
     "output_type": "execute_result"
    }
   ],
   "source": [
    "# Ordenamiento por caracteres\n",
    "menor_valor(['Juan', '3aria', 'Ana', 'ana'])"
   ]
  },
  {
   "cell_type": "code",
   "execution_count": 19,
   "id": "206e135b",
   "metadata": {},
   "outputs": [
    {
     "data": {
      "text/plain": [
       "'JYP'"
      ]
     },
     "execution_count": 19,
     "metadata": {},
     "output_type": "execute_result"
    }
   ],
   "source": [
    "def mostrar(cadena, sep=' '):\n",
    "    return ''.join(x[0].upper() for x in cadena.split(sep))  # [\"Juan\", \"y\", \"Pedro\"]\n",
    "\n",
    "palabras = \"Juan y Pedro\"\n",
    "mostrar(palabras) # JYP"
   ]
  },
  {
   "cell_type": "code",
   "execution_count": 20,
   "id": "109a3f11",
   "metadata": {},
   "outputs": [
    {
     "data": {
      "text/plain": [
       "'EULDLMDCNNQA'"
      ]
     },
     "execution_count": 20,
     "metadata": {},
     "output_type": "execute_result"
    }
   ],
   "source": [
    "a = \"En un lugar de La Mancha de cuyo nombre \\\n",
    "no quiero acordarme\"\n",
    "mostrar(a)"
   ]
  },
  {
   "cell_type": "code",
   "execution_count": 24,
   "id": "fe10dba5",
   "metadata": {},
   "outputs": [
    {
     "data": {
      "text/plain": [
       "'EÁDP'"
      ]
     },
     "execution_count": 24,
     "metadata": {},
     "output_type": "execute_result"
    }
   ],
   "source": [
    "mostrar(sep=',',cadena='el,árbol,del,parque')"
   ]
  },
  {
   "cell_type": "code",
   "execution_count": 26,
   "id": "e7d420d7",
   "metadata": {},
   "outputs": [
    {
     "name": "stdout",
     "output_type": "stream",
     "text": [
      "36.4\n",
      "5.0\n"
     ]
    }
   ],
   "source": [
    "# Paso de argumentos en funciones\n",
    "def division(num, denom=1):\n",
    "    return num / denom\n",
    "\n",
    "def permutaciones(num: int, veces: float)->float:\n",
    "    return num * veces\n",
    "\n",
    "a = permutaciones(5.2, 7)\n",
    "b = division(10,2)\n",
    "print(a)\n",
    "print(b)"
   ]
  },
  {
   "cell_type": "code",
   "execution_count": 27,
   "id": "747491f3",
   "metadata": {},
   "outputs": [
    {
     "data": {
      "text/plain": [
       "10.0"
      ]
     },
     "execution_count": 27,
     "metadata": {},
     "output_type": "execute_result"
    }
   ],
   "source": [
    "division(denom=3, num=30)"
   ]
  },
  {
   "cell_type": "code",
   "execution_count": null,
   "id": "8f8eb4b8",
   "metadata": {},
   "outputs": [],
   "source": []
  }
 ],
 "metadata": {
  "kernelspec": {
   "display_name": "Python 3 (ipykernel)",
   "language": "python",
   "name": "python3"
  },
  "language_info": {
   "codemirror_mode": {
    "name": "ipython",
    "version": 3
   },
   "file_extension": ".py",
   "mimetype": "text/x-python",
   "name": "python",
   "nbconvert_exporter": "python",
   "pygments_lexer": "ipython3",
   "version": "3.9.12"
  }
 },
 "nbformat": 4,
 "nbformat_minor": 5
}
