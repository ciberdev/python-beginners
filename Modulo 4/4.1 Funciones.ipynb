{
 "cells": [
  {
   "cell_type": "markdown",
   "id": "f22a3170",
   "metadata": {},
   "source": [
    "### Declaración de funciones"
   ]
  },
  {
   "cell_type": "code",
   "execution_count": null,
   "id": "2d3a21c2",
   "metadata": {},
   "outputs": [],
   "source": [
    "def miFuncion():\n",
    "    pass"
   ]
  },
  {
   "cell_type": "code",
   "execution_count": 26,
   "id": "850e0ce1",
   "metadata": {},
   "outputs": [
    {
     "data": {
      "text/plain": [
       "1"
      ]
     },
     "execution_count": 26,
     "metadata": {},
     "output_type": "execute_result"
    }
   ],
   "source": [
    "def menor_valor(iter):\n",
    "    return min(iter)\n",
    "\n",
    "milista = [1, 2, 3, 4, 5]\n",
    "menor_valor(milista)"
   ]
  },
  {
   "cell_type": "code",
   "execution_count": 27,
   "id": "d899a1bb",
   "metadata": {},
   "outputs": [
    {
     "data": {
      "text/plain": [
       "500"
      ]
     },
     "execution_count": 27,
     "metadata": {},
     "output_type": "execute_result"
    }
   ],
   "source": [
    "a = range(500,1000,2)\n",
    "menor_valor(a)"
   ]
  },
  {
   "cell_type": "code",
   "execution_count": null,
   "id": "71d31b01",
   "metadata": {},
   "outputs": [],
   "source": [
    "# Ordenamiento por caracteres\n",
    "menor_valor(['Juan', '3aria', 'Ana', 'ana'])"
   ]
  },
  {
   "cell_type": "code",
   "execution_count": 7,
   "id": "206e135b",
   "metadata": {},
   "outputs": [
    {
     "name": "stdout",
     "output_type": "stream",
     "text": [
      "NYOX\n",
      "AAESS\n"
     ]
    }
   ],
   "source": [
    "def mostrar(cadena, sep=\" \"):    \n",
    "    return ''.join(x[len(x)-1].upper() for x in cadena.split(sep))  # cadena.split(sep) => [\"Juan\", \"y\", \"Pedro\"]\n",
    "\n",
    "palabras = \"Juan y Pedro campitox\"\n",
    "print(mostrar(palabras))\n",
    "otras_palabras = \"cada,una,de,estas,palabras\"\n",
    "print(mostrar(otras_palabras, \",\"))"
   ]
  },
  {
   "cell_type": "code",
   "execution_count": 8,
   "id": "109a3f11",
   "metadata": {},
   "outputs": [
    {
     "data": {
      "text/plain": [
       "'NNREAAEOEOOE'"
      ]
     },
     "execution_count": 8,
     "metadata": {},
     "output_type": "execute_result"
    }
   ],
   "source": [
    "a = \"En un lugar de La Mancha de cuyo nombre \\\n",
    "no quiero acordarme\"\n",
    "mostrar(a)"
   ]
  },
  {
   "cell_type": "code",
   "execution_count": 9,
   "id": "fe10dba5",
   "metadata": {},
   "outputs": [
    {
     "data": {
      "text/plain": [
       "'LLLE'"
      ]
     },
     "execution_count": 9,
     "metadata": {},
     "output_type": "execute_result"
    }
   ],
   "source": [
    "mostrar(sep=',',cadena='el,árbol,del,parque')"
   ]
  },
  {
   "cell_type": "code",
   "execution_count": 25,
   "id": "e7d420d7",
   "metadata": {},
   "outputs": [
    {
     "name": "stdout",
     "output_type": "stream",
     "text": [
      "Ingrese valor x:25\n",
      "Ingrese valor y:5\n",
      "125\n",
      "5.0\n",
      "{'num': <class 'int'>, 'veces': <class 'float'>, 'return': <class 'float'>}\n"
     ]
    }
   ],
   "source": [
    "def leerParametros():\n",
    "    x = input(\"Ingrese valor x:\")\n",
    "    y = input(\"Ingrese valor y:\")    \n",
    "    return [int(x), int(y)]\n",
    "# Paso de argumentos en funciones\n",
    "def division(num, denom=1):\n",
    "    return num / denom\n",
    "\n",
    "def permutaciones(num: int, veces: float)->float:\n",
    "    return num * veces\n",
    "\n",
    "####################################################\n",
    "x,y = leerParametros()\n",
    "\n",
    "a = permutaciones(x, y)\n",
    "b = division(x,y)\n",
    "print(a)\n",
    "print(b)\n",
    "print(permutaciones.__annotations__)\n",
    "#####################################################\n"
   ]
  },
  {
   "cell_type": "code",
   "execution_count": 11,
   "id": "747491f3",
   "metadata": {},
   "outputs": [
    {
     "data": {
      "text/plain": [
       "10.0"
      ]
     },
     "execution_count": 11,
     "metadata": {},
     "output_type": "execute_result"
    }
   ],
   "source": [
    "division(denom=3, num=30)"
   ]
  },
  {
   "cell_type": "code",
   "execution_count": null,
   "id": "8f8eb4b8",
   "metadata": {},
   "outputs": [],
   "source": []
  }
 ],
 "metadata": {
  "kernelspec": {
   "display_name": "Python 3 (ipykernel)",
   "language": "python",
   "name": "python3"
  },
  "language_info": {
   "codemirror_mode": {
    "name": "ipython",
    "version": 3
   },
   "file_extension": ".py",
   "mimetype": "text/x-python",
   "name": "python",
   "nbconvert_exporter": "python",
   "pygments_lexer": "ipython3",
   "version": "3.9.12"
  }
 },
 "nbformat": 4,
 "nbformat_minor": 5
}
